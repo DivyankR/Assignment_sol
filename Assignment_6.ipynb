{
 "cells": [
  {
   "cell_type": "markdown",
   "id": "e318f95d",
   "metadata": {},
   "source": [
    "## Question 1:"
   ]
  },
  {
   "cell_type": "code",
   "execution_count": 1,
   "id": "c9096430",
   "metadata": {},
   "outputs": [
    {
     "name": "stdout",
     "output_type": "stream",
     "text": [
      "we are so called \"kings\" \n"
     ]
    }
   ],
   "source": [
    "# To use the characters that are not permissible in a string we can use escape characters.\n",
    "# An escape character is a backslash \\ followed by the character you want to insert.\n",
    "\n",
    "s = \"we are so called \\\"kings\\\" \"\n",
    "print(s)"
   ]
  },
  {
   "cell_type": "markdown",
   "id": "96f1a7d5",
   "metadata": {},
   "source": [
    "## Question 2:"
   ]
  },
  {
   "cell_type": "code",
   "execution_count": 2,
   "id": "a9ee0ee8",
   "metadata": {},
   "outputs": [
    {
     "name": "stdout",
     "output_type": "stream",
     "text": [
      "hi\n",
      "hello\n",
      "hi\thello\n"
     ]
    }
   ],
   "source": [
    "# n and t escape characters i.e. \\n and \\t are used to implement newline and tab functionality in a string\n",
    "\n",
    "print(\"hi\\nhello\")\n",
    "print(\"hi\\thello\")"
   ]
  },
  {
   "cell_type": "markdown",
   "id": "8341a57f",
   "metadata": {},
   "source": [
    "## Question 3:"
   ]
  },
  {
   "cell_type": "code",
   "execution_count": 3,
   "id": "bfa63f27",
   "metadata": {},
   "outputs": [
    {
     "name": "stdout",
     "output_type": "stream",
     "text": [
      "hi \\\n"
     ]
    }
   ],
   "source": [
    "# to include \\ in a string we can use \\\\.\n",
    "print(\"hi \\\\\")"
   ]
  },
  {
   "cell_type": "markdown",
   "id": "6c2802d7",
   "metadata": {},
   "source": [
    "## Question 4:"
   ]
  },
  {
   "cell_type": "code",
   "execution_count": 4,
   "id": "441c7a22",
   "metadata": {},
   "outputs": [
    {
     "name": "stdout",
     "output_type": "stream",
     "text": [
      "Howl's moving castle\n"
     ]
    }
   ],
   "source": [
    "s = \"Howl's moving castle\"\n",
    "print(s)\n",
    "\n",
    "# in above string if s was enclosed inside single quotes, then we would've encountered an error but since it is enclosed\n",
    "# within double quotes, it is working fine."
   ]
  },
  {
   "cell_type": "markdown",
   "id": "aef36b59",
   "metadata": {},
   "source": [
    "## Question 5"
   ]
  },
  {
   "cell_type": "code",
   "execution_count": 5,
   "id": "694b2fc3",
   "metadata": {},
   "outputs": [
    {
     "name": "stdout",
     "output_type": "stream",
     "text": [
      "hi\n",
      "\n",
      "\n",
      "world\n"
     ]
    }
   ],
   "source": [
    "# we can use print() without adding anything to use newline\n",
    "\n",
    "print('hi')\n",
    "print()\n",
    "print()\n",
    "print('world')"
   ]
  },
  {
   "cell_type": "markdown",
   "id": "b1dc20ad",
   "metadata": {},
   "source": [
    "## Question 6:"
   ]
  },
  {
   "cell_type": "code",
   "execution_count": 6,
   "id": "d3fcb118",
   "metadata": {},
   "outputs": [
    {
     "name": "stdout",
     "output_type": "stream",
     "text": [
      "e\n",
      "Hello\n",
      "Hello\n",
      "lo, world!\n"
     ]
    }
   ],
   "source": [
    "print('Hello, world!'[1])\n",
    "print('Hello, world!'[0:5])\n",
    "print('Hello, world!'[:5])\n",
    "print('Hello, world!'[3:])"
   ]
  },
  {
   "cell_type": "markdown",
   "id": "2ed0738e",
   "metadata": {},
   "source": [
    "## Question 7:"
   ]
  },
  {
   "cell_type": "code",
   "execution_count": 7,
   "id": "14681141",
   "metadata": {},
   "outputs": [
    {
     "name": "stdout",
     "output_type": "stream",
     "text": [
      "HELLO\n",
      "True\n",
      "hello\n"
     ]
    }
   ],
   "source": [
    "print(\"Hello\".upper())\n",
    "print(\"Hello\".upper().isupper())\n",
    "print(\"Hello\".upper().lower())"
   ]
  },
  {
   "cell_type": "markdown",
   "id": "6cc27e80",
   "metadata": {},
   "source": [
    "## Question 8:"
   ]
  },
  {
   "cell_type": "code",
   "execution_count": 8,
   "id": "8586f2d6",
   "metadata": {},
   "outputs": [
    {
     "name": "stdout",
     "output_type": "stream",
     "text": [
      "['Remember,', 'remember,', 'the', 'fifth', 'of', 'July']\n",
      "There-can-only-one.\n"
     ]
    }
   ],
   "source": [
    "print('Remember, remember, the fifth of July'.split())\n",
    "print('-'.join('There can only one.'.split()))"
   ]
  },
  {
   "cell_type": "markdown",
   "id": "d767282c",
   "metadata": {},
   "source": [
    "## Question 9:"
   ]
  },
  {
   "cell_type": "code",
   "execution_count": 9,
   "id": "5201cdc0",
   "metadata": {},
   "outputs": [],
   "source": [
    "# rjust(), ljust() and center() can be used for strings."
   ]
  },
  {
   "cell_type": "markdown",
   "id": "0e572e4a",
   "metadata": {},
   "source": [
    "## Question 10:"
   ]
  },
  {
   "cell_type": "code",
   "execution_count": 10,
   "id": "94a04bfd",
   "metadata": {},
   "outputs": [],
   "source": [
    "# we can use strip() function to remove whitespace characters from beginning and end of the string."
   ]
  },
  {
   "cell_type": "code",
   "execution_count": null,
   "id": "e5e16169",
   "metadata": {},
   "outputs": [],
   "source": []
  }
 ],
 "metadata": {
  "kernelspec": {
   "display_name": "Python 3 (ipykernel)",
   "language": "python",
   "name": "python3"
  },
  "language_info": {
   "codemirror_mode": {
    "name": "ipython",
    "version": 3
   },
   "file_extension": ".py",
   "mimetype": "text/x-python",
   "name": "python",
   "nbconvert_exporter": "python",
   "pygments_lexer": "ipython3",
   "version": "3.9.7"
  }
 },
 "nbformat": 4,
 "nbformat_minor": 5
}
