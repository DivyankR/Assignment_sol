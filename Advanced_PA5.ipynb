{
 "cells": [
  {
   "cell_type": "markdown",
   "id": "6ea5b391",
   "metadata": {},
   "source": [
    "## Question 1:"
   ]
  },
  {
   "cell_type": "code",
   "execution_count": 1,
   "id": "994420fa",
   "metadata": {},
   "outputs": [],
   "source": [
    "# When a child class inherits its properties from multiple parent classes,\n",
    "# this concept is called multiple inheritence"
   ]
  },
  {
   "cell_type": "code",
   "execution_count": 2,
   "id": "b3811554",
   "metadata": {},
   "outputs": [],
   "source": [
    "class A:\n",
    "    pass\n",
    "class B:\n",
    "    pass\n",
    "class AB(A,B):\n",
    "    pass"
   ]
  },
  {
   "cell_type": "markdown",
   "id": "9f9d086d",
   "metadata": {},
   "source": [
    "## Question 2:"
   ]
  },
  {
   "cell_type": "code",
   "execution_count": 3,
   "id": "feee259e",
   "metadata": {},
   "outputs": [],
   "source": [
    "# Delegation enables a proxy object for a class thay you want on top of the main class.\n",
    "# its like a wrapper to your class so that you can access limited resources of the main class.\n",
    "# it wraps the object of main class into a smaller object with limited access"
   ]
  },
  {
   "cell_type": "markdown",
   "id": "28727141",
   "metadata": {},
   "source": [
    "## Question 3:"
   ]
  },
  {
   "cell_type": "code",
   "execution_count": 4,
   "id": "323750df",
   "metadata": {},
   "outputs": [],
   "source": [
    "# composition is when a class refers to one or more other classes by using instances\n",
    "# of those classes as a instance variable.\n",
    "# irrespective of inheritence in this approach all the parent class members are not inherited into child class,\n",
    "# but only required methods from a class are used by using class instances."
   ]
  },
  {
   "cell_type": "code",
   "execution_count": 5,
   "id": "31b33d26",
   "metadata": {},
   "outputs": [
    {
     "name": "stdout",
     "output_type": "stream",
     "text": [
      "Total Salary : 9600\n"
     ]
    }
   ],
   "source": [
    "class Salary:\n",
    "    def __init__(self,pay):\n",
    "        self.pay = pay\n",
    "    def get_total(self):\n",
    "        return self.pay*12\n",
    "    \n",
    "class Employee:\n",
    "    def __init__(self,pay,bonus):\n",
    "        self.pay = pay\n",
    "        self.bonus = bonus\n",
    "        self.obj_salary = Salary(self.pay)\n",
    "    def annual_salary(self):\n",
    "        return f'Total Salary : {str(self.obj_salary.get_total())}'\n",
    "\n",
    "obj_emp = Employee(800,500)\n",
    "print(obj_emp.annual_salary())"
   ]
  },
  {
   "cell_type": "markdown",
   "id": "49fc6145",
   "metadata": {},
   "source": [
    "## Question 4:"
   ]
  },
  {
   "cell_type": "code",
   "execution_count": 6,
   "id": "cac9d7bb",
   "metadata": {},
   "outputs": [],
   "source": [
    "# if a function is an attribute of class and it is accessed via instances, it is called a bound method"
   ]
  },
  {
   "cell_type": "code",
   "execution_count": 7,
   "id": "eccdc987",
   "metadata": {},
   "outputs": [],
   "source": [
    "# A bound method is one that has self as its first argument"
   ]
  },
  {
   "cell_type": "code",
   "execution_count": 9,
   "id": "e5784347",
   "metadata": {},
   "outputs": [
    {
     "name": "stdout",
     "output_type": "stream",
     "text": [
      "Called method_1\n",
      "Called method_2\n",
      "Called method_2\n",
      "Called method_3\n"
     ]
    }
   ],
   "source": [
    "class display:\n",
    "    def method_1(self): # bound method\n",
    "        print(\"Called method_1\")\n",
    "    @classmethod\n",
    "    def method_2(cls): # unbound method\n",
    "        print(\"Called method_2\")\n",
    "    @staticmethod\n",
    "    def method_3(): # static method\n",
    "        print(\"Called method_3\")\n",
    "\n",
    "obj = display()\n",
    "obj.method_1() # accessing through instance object\n",
    "obj.method_2() # accessing through instance object\n",
    "display.method_2() # accessing directly through class\n",
    "display.method_3() # accessing directly through class"
   ]
  },
  {
   "cell_type": "markdown",
   "id": "c8d47d13",
   "metadata": {},
   "source": [
    "## Question 5:"
   ]
  },
  {
   "cell_type": "code",
   "execution_count": 10,
   "id": "c24cdcd6",
   "metadata": {},
   "outputs": [],
   "source": [
    "# Pseudoprivate attributes are also useful in larger frameworks or tools,\n",
    "# both to avoid introducing new method names that might accidentally hide definitions elsewhere in the class tree\n",
    "# and to reduce the chance of internal methods being replaced by names defined lower in the tree.\n",
    "# If a method is intended for use only within a class that may be mixed into other classes,\n",
    "# the double underscore prefix ensures that the method won't interfere with other names in the tree,\n",
    "# especially in multiple-inheritance scenarios"
   ]
  },
  {
   "cell_type": "code",
   "execution_count": null,
   "id": "b3313020",
   "metadata": {},
   "outputs": [],
   "source": []
  }
 ],
 "metadata": {
  "kernelspec": {
   "display_name": "Python 3 (ipykernel)",
   "language": "python",
   "name": "python3"
  },
  "language_info": {
   "codemirror_mode": {
    "name": "ipython",
    "version": 3
   },
   "file_extension": ".py",
   "mimetype": "text/x-python",
   "name": "python",
   "nbconvert_exporter": "python",
   "pygments_lexer": "ipython3",
   "version": "3.9.13"
  }
 },
 "nbformat": 4,
 "nbformat_minor": 5
}
