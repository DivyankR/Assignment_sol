{
 "cells": [
  {
   "cell_type": "markdown",
   "id": "3b9c33d8",
   "metadata": {},
   "source": [
    "# Question 1 :"
   ]
  },
  {
   "cell_type": "raw",
   "id": "f048ecf0",
   "metadata": {},
   "source": [
    "* : It is an expression or mathematical operator used to perform multiplication operation.\n",
    "\n",
    "'hello' : String value.\n",
    "\n",
    "-87.8 : Float value.\n",
    "\n",
    "- : It is an expression or mathematical operator used to perform subtraction operation.\n",
    "\n",
    "/ : It is an expression or mathematical operator used to perform division operation.\n",
    "\n",
    "+ : It is an expression or mathematical operator used to perform addition operation.\n",
    "\n",
    "6 : Integer value."
   ]
  },
  {
   "cell_type": "markdown",
   "id": "8305c21b",
   "metadata": {},
   "source": [
    "# Question 2 :\n",
    "### String : It is a datatype which is used to store text data by placing it in between single or double quotes in a particular variable.\n",
    "\n",
    "### Variable : It is used to store all kinds of datatypes such as integer, float, text(string), boolean etc."
   ]
  },
  {
   "cell_type": "code",
   "execution_count": 1,
   "id": "a8c5ff76",
   "metadata": {},
   "outputs": [],
   "source": [
    "# the difference is explained by the following example in below cells.\n",
    "s = \"divyank\" # this variable is of string datatype \n",
    "a = -32.3     # this variable is of float datatype "
   ]
  },
  {
   "cell_type": "code",
   "execution_count": 2,
   "id": "1f499e5b",
   "metadata": {},
   "outputs": [
    {
     "data": {
      "text/plain": [
       "str"
      ]
     },
     "execution_count": 2,
     "metadata": {},
     "output_type": "execute_result"
    }
   ],
   "source": [
    "type(s)"
   ]
  },
  {
   "cell_type": "code",
   "execution_count": 3,
   "id": "58592f2c",
   "metadata": {},
   "outputs": [
    {
     "data": {
      "text/plain": [
       "float"
      ]
     },
     "execution_count": 3,
     "metadata": {},
     "output_type": "execute_result"
    }
   ],
   "source": [
    "type(a)"
   ]
  },
  {
   "cell_type": "markdown",
   "id": "5568a2b6",
   "metadata": {},
   "source": [
    "# Question 3 : \n",
    "\n",
    "### str : It is a datatype which is used to store text data by placing it in between single or double quotes in a particular variable. \n",
    "\n",
    "### int : It is a datatype which is used to store integer value data in a particular variable.\n",
    "\n",
    "### float : It is a datatype which is used to store floating point numbers in a particular variable."
   ]
  },
  {
   "cell_type": "markdown",
   "id": "1dad1d64",
   "metadata": {},
   "source": [
    "# Question 4 :"
   ]
  },
  {
   "cell_type": "raw",
   "id": "e6fae0e3",
   "metadata": {},
   "source": [
    "Expression : Expression is made up of different operators and operands used to produce some other values.\n",
    "\n",
    "Expressions are used to perform some sort of calculations which produce some other values using some set of rules. These set of rules define how and when will be the operators and operands used."
   ]
  },
  {
   "cell_type": "markdown",
   "id": "eaad6edb",
   "metadata": {},
   "source": [
    "# Question 5 :"
   ]
  },
  {
   "cell_type": "raw",
   "id": "4ec26b97",
   "metadata": {},
   "source": [
    "Expressions:\n",
    "Expressions are evaluated to some sort of values. They are made up of different operators and operands.\n",
    "\n",
    "Statements: \n",
    "Statements usually perform some actions like printing a line, declaration of variables etc. It does whatever the coder demands it to do."
   ]
  },
  {
   "cell_type": "markdown",
   "id": "2d7d8a8a",
   "metadata": {},
   "source": [
    "# Question 6 :"
   ]
  },
  {
   "cell_type": "raw",
   "id": "19b5c496",
   "metadata": {},
   "source": [
    "bacon has been assigned 22. In the next statement, 1 is added to bacon but this will not change bacon's value because there is no assignment operator used in the statement. Therefore bacon will remain equal to 22. The code is shown in the below cells."
   ]
  },
  {
   "cell_type": "code",
   "execution_count": 4,
   "id": "b146f3b2",
   "metadata": {},
   "outputs": [],
   "source": [
    "bacon = 22"
   ]
  },
  {
   "cell_type": "code",
   "execution_count": 5,
   "id": "0864bf5e",
   "metadata": {},
   "outputs": [
    {
     "data": {
      "text/plain": [
       "23"
      ]
     },
     "execution_count": 5,
     "metadata": {},
     "output_type": "execute_result"
    }
   ],
   "source": [
    "bacon + 1"
   ]
  },
  {
   "cell_type": "code",
   "execution_count": 6,
   "id": "8d3979de",
   "metadata": {},
   "outputs": [
    {
     "data": {
      "text/plain": [
       "22"
      ]
     },
     "execution_count": 6,
     "metadata": {},
     "output_type": "execute_result"
    }
   ],
   "source": [
    "bacon"
   ]
  },
  {
   "cell_type": "markdown",
   "id": "4920c303",
   "metadata": {},
   "source": [
    "# Question 7 :"
   ]
  },
  {
   "cell_type": "code",
   "execution_count": 7,
   "id": "c00e5e1e",
   "metadata": {},
   "outputs": [
    {
     "data": {
      "text/plain": [
       "'spamspamspam'"
      ]
     },
     "execution_count": 7,
     "metadata": {},
     "output_type": "execute_result"
    }
   ],
   "source": [
    "'spam' + 'spamspam'"
   ]
  },
  {
   "cell_type": "code",
   "execution_count": 8,
   "id": "84fc2270",
   "metadata": {},
   "outputs": [
    {
     "data": {
      "text/plain": [
       "'spamspamspam'"
      ]
     },
     "execution_count": 8,
     "metadata": {},
     "output_type": "execute_result"
    }
   ],
   "source": [
    "'spam' * 3"
   ]
  },
  {
   "cell_type": "raw",
   "id": "789ea04f",
   "metadata": {},
   "source": [
    "As we can see from the above code, both the statements will return the same output."
   ]
  },
  {
   "cell_type": "markdown",
   "id": "348ccf35",
   "metadata": {},
   "source": [
    "# Question 8 :"
   ]
  },
  {
   "cell_type": "raw",
   "id": "26525616",
   "metadata": {},
   "source": [
    "According to the variable naming conventions of python, a variable name cannot start with a number. Therefore, 100 is an invalid variable name. But we can name a variable whose name starts with a letter. Therefore, eggs is a valid variable name."
   ]
  },
  {
   "cell_type": "markdown",
   "id": "b7843f2a",
   "metadata": {},
   "source": [
    "# Question 9 :"
   ]
  },
  {
   "cell_type": "raw",
   "id": "4c0737eb",
   "metadata": {},
   "source": [
    "int(),float() and str() can be used to get integer, floating point number and string version of a value. Below is an example for the same:"
   ]
  },
  {
   "cell_type": "code",
   "execution_count": 9,
   "id": "739ac840",
   "metadata": {},
   "outputs": [],
   "source": [
    "number = '1812'"
   ]
  },
  {
   "cell_type": "code",
   "execution_count": 10,
   "id": "bbdcda26",
   "metadata": {},
   "outputs": [
    {
     "data": {
      "text/plain": [
       "1812"
      ]
     },
     "execution_count": 10,
     "metadata": {},
     "output_type": "execute_result"
    }
   ],
   "source": [
    "int(number)"
   ]
  },
  {
   "cell_type": "code",
   "execution_count": 11,
   "id": "5733e07c",
   "metadata": {},
   "outputs": [
    {
     "data": {
      "text/plain": [
       "1812.0"
      ]
     },
     "execution_count": 11,
     "metadata": {},
     "output_type": "execute_result"
    }
   ],
   "source": [
    "float(number)"
   ]
  },
  {
   "cell_type": "code",
   "execution_count": 12,
   "id": "c9a7a2e4",
   "metadata": {},
   "outputs": [
    {
     "data": {
      "text/plain": [
       "'1812'"
      ]
     },
     "execution_count": 12,
     "metadata": {},
     "output_type": "execute_result"
    }
   ],
   "source": [
    "str(number)"
   ]
  },
  {
   "cell_type": "markdown",
   "id": "fa6c502b",
   "metadata": {},
   "source": [
    "# Question 10 :"
   ]
  },
  {
   "cell_type": "raw",
   "id": "b956676e",
   "metadata": {},
   "source": [
    "The given expression gives an error because 'I have eaten' and 'burritos' are having string datatypes and 99 is having integer datatype. Therefore, we have to convert it to string datatype to concatenate it to above strings. It is done in below cells:"
   ]
  },
  {
   "cell_type": "code",
   "execution_count": 13,
   "id": "4acdd38c",
   "metadata": {},
   "outputs": [
    {
     "data": {
      "text/plain": [
       "'I have eaten 99 burritos.'"
      ]
     },
     "execution_count": 13,
     "metadata": {},
     "output_type": "execute_result"
    }
   ],
   "source": [
    "'I have eaten ' + '99' + ' burritos.'"
   ]
  },
  {
   "cell_type": "code",
   "execution_count": null,
   "id": "8bc0efdd",
   "metadata": {},
   "outputs": [],
   "source": []
  }
 ],
 "metadata": {
  "kernelspec": {
   "display_name": "Python 3 (ipykernel)",
   "language": "python",
   "name": "python3"
  },
  "language_info": {
   "codemirror_mode": {
    "name": "ipython",
    "version": 3
   },
   "file_extension": ".py",
   "mimetype": "text/x-python",
   "name": "python",
   "nbconvert_exporter": "python",
   "pygments_lexer": "ipython3",
   "version": "3.9.7"
  }
 },
 "nbformat": 4,
 "nbformat_minor": 5
}
