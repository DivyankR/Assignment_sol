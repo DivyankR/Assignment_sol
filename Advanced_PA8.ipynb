{
 "cells": [
  {
   "cell_type": "markdown",
   "id": "f710c0f4",
   "metadata": {},
   "source": [
    "## Question 1:"
   ]
  },
  {
   "cell_type": "code",
   "execution_count": 1,
   "id": "fa645ba1",
   "metadata": {},
   "outputs": [],
   "source": [
    "# raise and assert are two user defined exception constraints in Python 3.X"
   ]
  },
  {
   "cell_type": "markdown",
   "id": "c1e6d78b",
   "metadata": {},
   "source": [
    "## Question 2:"
   ]
  },
  {
   "cell_type": "code",
   "execution_count": 2,
   "id": "a1f163ba",
   "metadata": {},
   "outputs": [],
   "source": [
    "# In python, Users can define custom exceptions by creating a new class. This exception class has to be derived,\n",
    "# either directly or indirectly from built-in Exception class. This new exception class like other exceptions can be raised using the \n",
    "# raise statement with an optional error message."
   ]
  },
  {
   "cell_type": "code",
   "execution_count": 3,
   "id": "d8dca4f2",
   "metadata": {},
   "outputs": [
    {
     "ename": "NotEligible",
     "evalue": "too young to have a driving license",
     "output_type": "error",
     "traceback": [
      "\u001b[0;31m---------------------------------------------------------------------------\u001b[0m",
      "\u001b[0;31mNotEligible\u001b[0m                               Traceback (most recent call last)",
      "\u001b[0;32m/var/folders/7k/zrs4dx8d5bvdn3rjcd_08knr0000gn/T/ipykernel_56497/801616005.py\u001b[0m in \u001b[0;36m<module>\u001b[0;34m\u001b[0m\n\u001b[1;32m      4\u001b[0m \u001b[0;34m\u001b[0m\u001b[0m\n\u001b[1;32m      5\u001b[0m \u001b[0mage\u001b[0m \u001b[0;34m=\u001b[0m \u001b[0;36m17\u001b[0m\u001b[0;34m\u001b[0m\u001b[0;34m\u001b[0m\u001b[0m\n\u001b[0;32m----> 6\u001b[0;31m \u001b[0;32mif\u001b[0m \u001b[0mage\u001b[0m\u001b[0;34m<=\u001b[0m\u001b[0;36m18\u001b[0m\u001b[0;34m:\u001b[0m \u001b[0;32mraise\u001b[0m \u001b[0mNotEligible\u001b[0m\u001b[0;34m(\u001b[0m\u001b[0;34m'too young to have a driving license'\u001b[0m\u001b[0;34m)\u001b[0m\u001b[0;34m\u001b[0m\u001b[0;34m\u001b[0m\u001b[0m\n\u001b[0m",
      "\u001b[0;31mNotEligible\u001b[0m: too young to have a driving license"
     ]
    }
   ],
   "source": [
    "class NotEligible(Exception):\n",
    "    def __init__(self,age):\n",
    "        self.age = age\n",
    "        \n",
    "age = 17\n",
    "if age<=18: raise NotEligible('too young to have a driving license')"
   ]
  },
  {
   "cell_type": "markdown",
   "id": "04f1f935",
   "metadata": {},
   "source": [
    "## Question 3:"
   ]
  },
  {
   "cell_type": "code",
   "execution_count": 4,
   "id": "482b5a60",
   "metadata": {},
   "outputs": [],
   "source": [
    "# The process() method of LoggerAdapter is where the contextual information is added to the logging output.\n",
    "# Other method that can be used is exception(), Logs a messgae with level ERROR on this logger. \n",
    "# The arguments are interpreted as for debug(). Exception info is added to the logging message."
   ]
  },
  {
   "cell_type": "markdown",
   "id": "e88bc865",
   "metadata": {},
   "source": [
    "## Question 4:"
   ]
  },
  {
   "cell_type": "code",
   "execution_count": 5,
   "id": "4ad2c55b",
   "metadata": {},
   "outputs": [],
   "source": [
    "# raise and assert are two methods used to specify the text of an exception object's error message."
   ]
  },
  {
   "cell_type": "markdown",
   "id": "e23027d3",
   "metadata": {},
   "source": [
    "## Question 5:"
   ]
  },
  {
   "cell_type": "code",
   "execution_count": 6,
   "id": "585a935f",
   "metadata": {},
   "outputs": [],
   "source": [
    "# String-based Exceptions doesn't inherit from Exceptions.\n",
    "# so plain exceptions catch all exceptions and not only system."
   ]
  },
  {
   "cell_type": "code",
   "execution_count": null,
   "id": "f9d398cf",
   "metadata": {},
   "outputs": [],
   "source": []
  }
 ],
 "metadata": {
  "kernelspec": {
   "display_name": "Python 3 (ipykernel)",
   "language": "python",
   "name": "python3"
  },
  "language_info": {
   "codemirror_mode": {
    "name": "ipython",
    "version": 3
   },
   "file_extension": ".py",
   "mimetype": "text/x-python",
   "name": "python",
   "nbconvert_exporter": "python",
   "pygments_lexer": "ipython3",
   "version": "3.9.13"
  }
 },
 "nbformat": 4,
 "nbformat_minor": 5
}
