{
 "cells": [
  {
   "cell_type": "markdown",
   "id": "d8ebb856",
   "metadata": {},
   "source": [
    "## Question 1:"
   ]
  },
  {
   "cell_type": "code",
   "execution_count": 1,
   "id": "704ed624",
   "metadata": {},
   "outputs": [],
   "source": [
    "# __iter__ and __next__ are the operator overloading methods in python that support iteration and they together are \n",
    "# called iterator protocol.\n",
    "\n",
    "# __iter__ returns the iterator object and is called at the start of loop in our respective class.\n",
    "# __next__ is called at each loop increment, it returns the incremented value. Also Stopiteration is raised when there is no value to return."
   ]
  },
  {
   "cell_type": "markdown",
   "id": "3c883aab",
   "metadata": {},
   "source": [
    "## Question 2:"
   ]
  },
  {
   "cell_type": "code",
   "execution_count": 2,
   "id": "1792803b",
   "metadata": {},
   "outputs": [],
   "source": [
    "# __str__ and __repr__ are two operator overloading methods that manage printing.\n",
    "\n",
    "# the difference between these operators is the goal of __repr__ is to be unambiguous and __str__ is to be readable.\n",
    "# if we are printing any object reference internally __str__ method will be called by default.\n",
    "# purpose of __str__ is for readability. it prints the informal string representation of an object,\n",
    "# one that is useful for printing the object. it may not be possible to convert result string to original object.\n",
    "\n",
    "# __repr__ is used to print official string representation of an object, so it includes all information and development."
   ]
  },
  {
   "cell_type": "markdown",
   "id": "4631df1b",
   "metadata": {},
   "source": [
    "## Question 3:"
   ]
  },
  {
   "cell_type": "code",
   "execution_count": 3,
   "id": "ccfb1db7",
   "metadata": {},
   "outputs": [],
   "source": [
    "# slice() in __getitem__ method is used to intercept slice operation.\n",
    "# slice method is provided with start integer number, stop integer number and step integer number.\n",
    "\n",
    "# Example: __getitem__(slice(start_int,stop_int,step_int))"
   ]
  },
  {
   "cell_type": "markdown",
   "id": "af4b888c",
   "metadata": {},
   "source": [
    "## Question 4:"
   ]
  },
  {
   "cell_type": "code",
   "execution_count": 5,
   "id": "7efb9b4b",
   "metadata": {},
   "outputs": [
    {
     "name": "stdout",
     "output_type": "stream",
     "text": [
      "102\n"
     ]
    }
   ],
   "source": [
    "# a+=b is inplace addition operation. In this in-place addition a itself will store the value of addition. \n",
    "# for a class, __iadd__ method is used for in-place operation.\n",
    "\n",
    "\n",
    "class Batsman:\n",
    "    def __init__(self,runs):\n",
    "        self.runs = runs\n",
    "    def __iadd__(self,extras):\n",
    "        self.runs += extras.runs\n",
    "        return self.runs\n",
    "        \n",
    "b1 = Batsman(100)\n",
    "b2 = Batsman(2)\n",
    "b1+=b2\n",
    "print(b1)"
   ]
  },
  {
   "cell_type": "markdown",
   "id": "9c0a685c",
   "metadata": {},
   "source": [
    "## Question 5:"
   ]
  },
  {
   "cell_type": "code",
   "execution_count": 6,
   "id": "0a0378bd",
   "metadata": {},
   "outputs": [],
   "source": [
    "# It is used when we want to use an operator other than its normal operation to have different meanings \n",
    "# which suits according to the situation required in user defined function."
   ]
  },
  {
   "cell_type": "code",
   "execution_count": 9,
   "id": "48942df0",
   "metadata": {},
   "outputs": [
    {
     "name": "stdout",
     "output_type": "stream",
     "text": [
      "total no. of runs-> 102\n"
     ]
    }
   ],
   "source": [
    "class Batsman:\n",
    "    def __init__(self,runs):\n",
    "        self.runs = runs\n",
    "    def __add__(self,extras):\n",
    "        return self.runs+extras.runs\n",
    "        \n",
    "b1 = Batsman(100)\n",
    "b2 = Batsman(2)\n",
    "print(f'total no. of runs-> {b1+b2}')"
   ]
  },
  {
   "cell_type": "code",
   "execution_count": null,
   "id": "41b7c330",
   "metadata": {},
   "outputs": [],
   "source": []
  }
 ],
 "metadata": {
  "kernelspec": {
   "display_name": "Python 3 (ipykernel)",
   "language": "python",
   "name": "python3"
  },
  "language_info": {
   "codemirror_mode": {
    "name": "ipython",
    "version": 3
   },
   "file_extension": ".py",
   "mimetype": "text/x-python",
   "name": "python",
   "nbconvert_exporter": "python",
   "pygments_lexer": "ipython3",
   "version": "3.9.13"
  }
 },
 "nbformat": 4,
 "nbformat_minor": 5
}
