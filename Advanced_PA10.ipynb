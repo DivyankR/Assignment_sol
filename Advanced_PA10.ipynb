{
 "cells": [
  {
   "cell_type": "markdown",
   "id": "f4fecfc8",
   "metadata": {},
   "source": [
    "## Question 1:"
   ]
  },
  {
   "cell_type": "code",
   "execution_count": 1,
   "id": "54676e6f",
   "metadata": {},
   "outputs": [],
   "source": [
    "# __getattr__ is called when control cant find any attribute in the instance. This happens at the very last(lowest priority)"
   ]
  },
  {
   "cell_type": "code",
   "execution_count": 2,
   "id": "8dde950d",
   "metadata": {},
   "outputs": [],
   "source": [
    "# __getattribute__ is called everytime whether there is an attribute present or not. It is innvoked very first.(highest priority)"
   ]
  },
  {
   "cell_type": "markdown",
   "id": "c29bd12c",
   "metadata": {},
   "source": [
    "## Question 2:"
   ]
  },
  {
   "cell_type": "code",
   "execution_count": 3,
   "id": "2bb13851",
   "metadata": {},
   "outputs": [],
   "source": [
    "# property is a decorator which can be used to enable us to use methods as attributes in a python code\n",
    "# in easy language it enables us to use getters and setters in OOP"
   ]
  },
  {
   "cell_type": "code",
   "execution_count": 4,
   "id": "9e0ec6ff",
   "metadata": {},
   "outputs": [],
   "source": [
    "# Python descriptors are created to manage the attributes of different classes which use the object as reference.\n",
    "#In descriptors we used three different methods that are __getters__(), __setters__(), and __delete__()."
   ]
  },
  {
   "cell_type": "markdown",
   "id": "28e8b108",
   "metadata": {},
   "source": [
    "## Question 3:"
   ]
  },
  {
   "cell_type": "code",
   "execution_count": 5,
   "id": "696f9bc3",
   "metadata": {},
   "outputs": [],
   "source": [
    "# descriptor and property functionality"
   ]
  },
  {
   "cell_type": "code",
   "execution_count": 6,
   "id": "cc27ffd5",
   "metadata": {},
   "outputs": [
    {
     "name": "stdout",
     "output_type": "stream",
     "text": [
      "ComputerforComputer\n"
     ]
    }
   ],
   "source": [
    "class Descriptor(object):\n",
    "\n",
    "    def __init__(self, name =''):\n",
    "        self.name = name\n",
    "\n",
    "    def __get__(self, obj, objtype):\n",
    "        return \"{}for{}\".format(self.name, self.name)\n",
    "\n",
    "    def __set__(self, obj, name):\n",
    "        if isinstance(name, str):\n",
    "            self.name = name\n",
    "        else:\n",
    "            raise TypeError(\"Name should be string\")\n",
    "            \n",
    "class GFG(object):\n",
    "    name = Descriptor()\n",
    "\n",
    "g = GFG()\n",
    "g.name = \"Computer\"\n",
    "print(g.name)\n"
   ]
  },
  {
   "cell_type": "code",
   "execution_count": 7,
   "id": "9bfb1da4",
   "metadata": {},
   "outputs": [
    {
     "name": "stdout",
     "output_type": "stream",
     "text": [
      "Setting value...\n",
      "Getting value...\n",
      "37\n",
      "Getting value...\n",
      "98.60000000000001\n",
      "Setting value...\n"
     ]
    },
    {
     "ename": "ValueError",
     "evalue": "Temperature below -273 is not possible",
     "output_type": "error",
     "traceback": [
      "\u001b[0;31m---------------------------------------------------------------------------\u001b[0m",
      "\u001b[0;31mValueError\u001b[0m                                Traceback (most recent call last)",
      "\u001b[0;32m/var/folders/7k/zrs4dx8d5bvdn3rjcd_08knr0000gn/T/ipykernel_16978/4149065801.py\u001b[0m in \u001b[0;36m<module>\u001b[0;34m\u001b[0m\n\u001b[1;32m     25\u001b[0m \u001b[0mprint\u001b[0m\u001b[0;34m(\u001b[0m\u001b[0mhuman\u001b[0m\u001b[0;34m.\u001b[0m\u001b[0mto_fahrenheit\u001b[0m\u001b[0;34m(\u001b[0m\u001b[0;34m)\u001b[0m\u001b[0;34m)\u001b[0m\u001b[0;34m\u001b[0m\u001b[0;34m\u001b[0m\u001b[0m\n\u001b[1;32m     26\u001b[0m \u001b[0;34m\u001b[0m\u001b[0m\n\u001b[0;32m---> 27\u001b[0;31m \u001b[0mcoldest_thing\u001b[0m \u001b[0;34m=\u001b[0m \u001b[0mCelsius\u001b[0m\u001b[0;34m(\u001b[0m\u001b[0;34m-\u001b[0m\u001b[0;36m300\u001b[0m\u001b[0;34m)\u001b[0m\u001b[0;34m\u001b[0m\u001b[0;34m\u001b[0m\u001b[0m\n\u001b[0m",
      "\u001b[0;32m/var/folders/7k/zrs4dx8d5bvdn3rjcd_08knr0000gn/T/ipykernel_16978/4149065801.py\u001b[0m in \u001b[0;36m__init__\u001b[0;34m(self, temperature)\u001b[0m\n\u001b[1;32m      2\u001b[0m \u001b[0;32mclass\u001b[0m \u001b[0mCelsius\u001b[0m\u001b[0;34m:\u001b[0m\u001b[0;34m\u001b[0m\u001b[0;34m\u001b[0m\u001b[0m\n\u001b[1;32m      3\u001b[0m     \u001b[0;32mdef\u001b[0m \u001b[0m__init__\u001b[0m\u001b[0;34m(\u001b[0m\u001b[0mself\u001b[0m\u001b[0;34m,\u001b[0m \u001b[0mtemperature\u001b[0m\u001b[0;34m=\u001b[0m\u001b[0;36m0\u001b[0m\u001b[0;34m)\u001b[0m\u001b[0;34m:\u001b[0m\u001b[0;34m\u001b[0m\u001b[0;34m\u001b[0m\u001b[0m\n\u001b[0;32m----> 4\u001b[0;31m         \u001b[0mself\u001b[0m\u001b[0;34m.\u001b[0m\u001b[0mtemperature\u001b[0m \u001b[0;34m=\u001b[0m \u001b[0mtemperature\u001b[0m\u001b[0;34m\u001b[0m\u001b[0;34m\u001b[0m\u001b[0m\n\u001b[0m\u001b[1;32m      5\u001b[0m \u001b[0;34m\u001b[0m\u001b[0m\n\u001b[1;32m      6\u001b[0m     \u001b[0;32mdef\u001b[0m \u001b[0mto_fahrenheit\u001b[0m\u001b[0;34m(\u001b[0m\u001b[0mself\u001b[0m\u001b[0;34m)\u001b[0m\u001b[0;34m:\u001b[0m\u001b[0;34m\u001b[0m\u001b[0;34m\u001b[0m\u001b[0m\n",
      "\u001b[0;32m/var/folders/7k/zrs4dx8d5bvdn3rjcd_08knr0000gn/T/ipykernel_16978/4149065801.py\u001b[0m in \u001b[0;36mtemperature\u001b[0;34m(self, value)\u001b[0m\n\u001b[1;32m     16\u001b[0m         \u001b[0mprint\u001b[0m\u001b[0;34m(\u001b[0m\u001b[0;34m\"Setting value...\"\u001b[0m\u001b[0;34m)\u001b[0m\u001b[0;34m\u001b[0m\u001b[0;34m\u001b[0m\u001b[0m\n\u001b[1;32m     17\u001b[0m         \u001b[0;32mif\u001b[0m \u001b[0mvalue\u001b[0m \u001b[0;34m<\u001b[0m \u001b[0;34m-\u001b[0m\u001b[0;36m273.15\u001b[0m\u001b[0;34m:\u001b[0m\u001b[0;34m\u001b[0m\u001b[0;34m\u001b[0m\u001b[0m\n\u001b[0;32m---> 18\u001b[0;31m             \u001b[0;32mraise\u001b[0m \u001b[0mValueError\u001b[0m\u001b[0;34m(\u001b[0m\u001b[0;34m\"Temperature below -273 is not possible\"\u001b[0m\u001b[0;34m)\u001b[0m\u001b[0;34m\u001b[0m\u001b[0;34m\u001b[0m\u001b[0m\n\u001b[0m\u001b[1;32m     19\u001b[0m         \u001b[0mself\u001b[0m\u001b[0;34m.\u001b[0m\u001b[0m_temperature\u001b[0m \u001b[0;34m=\u001b[0m \u001b[0mvalue\u001b[0m\u001b[0;34m\u001b[0m\u001b[0;34m\u001b[0m\u001b[0m\n\u001b[1;32m     20\u001b[0m \u001b[0;34m\u001b[0m\u001b[0m\n",
      "\u001b[0;31mValueError\u001b[0m: Temperature below -273 is not possible"
     ]
    }
   ],
   "source": [
    "# Using @property decorator\n",
    "class Celsius:\n",
    "    def __init__(self, temperature=0):\n",
    "        self.temperature = temperature\n",
    "\n",
    "    def to_fahrenheit(self):\n",
    "        return (self.temperature * 1.8) + 32\n",
    "\n",
    "    @property\n",
    "    def temperature(self):\n",
    "        print(\"Getting value...\")\n",
    "        return self._temperature\n",
    "\n",
    "    @temperature.setter\n",
    "    def temperature(self, value):\n",
    "        print(\"Setting value...\")\n",
    "        if value < -273.15:\n",
    "            raise ValueError(\"Temperature below -273 is not possible\")\n",
    "        self._temperature = value\n",
    "\n",
    "human = Celsius(37)\n",
    "\n",
    "print(human.temperature)\n",
    "\n",
    "print(human.to_fahrenheit())\n",
    "\n",
    "coldest_thing = Celsius(-300)"
   ]
  },
  {
   "cell_type": "code",
   "execution_count": 8,
   "id": "67f5d14b",
   "metadata": {},
   "outputs": [],
   "source": [
    "# __getattr__ and __getattribute__ functionality differences"
   ]
  },
  {
   "cell_type": "code",
   "execution_count": 9,
   "id": "3b153803",
   "metadata": {},
   "outputs": [
    {
     "name": "stdout",
     "output_type": "stream",
     "text": [
      "hi guys\n",
      "hellokr2\n"
     ]
    }
   ],
   "source": [
    "class cl:\n",
    "    def __getattr__(self,name):\n",
    "        return('hello'+name)\n",
    "\n",
    "a = cl()\n",
    "a.kr = 'hi guys'\n",
    "print(a.kr)\n",
    "print(a.kr2)"
   ]
  },
  {
   "cell_type": "code",
   "execution_count": 10,
   "id": "28f8e94f",
   "metadata": {},
   "outputs": [
    {
     "name": "stdout",
     "output_type": "stream",
     "text": [
      "hikr\n",
      "hikr2\n"
     ]
    }
   ],
   "source": [
    "class cl1:\n",
    "    def __getattr__(self,name):\n",
    "        return('hello'+name)\n",
    "    def __getattribute__(self,name):\n",
    "        return('hi'+name)\n",
    "    \n",
    "a = cl1()\n",
    "a.kr = 'hi everyone'\n",
    "print(a.kr)\n",
    "print(a.kr2)"
   ]
  },
  {
   "cell_type": "code",
   "execution_count": null,
   "id": "0bb84dce",
   "metadata": {},
   "outputs": [],
   "source": []
  }
 ],
 "metadata": {
  "kernelspec": {
   "display_name": "Python 3 (ipykernel)",
   "language": "python",
   "name": "python3"
  },
  "language_info": {
   "codemirror_mode": {
    "name": "ipython",
    "version": 3
   },
   "file_extension": ".py",
   "mimetype": "text/x-python",
   "name": "python",
   "nbconvert_exporter": "python",
   "pygments_lexer": "ipython3",
   "version": "3.9.7"
  }
 },
 "nbformat": 4,
 "nbformat_minor": 5
}
