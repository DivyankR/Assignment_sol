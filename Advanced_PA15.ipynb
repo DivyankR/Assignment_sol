{
 "cells": [
  {
   "cell_type": "markdown",
   "id": "31ec035f",
   "metadata": {},
   "source": [
    "## Question 1:"
   ]
  },
  {
   "cell_type": "code",
   "execution_count": 1,
   "id": "9914900f",
   "metadata": {},
   "outputs": [],
   "source": [
    "# 1. walrus operator(can be used for assignment expression)"
   ]
  },
  {
   "cell_type": "code",
   "execution_count": 2,
   "id": "bb36b97a",
   "metadata": {},
   "outputs": [
    {
     "name": "stdout",
     "output_type": "stream",
     "text": [
      "Length of list is small,size=5\n"
     ]
    }
   ],
   "source": [
    "n = [1,2,3,4,5]\n",
    "if( (size:=len(n)) < 10 ):\n",
    "    print(f\"Length of list is small,size={size}\")"
   ]
  },
  {
   "cell_type": "code",
   "execution_count": 3,
   "id": "323c27ff",
   "metadata": {},
   "outputs": [],
   "source": [
    "# 2. f strings now support = operator"
   ]
  },
  {
   "cell_type": "code",
   "execution_count": 4,
   "id": "4c75babf",
   "metadata": {},
   "outputs": [
    {
     "name": "stdout",
     "output_type": "stream",
     "text": [
      "a=5\n"
     ]
    }
   ],
   "source": [
    "a=5\n",
    "print(f\"{a=}\")"
   ]
  },
  {
   "cell_type": "code",
   "execution_count": 5,
   "id": "8a6af909",
   "metadata": {},
   "outputs": [],
   "source": [
    "# 3. positional only arguments:\n",
    "# there is a new function parameter syntax (/) to hoghlight that some of the functions must be stated positionally and\n",
    "# not by keyword"
   ]
  },
  {
   "cell_type": "code",
   "execution_count": 6,
   "id": "718ae9a0",
   "metadata": {},
   "outputs": [],
   "source": [
    "def func( a,b,/,c,d,*,e,f ):\n",
    "    print(a,b,c,d,e,f )"
   ]
  },
  {
   "cell_type": "code",
   "execution_count": 7,
   "id": "14209517",
   "metadata": {},
   "outputs": [
    {
     "name": "stdout",
     "output_type": "stream",
     "text": [
      "1 2 3 4 5 6\n",
      "1 2 3 4 5 6\n"
     ]
    }
   ],
   "source": [
    "func(1,2, 3,4, e=5, f=6 ) #Valid - prints 1 2 3 4 5 6\n",
    "func(1,2, c=3,d=4, e=5, f=6 ) #Valid - prints 1 2 3 4 5 6"
   ]
  },
  {
   "cell_type": "markdown",
   "id": "ba6bfac5",
   "metadata": {},
   "source": [
    "## Question 2:"
   ]
  },
  {
   "cell_type": "code",
   "execution_count": 8,
   "id": "a5fea2ef",
   "metadata": {},
   "outputs": [],
   "source": [
    "# It refers to dynamic modification of class or module. That implies it modifies a particular module or class \n",
    "# during runtime of the program."
   ]
  },
  {
   "cell_type": "markdown",
   "id": "7cc24d77",
   "metadata": {},
   "source": [
    "## Question 3:"
   ]
  },
  {
   "cell_type": "code",
   "execution_count": 9,
   "id": "2b3cd048",
   "metadata": {},
   "outputs": [
    {
     "name": "stdout",
     "output_type": "stream",
     "text": [
      "The original elements before shallow copying\n",
      "1 6 [2, 5] 8 \r\n",
      "The original elements after shallow copying\n",
      "1 6 [10, 5] 8 "
     ]
    }
   ],
   "source": [
    "import copy   \n",
    "     \n",
    "l1 = [1, 6, [2,5], 8]      \n",
    "l2 = copy.copy(l1)      \n",
    "print (\"The original elements before shallow copying\")   \n",
    "for i in range(0,len(l1)):   \n",
    "    print (l1[i],end=\" \")   \n",
    "print(\"\\r\")     \n",
    "l2[2][0] = 10  \n",
    "print (\"The original elements after shallow copying\")   \n",
    "for i in range(0,len( l1)):   \n",
    "    print (l1[i],end=\" \")   "
   ]
  },
  {
   "cell_type": "code",
   "execution_count": 10,
   "id": "b63a89c9",
   "metadata": {},
   "outputs": [],
   "source": [
    "# above method is called shallow copying,\n",
    "# It makes copies of the nested objects' reference and doesn't create a copy of the nested objects. So if we make any changes to the copy of the object will reflect in the original object"
   ]
  },
  {
   "cell_type": "code",
   "execution_count": 11,
   "id": "30fd90fa",
   "metadata": {},
   "outputs": [
    {
     "name": "stdout",
     "output_type": "stream",
     "text": [
      "The original list: \n",
      "0 [1, 2] [3, 5] 4 \r\n",
      "The new list after deep copying: \n",
      "0 [8, 2] [3, 5] 4 \r\n",
      "The original elements:\n",
      "0 [1, 2] [3, 5] 4 "
     ]
    }
   ],
   "source": [
    "import copy   \n",
    "  \n",
    "l1 = [0, [1, 2], [3,5], 4]   \n",
    "l2 = copy.deepcopy(l1)   \n",
    "print (\"The original list: \")  \n",
    "for i in range(0,len(l1)):   \n",
    "    print (l1[i],end=\" \")   \n",
    "    \n",
    "print(\"\\r\")   \n",
    "l2[1][0] = 8  \n",
    "\n",
    "print (\"The new list after deep copying: \")  \n",
    "for i in range(0,len( l1)):   \n",
    "    print (l2[i],end=\" \")   \n",
    "\n",
    "print(\"\\r\")   \n",
    "  \n",
    "print (\"The original elements:\")  \n",
    "for i in range(0,len( l1)):   \n",
    "    print (l1[i],end=\" \")   "
   ]
  },
  {
   "cell_type": "code",
   "execution_count": 12,
   "id": "7da1706f",
   "metadata": {},
   "outputs": [],
   "source": [
    "# above method is called deepcopying, If we make change to one of child won't affect the original object."
   ]
  },
  {
   "cell_type": "markdown",
   "id": "7cf6e62b",
   "metadata": {},
   "source": [
    "## Question 4:"
   ]
  },
  {
   "cell_type": "code",
   "execution_count": 13,
   "id": "0b93511f",
   "metadata": {},
   "outputs": [],
   "source": [
    "# identifiers can be of of 79 characters max."
   ]
  },
  {
   "cell_type": "markdown",
   "id": "23ce5dbc",
   "metadata": {},
   "source": [
    "## Question 5:"
   ]
  },
  {
   "cell_type": "code",
   "execution_count": 14,
   "id": "2d80223c",
   "metadata": {},
   "outputs": [],
   "source": [
    "# generator comprehension is used to create a generator expression, here generator generates next element in demand"
   ]
  },
  {
   "cell_type": "code",
   "execution_count": 15,
   "id": "5d3b991f",
   "metadata": {},
   "outputs": [],
   "source": [
    "x = (i for i in range(10) if i%2==0)"
   ]
  },
  {
   "cell_type": "code",
   "execution_count": 16,
   "id": "d8209a18",
   "metadata": {},
   "outputs": [
    {
     "name": "stdout",
     "output_type": "stream",
     "text": [
      "0\n",
      "2\n",
      "4\n",
      "6\n",
      "8\n"
     ]
    }
   ],
   "source": [
    "for i in x:\n",
    "    print(i)"
   ]
  },
  {
   "cell_type": "code",
   "execution_count": null,
   "id": "e7b23c26",
   "metadata": {},
   "outputs": [],
   "source": []
  }
 ],
 "metadata": {
  "kernelspec": {
   "display_name": "Python 3 (ipykernel)",
   "language": "python",
   "name": "python3"
  },
  "language_info": {
   "codemirror_mode": {
    "name": "ipython",
    "version": 3
   },
   "file_extension": ".py",
   "mimetype": "text/x-python",
   "name": "python",
   "nbconvert_exporter": "python",
   "pygments_lexer": "ipython3",
   "version": "3.9.7"
  }
 },
 "nbformat": 4,
 "nbformat_minor": 5
}
