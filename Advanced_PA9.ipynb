{
 "cells": [
  {
   "cell_type": "markdown",
   "id": "3a2b0e63",
   "metadata": {},
   "source": [
    "## Question 1:"
   ]
  },
  {
   "cell_type": "code",
   "execution_count": 3,
   "id": "afda70db",
   "metadata": {},
   "outputs": [],
   "source": [
    "# There are a lot of string methods in python such as casefold,capitalize,strip,lower,isupper,lower and a lot more"
   ]
  },
  {
   "cell_type": "markdown",
   "id": "3cf5bac2",
   "metadata": {},
   "source": [
    "## Question 2:"
   ]
  },
  {
   "cell_type": "code",
   "execution_count": 6,
   "id": "6901c1d4",
   "metadata": {},
   "outputs": [],
   "source": [
    "# raw string , format strings , strings in numpy/pandas. these are strings which vary in terms of operations."
   ]
  },
  {
   "cell_type": "markdown",
   "id": "2c6a2e11",
   "metadata": {},
   "source": [
    "## Question 3:"
   ]
  },
  {
   "cell_type": "code",
   "execution_count": 7,
   "id": "4e6ce98e",
   "metadata": {},
   "outputs": [],
   "source": [
    "# by default in python 3.x default string is unicode string so we can convert it to byte string and then again \n",
    "# convert it to unicode string"
   ]
  },
  {
   "cell_type": "markdown",
   "id": "600eb5c3",
   "metadata": {},
   "source": [
    "## Question 4:"
   ]
  },
  {
   "cell_type": "code",
   "execution_count": 8,
   "id": "d24953b9",
   "metadata": {},
   "outputs": [],
   "source": [
    "# Text file and binary file. A text file consists of human readable characters, which can be opened by any text editor.\n",
    "# On the other hand, binary files are made up of non-human readable characters and symbols,\n",
    "# which require specific programs to access its contents.\n",
    "# in text mode, the program writes data to file as text characters, and in binary mode,\n",
    "# the program writes data to files as 0/1 bits"
   ]
  },
  {
   "cell_type": "markdown",
   "id": "4e812af2",
   "metadata": {},
   "source": [
    "## Question 5:"
   ]
  },
  {
   "cell_type": "code",
   "execution_count": 10,
   "id": "d7acaf06",
   "metadata": {},
   "outputs": [],
   "source": [
    "# we can use sys. getdefaultencoding() to find current default string encoding \n",
    "# and compare the differences if they exist."
   ]
  },
  {
   "cell_type": "markdown",
   "id": "ed12fb99",
   "metadata": {},
   "source": [
    "## Question 6:"
   ]
  },
  {
   "cell_type": "code",
   "execution_count": 12,
   "id": "3c4a1b95",
   "metadata": {},
   "outputs": [],
   "source": [
    "# To encode a Unicode string to a byte stream use the built in function encode.\n",
    "# The built in function decode does the opposite operation\n",
    "# we can use chr() method as wellif we want unicode to character."
   ]
  },
  {
   "cell_type": "markdown",
   "id": "bb508f7c",
   "metadata": {},
   "source": [
    "## Question 7:"
   ]
  },
  {
   "cell_type": "code",
   "execution_count": 13,
   "id": "64ac95f6",
   "metadata": {},
   "outputs": [],
   "source": [
    "# For backward compatibility, the first 128 Unicode characters point to ASCII characters.\n",
    "# And since UTF-8 encodes each of those characters using 1-byte. \n",
    "# ASCII is essentially just UTF-8, or we can say that ASCII is a subset of Unicode. Vice versa isn’t true."
   ]
  },
  {
   "cell_type": "markdown",
   "id": "99c4dfd4",
   "metadata": {},
   "source": [
    "## Question 8:"
   ]
  },
  {
   "cell_type": "code",
   "execution_count": 14,
   "id": "234c6776",
   "metadata": {},
   "outputs": [],
   "source": [
    "# some effects which change in string types has brought in Python 3.X:\n",
    "# increase in speed\n",
    "# multiline f strings\n",
    "# Arbitrary expressions\n",
    "# simple syntax"
   ]
  },
  {
   "cell_type": "code",
   "execution_count": null,
   "id": "30f2a556",
   "metadata": {},
   "outputs": [],
   "source": []
  }
 ],
 "metadata": {
  "kernelspec": {
   "display_name": "Python 3 (ipykernel)",
   "language": "python",
   "name": "python3"
  },
  "language_info": {
   "codemirror_mode": {
    "name": "ipython",
    "version": 3
   },
   "file_extension": ".py",
   "mimetype": "text/x-python",
   "name": "python",
   "nbconvert_exporter": "python",
   "pygments_lexer": "ipython3",
   "version": "3.9.7"
  }
 },
 "nbformat": 4,
 "nbformat_minor": 5
}
