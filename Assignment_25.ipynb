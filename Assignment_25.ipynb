{
 "cells": [
  {
   "cell_type": "markdown",
   "id": "513a8c64",
   "metadata": {},
   "source": [
    "## Question 1:"
   ]
  },
  {
   "cell_type": "code",
   "execution_count": 1,
   "id": "fbf6360e",
   "metadata": {},
   "outputs": [],
   "source": [
    "# A list comprehension enclosed between square brackets results in a list, and when it is enclosed between parentheses it results in a generator object."
   ]
  },
  {
   "cell_type": "markdown",
   "id": "9ace2141",
   "metadata": {},
   "source": [
    "## Question 2:"
   ]
  },
  {
   "cell_type": "code",
   "execution_count": 2,
   "id": "79abeba4",
   "metadata": {},
   "outputs": [],
   "source": [
    "# Iterator: iterator is an object which contains a number of values over which it iterates over a particular iterable object like set, tuple, list, etc."
   ]
  },
  {
   "cell_type": "code",
   "execution_count": 3,
   "id": "081f4109",
   "metadata": {},
   "outputs": [],
   "source": [
    "l = [1,2,3]\n",
    "a = iter(l)"
   ]
  },
  {
   "cell_type": "code",
   "execution_count": 4,
   "id": "fa33ccb6",
   "metadata": {},
   "outputs": [
    {
     "data": {
      "text/plain": [
       "1"
      ]
     },
     "execution_count": 4,
     "metadata": {},
     "output_type": "execute_result"
    }
   ],
   "source": [
    "next(a)"
   ]
  },
  {
   "cell_type": "code",
   "execution_count": 5,
   "id": "fff8b5db",
   "metadata": {},
   "outputs": [],
   "source": [
    "# Generator: It is just a method by which you can create an iterator.\n",
    "# Generators are implemented by using a function"
   ]
  },
  {
   "cell_type": "code",
   "execution_count": 6,
   "id": "7756df64",
   "metadata": {},
   "outputs": [],
   "source": [
    "f = (i**2 for i in range(4))"
   ]
  },
  {
   "cell_type": "code",
   "execution_count": 7,
   "id": "b2b143bc",
   "metadata": {},
   "outputs": [
    {
     "data": {
      "text/plain": [
       "generator"
      ]
     },
     "execution_count": 7,
     "metadata": {},
     "output_type": "execute_result"
    }
   ],
   "source": [
    "type(f)"
   ]
  },
  {
   "cell_type": "code",
   "execution_count": 8,
   "id": "f4e53a39",
   "metadata": {},
   "outputs": [
    {
     "name": "stdout",
     "output_type": "stream",
     "text": [
      "0\n",
      "1\n",
      "4\n",
      "9\n"
     ]
    }
   ],
   "source": [
    "for i in f:\n",
    "    print(i)"
   ]
  },
  {
   "cell_type": "markdown",
   "id": "571908a4",
   "metadata": {},
   "source": [
    "## Question 3:"
   ]
  },
  {
   "cell_type": "code",
   "execution_count": 9,
   "id": "983a550b",
   "metadata": {},
   "outputs": [],
   "source": [
    "# We can use type() function to determine whether it is generator or not.\n",
    "# Also, if a function contains yield keyword that means it is a generator."
   ]
  },
  {
   "cell_type": "markdown",
   "id": "072089b9",
   "metadata": {},
   "source": [
    "## Question 4:"
   ]
  },
  {
   "cell_type": "code",
   "execution_count": 10,
   "id": "58d30a2e",
   "metadata": {},
   "outputs": [],
   "source": [
    "# A yield statement is used to return a generator object to the one who calls the function."
   ]
  },
  {
   "cell_type": "markdown",
   "id": "580bf0cc",
   "metadata": {},
   "source": [
    "## Question 5:"
   ]
  },
  {
   "cell_type": "code",
   "execution_count": 11,
   "id": "526c4c07",
   "metadata": {},
   "outputs": [],
   "source": [
    "# map function return a map object(which is an iterator),\n",
    "# it results after applying the function to an iterable object"
   ]
  },
  {
   "cell_type": "code",
   "execution_count": 12,
   "id": "dafff358",
   "metadata": {},
   "outputs": [
    {
     "name": "stdout",
     "output_type": "stream",
     "text": [
      "[1, 4, 9, 16]\n"
     ]
    }
   ],
   "source": [
    "l=[1,2,3,4]\n",
    "\n",
    "def sq(n):\n",
    "    return n**2\n",
    "\n",
    "x = map(sq,l)\n",
    "print(list(x))"
   ]
  },
  {
   "cell_type": "code",
   "execution_count": 13,
   "id": "4605f575",
   "metadata": {},
   "outputs": [],
   "source": [
    "# list comprehension is a way to create a list in a really concise way, in a way it is also a replacement of map,\n",
    "# filter and reduce functions."
   ]
  },
  {
   "cell_type": "code",
   "execution_count": 14,
   "id": "b89be781",
   "metadata": {},
   "outputs": [],
   "source": [
    "l = [i**2 for i in range(5)]"
   ]
  },
  {
   "cell_type": "code",
   "execution_count": 15,
   "id": "1f0ff01a",
   "metadata": {},
   "outputs": [
    {
     "data": {
      "text/plain": [
       "[0, 1, 4, 9, 16]"
      ]
     },
     "execution_count": 15,
     "metadata": {},
     "output_type": "execute_result"
    }
   ],
   "source": [
    "l"
   ]
  },
  {
   "cell_type": "code",
   "execution_count": 16,
   "id": "e32b4efe",
   "metadata": {},
   "outputs": [],
   "source": [
    "# in a way both are a little bit similar because both operate on iterable objects\n",
    "# but list comprehension operate on lambda function and map operate on functions \n",
    "# which are lambda function as well as simple old functions"
   ]
  },
  {
   "cell_type": "code",
   "execution_count": null,
   "id": "2ee6cd27",
   "metadata": {},
   "outputs": [],
   "source": []
  }
 ],
 "metadata": {
  "kernelspec": {
   "display_name": "Python 3 (ipykernel)",
   "language": "python",
   "name": "python3"
  },
  "language_info": {
   "codemirror_mode": {
    "name": "ipython",
    "version": 3
   },
   "file_extension": ".py",
   "mimetype": "text/x-python",
   "name": "python",
   "nbconvert_exporter": "python",
   "pygments_lexer": "ipython3",
   "version": "3.9.7"
  }
 },
 "nbformat": 4,
 "nbformat_minor": 5
}
