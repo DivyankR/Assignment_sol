{
 "cells": [
  {
   "cell_type": "markdown",
   "id": "c026d377",
   "metadata": {},
   "source": [
    "## Question 1:"
   ]
  },
  {
   "cell_type": "code",
   "execution_count": 1,
   "id": "261f0e32",
   "metadata": {},
   "outputs": [],
   "source": [
    "# PyInputPlus is not included with Python standard library it has to be installed separately using pip"
   ]
  },
  {
   "cell_type": "markdown",
   "id": "0ef5cc91",
   "metadata": {},
   "source": [
    "## Question 2:"
   ]
  },
  {
   "cell_type": "code",
   "execution_count": 2,
   "id": "ad3cb92b",
   "metadata": {},
   "outputs": [],
   "source": [
    "# We can import PyInputPlus as pyip so that we can use a short name when calling its functions"
   ]
  },
  {
   "cell_type": "markdown",
   "id": "b7de5cd2",
   "metadata": {},
   "source": [
    "## Question 3:"
   ]
  },
  {
   "cell_type": "code",
   "execution_count": 3,
   "id": "fc662ccd",
   "metadata": {},
   "outputs": [],
   "source": [
    "# inputInt() is used to accept integer value.\n",
    "# Takes additional parameters ‘min’, ‘max’, ‘greaterThan’ and ‘lessThan’  for bounds. Returns an int.\n",
    "\n",
    "# inputFloat() is used to accept floating-point numeric value. \n",
    "# Takes additional ‘min’, ‘max’, ‘greaterThan’ and ‘lessThan’  parameters. Returns a float."
   ]
  },
  {
   "cell_type": "markdown",
   "id": "d308771b",
   "metadata": {},
   "source": [
    "## Question 4:"
   ]
  },
  {
   "cell_type": "code",
   "execution_count": 4,
   "id": "2a6071aa",
   "metadata": {},
   "outputs": [],
   "source": [
    "# we can use pyip.inputInt('min'=0,'max'=99)"
   ]
  },
  {
   "cell_type": "markdown",
   "id": "d4a6f40f",
   "metadata": {},
   "source": [
    "## Question 5:"
   ]
  },
  {
   "cell_type": "code",
   "execution_count": 5,
   "id": "30fb8dc6",
   "metadata": {},
   "outputs": [],
   "source": [
    "# A list of regex strings that are either explicitly allowed or denied"
   ]
  },
  {
   "cell_type": "markdown",
   "id": "0d9fd701",
   "metadata": {},
   "source": [
    "## Question 6:"
   ]
  },
  {
   "cell_type": "code",
   "execution_count": 6,
   "id": "d065cbe0",
   "metadata": {},
   "outputs": [],
   "source": [
    "# The function will raise RetryLimitException."
   ]
  },
  {
   "cell_type": "markdown",
   "id": "6f9b3bff",
   "metadata": {},
   "source": [
    "## Question 7:"
   ]
  },
  {
   "cell_type": "code",
   "execution_count": 7,
   "id": "4f8c9f96",
   "metadata": {},
   "outputs": [],
   "source": [
    "# The function will return the value 'hello'"
   ]
  }
 ],
 "metadata": {
  "kernelspec": {
   "display_name": "Python 3 (ipykernel)",
   "language": "python",
   "name": "python3"
  },
  "language_info": {
   "codemirror_mode": {
    "name": "ipython",
    "version": 3
   },
   "file_extension": ".py",
   "mimetype": "text/x-python",
   "name": "python",
   "nbconvert_exporter": "python",
   "pygments_lexer": "ipython3",
   "version": "3.9.7"
  }
 },
 "nbformat": 4,
 "nbformat_minor": 5
}
