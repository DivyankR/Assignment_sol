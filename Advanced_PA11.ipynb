{
 "cells": [
  {
   "cell_type": "markdown",
   "id": "394e1cdb",
   "metadata": {},
   "source": [
    "## Question 1:"
   ]
  },
  {
   "cell_type": "code",
   "execution_count": 1,
   "id": "29662dea",
   "metadata": {},
   "outputs": [],
   "source": [
    "# metaclass is a class of class that defines how a particular class is going to behave."
   ]
  },
  {
   "cell_type": "code",
   "execution_count": 2,
   "id": "360fc1a6",
   "metadata": {},
   "outputs": [],
   "source": [
    "# A class in itself is a metclass' instance, and any instance of class in python is an instance of metaclass type."
   ]
  },
  {
   "cell_type": "code",
   "execution_count": 3,
   "id": "9fee3faa",
   "metadata": {},
   "outputs": [],
   "source": [
    "# E.g.: int, float, str etc"
   ]
  },
  {
   "cell_type": "markdown",
   "id": "5bd69f8a",
   "metadata": {},
   "source": [
    "## Question 2:"
   ]
  },
  {
   "cell_type": "code",
   "execution_count": 4,
   "id": "5e534ebe",
   "metadata": {},
   "outputs": [],
   "source": [
    "# using meta keyword, we can declare a class' metaclass"
   ]
  },
  {
   "cell_type": "code",
   "execution_count": 5,
   "id": "83126bbd",
   "metadata": {},
   "outputs": [
    {
     "name": "stdout",
     "output_type": "stream",
     "text": [
      "<class 'type'>\n",
      "<class '__main__.meta'>\n"
     ]
    }
   ],
   "source": [
    "class meta(type):\n",
    "    pass\n",
    "class class_m(metaclass=meta):\n",
    "    pass\n",
    "print(type(meta))\n",
    "print(type(class_m))"
   ]
  },
  {
   "cell_type": "markdown",
   "id": "89e99666",
   "metadata": {},
   "source": [
    "## Question 3:"
   ]
  },
  {
   "cell_type": "code",
   "execution_count": 6,
   "id": "ed75f3b0",
   "metadata": {},
   "outputs": [],
   "source": [
    "# You can do same things with custom metaclass which you can do with clas decorators.\n",
    "# just apply the functionality of the \"decorator function\", i.e., the one that takes a class object and modifies it,\n",
    "# in the course of the metaclass's __new__ or __init__ that make the class object"
   ]
  },
  {
   "cell_type": "markdown",
   "id": "66de9ad7",
   "metadata": {},
   "source": [
    "## Question 4:"
   ]
  },
  {
   "cell_type": "code",
   "execution_count": 7,
   "id": "e1ebb2b9",
   "metadata": {},
   "outputs": [],
   "source": [
    "# Anything you can do with a class decorator, you can of course do with a custom metaclass\n",
    "# (just apply the functionality of the \"decorator function\", i.e., the one that takes a class object and modifies it,\n",
    "#  in the course of the metaclass's __new__ or __init__ that make the class object!)."
   ]
  },
  {
   "cell_type": "code",
   "execution_count": null,
   "id": "8ec46faa",
   "metadata": {},
   "outputs": [],
   "source": []
  }
 ],
 "metadata": {
  "kernelspec": {
   "display_name": "Python 3 (ipykernel)",
   "language": "python",
   "name": "python3"
  },
  "language_info": {
   "codemirror_mode": {
    "name": "ipython",
    "version": 3
   },
   "file_extension": ".py",
   "mimetype": "text/x-python",
   "name": "python",
   "nbconvert_exporter": "python",
   "pygments_lexer": "ipython3",
   "version": "3.9.13"
  }
 },
 "nbformat": 4,
 "nbformat_minor": 5
}
