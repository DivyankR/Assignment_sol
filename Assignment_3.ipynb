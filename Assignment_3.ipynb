{
 "cells": [
  {
   "cell_type": "markdown",
   "id": "72fcd081",
   "metadata": {},
   "source": [
    "## Question 1"
   ]
  },
  {
   "cell_type": "markdown",
   "id": "4765bdad",
   "metadata": {},
   "source": [
    "### Some advantages of functions are listed below:\n",
    "### 1) It increases code reusability.\n",
    "### 2) It decreases code redundancy.\n",
    "### 3) It can be used to break down code in smaller pieces."
   ]
  },
  {
   "cell_type": "markdown",
   "id": "c2c559d2",
   "metadata": {},
   "source": [
    "## Question 2"
   ]
  },
  {
   "cell_type": "markdown",
   "id": "282aea72",
   "metadata": {},
   "source": [
    "### The code inside a function is run once it is called"
   ]
  },
  {
   "cell_type": "markdown",
   "id": "9603285a",
   "metadata": {},
   "source": [
    "## Question 3"
   ]
  },
  {
   "cell_type": "markdown",
   "id": "25dc8efa",
   "metadata": {},
   "source": [
    "### The def keyword is used to define a particular fucntion, for example:"
   ]
  },
  {
   "cell_type": "code",
   "execution_count": 1,
   "id": "b7dfde79",
   "metadata": {},
   "outputs": [],
   "source": [
    "def func():\n",
    "    # here you can write the whatever code or logic you want to write according to your need.\n",
    "    return "
   ]
  },
  {
   "cell_type": "markdown",
   "id": "4587e242",
   "metadata": {},
   "source": [
    "### return can be used to return anything which is needed for your purpose."
   ]
  },
  {
   "cell_type": "markdown",
   "id": "472e0a2d",
   "metadata": {},
   "source": [
    "## Question 4"
   ]
  },
  {
   "cell_type": "markdown",
   "id": "5fa97593",
   "metadata": {},
   "source": [
    "### A function call is used to 'call' or used to run the function code. A function definition whereas, is used to define what kind of code or logic a particular function will be able to perform.  "
   ]
  },
  {
   "cell_type": "markdown",
   "id": "0a056343",
   "metadata": {},
   "source": [
    "## Question 5"
   ]
  },
  {
   "cell_type": "markdown",
   "id": "dc423f28",
   "metadata": {},
   "source": [
    "### There are four different scopes in python i.e: local, global, enclosing scope and built-in"
   ]
  },
  {
   "cell_type": "code",
   "execution_count": 2,
   "id": "3ff222bc",
   "metadata": {},
   "outputs": [],
   "source": [
    "#the scopes follow LEGB rule i.e. local>enclosing>global>scope"
   ]
  },
  {
   "cell_type": "markdown",
   "id": "8a17263d",
   "metadata": {},
   "source": [
    "## Question 6"
   ]
  },
  {
   "cell_type": "code",
   "execution_count": 3,
   "id": "2d118683",
   "metadata": {},
   "outputs": [],
   "source": [
    "#When the function call returns, the variables of the local scope are destroyed."
   ]
  },
  {
   "cell_type": "markdown",
   "id": "c962b46b",
   "metadata": {},
   "source": [
    "## Question 7"
   ]
  },
  {
   "cell_type": "code",
   "execution_count": 4,
   "id": "0fa4a197",
   "metadata": {},
   "outputs": [],
   "source": [
    "#Return statement is used to \"return\" a result value of an expression to the caller. It can only be utilized in a function"
   ]
  },
  {
   "cell_type": "markdown",
   "id": "9c7bde9f",
   "metadata": {},
   "source": [
    "## Question 8"
   ]
  },
  {
   "cell_type": "code",
   "execution_count": 5,
   "id": "b71f86d1",
   "metadata": {},
   "outputs": [],
   "source": [
    "#If you don't explicitly use a return value in a return statement, or if you totally omit the return statement, then Python will implicitly return a default value for you. That default return value will always be None ."
   ]
  },
  {
   "cell_type": "markdown",
   "id": "78cab1a9",
   "metadata": {},
   "source": [
    "## Question 9"
   ]
  },
  {
   "cell_type": "code",
   "execution_count": 6,
   "id": "8f445150",
   "metadata": {},
   "outputs": [],
   "source": [
    "#Normally if a variable is declared inside a function it will be having. But we can use \"global\" keyword to declare global variable inside a function"
   ]
  },
  {
   "cell_type": "code",
   "execution_count": 7,
   "id": "d58457be",
   "metadata": {},
   "outputs": [
    {
     "name": "stdout",
     "output_type": "stream",
     "text": [
      "hello\n"
     ]
    }
   ],
   "source": [
    "def func():\n",
    "    global x\n",
    "    x = \"hello\"\n",
    "func()\n",
    "print(x)"
   ]
  },
  {
   "cell_type": "markdown",
   "id": "a7b16db9",
   "metadata": {},
   "source": [
    "## Question 10"
   ]
  },
  {
   "cell_type": "code",
   "execution_count": 8,
   "id": "17936dfe",
   "metadata": {},
   "outputs": [],
   "source": [
    "# Datatype of None is Nonetype which is a datatype of its own. None is used to define a null value or no value at all."
   ]
  },
  {
   "cell_type": "markdown",
   "id": "cbddc83f",
   "metadata": {},
   "source": [
    "## Question 11"
   ]
  },
  {
   "cell_type": "code",
   "execution_count": 9,
   "id": "7b5ea91d",
   "metadata": {},
   "outputs": [],
   "source": [
    "# The sentence import areallyourpetsnamederic first of all finds and searches areallyourpetsnamederic module and then binds the result of that search into local scope. Import statement is used to gain access to the code in another module. "
   ]
  },
  {
   "cell_type": "markdown",
   "id": "5b3724eb",
   "metadata": {},
   "source": [
    "## Question 12"
   ]
  },
  {
   "cell_type": "code",
   "execution_count": 10,
   "id": "b751b5bc",
   "metadata": {},
   "outputs": [],
   "source": [
    "# import spam\n",
    "# now to use bacon() feature,\n",
    "# spam.module"
   ]
  },
  {
   "cell_type": "markdown",
   "id": "3aaec860",
   "metadata": {},
   "source": [
    "## Question 13"
   ]
  },
  {
   "cell_type": "code",
   "execution_count": 11,
   "id": "449da6d4",
   "metadata": {},
   "outputs": [],
   "source": [
    "# Exception handling can be used to save a programme from crashing if it encounters an error."
   ]
  },
  {
   "cell_type": "markdown",
   "id": "dd4821ba",
   "metadata": {},
   "source": [
    "## Question 14"
   ]
  },
  {
   "cell_type": "code",
   "execution_count": 12,
   "id": "e20170de",
   "metadata": {},
   "outputs": [],
   "source": [
    "# Purpose of try is to test the code for errors whereas purpose of except clause is to handle the error"
   ]
  }
 ],
 "metadata": {
  "kernelspec": {
   "display_name": "Python 3 (ipykernel)",
   "language": "python",
   "name": "python3"
  },
  "language_info": {
   "codemirror_mode": {
    "name": "ipython",
    "version": 3
   },
   "file_extension": ".py",
   "mimetype": "text/x-python",
   "name": "python",
   "nbconvert_exporter": "python",
   "pygments_lexer": "ipython3",
   "version": "3.9.7"
  }
 },
 "nbformat": 4,
 "nbformat_minor": 5
}
