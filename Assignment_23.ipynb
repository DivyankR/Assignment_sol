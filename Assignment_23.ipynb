{
 "cells": [
  {
   "cell_type": "markdown",
   "id": "c1fd0510",
   "metadata": {},
   "source": [
    "## Question 1:"
   ]
  },
  {
   "cell_type": "code",
   "execution_count": 1,
   "id": "d9677af3",
   "metadata": {},
   "outputs": [
    {
     "name": "stdout",
     "output_type": "stream",
     "text": [
      "1 2 8\n"
     ]
    }
   ],
   "source": [
    "def func(a,b=6,c=8):\n",
    "    print(a,b,c)\n",
    "func(1,2)"
   ]
  },
  {
   "cell_type": "code",
   "execution_count": 2,
   "id": "56069e26",
   "metadata": {},
   "outputs": [],
   "source": [
    "# The default values of b and c were 6,8 respectively and 'a' is a mandatory argument, so a has to be passed while\n",
    "# calling the function. Since a and b have been have got 1 and 2 respectively while calling of function, c has not\n",
    "# got any value therefore c=8 (default) is printed along with 1 and 2"
   ]
  },
  {
   "cell_type": "markdown",
   "id": "2724a399",
   "metadata": {},
   "source": [
    "## Question 2:"
   ]
  },
  {
   "cell_type": "code",
   "execution_count": 3,
   "id": "11b4a355",
   "metadata": {},
   "outputs": [
    {
     "name": "stdout",
     "output_type": "stream",
     "text": [
      "1 2 3\n"
     ]
    }
   ],
   "source": [
    "def func(a,b,c=5):\n",
    "    print(a,b,c)\n",
    "func(1,c=3,b=2)"
   ]
  },
  {
   "cell_type": "code",
   "execution_count": 4,
   "id": "fd7b860f",
   "metadata": {},
   "outputs": [],
   "source": [
    "# since a,b,c have been assigned values while calling the function therefore default values wont be printed."
   ]
  },
  {
   "cell_type": "markdown",
   "id": "32feb23b",
   "metadata": {},
   "source": [
    "## Question 3:"
   ]
  },
  {
   "cell_type": "code",
   "execution_count": 5,
   "id": "d11fd6d7",
   "metadata": {},
   "outputs": [
    {
     "name": "stdout",
     "output_type": "stream",
     "text": [
      "1 (2, 3)\n"
     ]
    }
   ],
   "source": [
    "def func(a,*pargs):\n",
    "    print(a,pargs)\n",
    "func(1,2,3)"
   ]
  },
  {
   "cell_type": "code",
   "execution_count": 6,
   "id": "21488f1b",
   "metadata": {},
   "outputs": [],
   "source": [
    "# the variables which have * in front of their name, they can be used to pass a variable number of arguments \n",
    "# to a function, so here 2 arguments are passed to func and first argument was assigned to a."
   ]
  },
  {
   "cell_type": "markdown",
   "id": "e7dfe6d9",
   "metadata": {},
   "source": [
    "## Question 4:"
   ]
  },
  {
   "cell_type": "code",
   "execution_count": 7,
   "id": "e87aa5a3",
   "metadata": {},
   "outputs": [
    {
     "name": "stdout",
     "output_type": "stream",
     "text": [
      "1 {'c': 3, 'b': 2}\n"
     ]
    }
   ],
   "source": [
    "def func(a,**pargs):\n",
    "    print(a,pargs)\n",
    "func(a=1,c=3,b=2)"
   ]
  },
  {
   "cell_type": "code",
   "execution_count": 8,
   "id": "1e31a1f9",
   "metadata": {},
   "outputs": [],
   "source": [
    "# the variables which have ** in front of their name are used to pass a keyworded variable length argument list.\n",
    "# Therefore a will be returned as it is and c and b will be returned as dictionary "
   ]
  },
  {
   "cell_type": "markdown",
   "id": "70c3d0ff",
   "metadata": {},
   "source": [
    "## Question 5:"
   ]
  },
  {
   "cell_type": "code",
   "execution_count": 9,
   "id": "9758db02",
   "metadata": {},
   "outputs": [
    {
     "name": "stdout",
     "output_type": "stream",
     "text": [
      "1 5 6 5\n"
     ]
    }
   ],
   "source": [
    "def func(a,b,c=8,d=5):\n",
    "    print(a,b,c,d)\n",
    "func(1,*(5,6))"
   ]
  },
  {
   "cell_type": "code",
   "execution_count": 10,
   "id": "08aca8b3",
   "metadata": {},
   "outputs": [],
   "source": [
    "# since a has been assigned 1 and d will have its default value as 5 the *(5,6) will be assigned to b and c"
   ]
  },
  {
   "cell_type": "markdown",
   "id": "d161d111",
   "metadata": {},
   "source": [
    "## Question 6:"
   ]
  },
  {
   "cell_type": "code",
   "execution_count": 11,
   "id": "a0942e12",
   "metadata": {},
   "outputs": [],
   "source": [
    "def func(a,b,c):\n",
    "    a=2;b[0]='x';c['a']='y'\n",
    "l=1;m=[1];n={'a':0}\n",
    "func(l,m,n)"
   ]
  },
  {
   "cell_type": "code",
   "execution_count": 12,
   "id": "407a9d6c",
   "metadata": {},
   "outputs": [
    {
     "data": {
      "text/plain": [
       "(1, ['x'], {'a': 'y'})"
      ]
     },
     "execution_count": 12,
     "metadata": {},
     "output_type": "execute_result"
    }
   ],
   "source": [
    "l,m,n"
   ]
  },
  {
   "cell_type": "code",
   "execution_count": 13,
   "id": "7399bb4a",
   "metadata": {},
   "outputs": [],
   "source": [
    "# the first one is passed by value, last two are passed by reference\n",
    "# so last 2 are modifiable insde the function, but first is not.\n",
    "# hence the value of last two are updated, i.e. m and n.\n",
    "# in python complex types like dict, list, class objects are passed by reference,\n",
    "# so the function can modified the same object that was passed."
   ]
  },
  {
   "cell_type": "code",
   "execution_count": null,
   "id": "21533474",
   "metadata": {},
   "outputs": [],
   "source": []
  },
  {
   "cell_type": "code",
   "execution_count": null,
   "id": "154a222b",
   "metadata": {},
   "outputs": [],
   "source": []
  }
 ],
 "metadata": {
  "kernelspec": {
   "display_name": "Python 3 (ipykernel)",
   "language": "python",
   "name": "python3"
  },
  "language_info": {
   "codemirror_mode": {
    "name": "ipython",
    "version": 3
   },
   "file_extension": ".py",
   "mimetype": "text/x-python",
   "name": "python",
   "nbconvert_exporter": "python",
   "pygments_lexer": "ipython3",
   "version": "3.9.7"
  }
 },
 "nbformat": 4,
 "nbformat_minor": 5
}
