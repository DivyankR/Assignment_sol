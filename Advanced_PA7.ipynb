{
 "cells": [
  {
   "cell_type": "markdown",
   "id": "6b85af32",
   "metadata": {},
   "source": [
    "## Question 1:"
   ]
  },
  {
   "cell_type": "code",
   "execution_count": 1,
   "id": "d388f1a2",
   "metadata": {},
   "outputs": [],
   "source": [
    "# purpose of try statement is to test a block of code for errors while that particular code is being executed."
   ]
  },
  {
   "cell_type": "markdown",
   "id": "a75a0a5c",
   "metadata": {},
   "source": [
    "## Question 2:"
   ]
  },
  {
   "cell_type": "code",
   "execution_count": 2,
   "id": "9d79efa0",
   "metadata": {},
   "outputs": [],
   "source": [
    "# we can use conventional try/except and other popular variations are:\n",
    "\n",
    "# try/except/else\n",
    "# try/except/finally"
   ]
  },
  {
   "cell_type": "markdown",
   "id": "3e3a8bd5",
   "metadata": {},
   "source": [
    "## Question 3:"
   ]
  },
  {
   "cell_type": "code",
   "execution_count": 3,
   "id": "a5220a45",
   "metadata": {},
   "outputs": [],
   "source": [
    "# raise is used to raise exceptions or errors. The raise keyword raises an error and stops the flow of code."
   ]
  },
  {
   "cell_type": "markdown",
   "id": "2e4a94c7",
   "metadata": {},
   "source": [
    "## Question 4:"
   ]
  },
  {
   "cell_type": "code",
   "execution_count": 4,
   "id": "acc5337b",
   "metadata": {},
   "outputs": [],
   "source": [
    "# assert statement lets one check if a particular statement is True or False and if it is False then it throws an error\n",
    "# and stops the flow of program."
   ]
  },
  {
   "cell_type": "code",
   "execution_count": 5,
   "id": "356e26f5",
   "metadata": {},
   "outputs": [],
   "source": [
    "# assert is similar to raise but it is raised only when the specified condition is met."
   ]
  },
  {
   "cell_type": "markdown",
   "id": "00e29747",
   "metadata": {},
   "source": [
    "## Question 5:"
   ]
  },
  {
   "cell_type": "code",
   "execution_count": 6,
   "id": "53c0217c",
   "metadata": {},
   "outputs": [],
   "source": [
    "# with statement is used in exception handling to make code cleaner and more readable."
   ]
  },
  {
   "cell_type": "code",
   "execution_count": 7,
   "id": "e216435c",
   "metadata": {},
   "outputs": [],
   "source": [
    "# it is a bit similar to try except block because it replaces try except by a concise shorthand"
   ]
  },
  {
   "cell_type": "code",
   "execution_count": null,
   "id": "5013479a",
   "metadata": {},
   "outputs": [],
   "source": []
  }
 ],
 "metadata": {
  "kernelspec": {
   "display_name": "Python 3 (ipykernel)",
   "language": "python",
   "name": "python3"
  },
  "language_info": {
   "codemirror_mode": {
    "name": "ipython",
    "version": 3
   },
   "file_extension": ".py",
   "mimetype": "text/x-python",
   "name": "python",
   "nbconvert_exporter": "python",
   "pygments_lexer": "ipython3",
   "version": "3.9.7"
  }
 },
 "nbformat": 4,
 "nbformat_minor": 5
}
