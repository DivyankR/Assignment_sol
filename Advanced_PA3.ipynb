{
 "cells": [
  {
   "cell_type": "markdown",
   "id": "0adf9932",
   "metadata": {},
   "source": [
    "## Question 1:"
   ]
  },
  {
   "cell_type": "code",
   "execution_count": 1,
   "id": "ef340da3",
   "metadata": {},
   "outputs": [],
   "source": [
    "# An abstract superclass is a class that calls a method but it doesnt defines it.\n",
    "# abstract superclass is a method by which one can reuse the the code but you cant directly use the code by making an\n",
    "# instance of the abstract class , you can just inherit the superclass and then you can use the code of it.\n",
    "# It can be used to fix some parts of the code. Also it can be used if you dont want to use base class name."
   ]
  },
  {
   "cell_type": "code",
   "execution_count": 2,
   "id": "e0430752",
   "metadata": {},
   "outputs": [],
   "source": [
    "# how to create abstract class:\n",
    "from abc import (\n",
    "  ABC,\n",
    "  abstractmethod,\n",
    ")\n",
    "class easy(ABC):\n",
    "  def __init__(self, name):\n",
    "    self.name = name\n",
    "    self._l = 1\n",
    "  @abstractmethod\n",
    "  def main_att(self):\n",
    "    ...\n",
    "\n",
    "from collections import namedtuple\n",
    "Attack = namedtuple('Attack', ('name', 'damage'))\n",
    "\n",
    "class storm(easy):\n",
    "  def main_att(self):\n",
    "    return Attack('Thunder Shock', 5)\n",
    "\n",
    "class fury(easy):\n",
    "  def main_att(self):\n",
    "    return Attack('Flame Thrower', 5)"
   ]
  },
  {
   "cell_type": "code",
   "execution_count": 3,
   "id": "da2b65ca",
   "metadata": {},
   "outputs": [],
   "source": [
    "o = storm('paul')"
   ]
  },
  {
   "cell_type": "code",
   "execution_count": 4,
   "id": "25cee19a",
   "metadata": {},
   "outputs": [
    {
     "data": {
      "text/plain": [
       "Attack(name='Thunder Shock', damage=5)"
      ]
     },
     "execution_count": 4,
     "metadata": {},
     "output_type": "execute_result"
    }
   ],
   "source": [
    "o.main_att()"
   ]
  },
  {
   "cell_type": "markdown",
   "id": "ff8418b5",
   "metadata": {},
   "source": [
    "## Question 2:"
   ]
  },
  {
   "cell_type": "code",
   "execution_count": 5,
   "id": "815debd1",
   "metadata": {},
   "outputs": [],
   "source": [
    "# when a class statement's top level contains a basic assignment statement,\n",
    "# it means that it is one of class attributes"
   ]
  },
  {
   "cell_type": "markdown",
   "id": "a5d53830",
   "metadata": {},
   "source": [
    "## Question 3"
   ]
  },
  {
   "cell_type": "code",
   "execution_count": 6,
   "id": "9afe31c8",
   "metadata": {},
   "outputs": [],
   "source": [
    "# a class needs to manually call a superclass' init method because\n",
    "# by default the methods inside a superclass cannot be accessed directly therefore one has to inherit them first before using them and calling them."
   ]
  },
  {
   "cell_type": "code",
   "execution_count": 7,
   "id": "bee14284",
   "metadata": {},
   "outputs": [],
   "source": [
    "# also by default superclass may create member variables and initialize them. But if not called, it may not create and initialize them."
   ]
  },
  {
   "cell_type": "markdown",
   "id": "4377d129",
   "metadata": {},
   "source": [
    "## Question 4:"
   ]
  },
  {
   "cell_type": "code",
   "execution_count": 8,
   "id": "65619557",
   "metadata": {},
   "outputs": [],
   "source": [
    "# to augment instead of replacing the inherited method, pass the self instance to the superclass' version of method manually."
   ]
  },
  {
   "cell_type": "markdown",
   "id": "d4017775",
   "metadata": {},
   "source": [
    "## Question 5: "
   ]
  },
  {
   "cell_type": "code",
   "execution_count": 9,
   "id": "53729de7",
   "metadata": {},
   "outputs": [],
   "source": [
    "# local scope of a class is more useful rather than a local sope of function because\n",
    "# suppose you declare a method inside a class and want to use it, you can use it anywhere in the program until \n",
    "# or unless it is restricted. But same cannot be done with a function."
   ]
  },
  {
   "cell_type": "code",
   "execution_count": 10,
   "id": "bc10e94e",
   "metadata": {},
   "outputs": [],
   "source": [
    "def func():\n",
    "    name=\"charmander\"\n",
    "    print(name)"
   ]
  },
  {
   "cell_type": "code",
   "execution_count": 11,
   "id": "603dbd72",
   "metadata": {},
   "outputs": [
    {
     "ename": "NameError",
     "evalue": "name 'name' is not defined",
     "output_type": "error",
     "traceback": [
      "\u001b[0;31m---------------------------------------------------------------------------\u001b[0m",
      "\u001b[0;31mNameError\u001b[0m                                 Traceback (most recent call last)",
      "\u001b[0;32m/var/folders/7k/zrs4dx8d5bvdn3rjcd_08knr0000gn/T/ipykernel_17979/2122694447.py\u001b[0m in \u001b[0;36m<module>\u001b[0;34m\u001b[0m\n\u001b[0;32m----> 1\u001b[0;31m \u001b[0mprint\u001b[0m\u001b[0;34m(\u001b[0m\u001b[0mname\u001b[0m\u001b[0;34m)\u001b[0m\u001b[0;34m\u001b[0m\u001b[0;34m\u001b[0m\u001b[0m\n\u001b[0m",
      "\u001b[0;31mNameError\u001b[0m: name 'name' is not defined"
     ]
    }
   ],
   "source": [
    "print(name)"
   ]
  },
  {
   "cell_type": "code",
   "execution_count": 12,
   "id": "b8242034",
   "metadata": {},
   "outputs": [],
   "source": [
    "# as you can see in this code we cant use the local variable of function outside the function."
   ]
  },
  {
   "cell_type": "code",
   "execution_count": 13,
   "id": "7370ce2f",
   "metadata": {},
   "outputs": [],
   "source": [
    "class car:\n",
    "    tyre='mrf'\n",
    "\n",
    "c = car()"
   ]
  },
  {
   "cell_type": "code",
   "execution_count": 14,
   "id": "b844fdfb",
   "metadata": {},
   "outputs": [
    {
     "name": "stdout",
     "output_type": "stream",
     "text": [
      "mrf\n"
     ]
    }
   ],
   "source": [
    "print(c.tyre)"
   ]
  },
  {
   "cell_type": "code",
   "execution_count": null,
   "id": "aa67d543",
   "metadata": {},
   "outputs": [],
   "source": []
  }
 ],
 "metadata": {
  "kernelspec": {
   "display_name": "Python 3 (ipykernel)",
   "language": "python",
   "name": "python3"
  },
  "language_info": {
   "codemirror_mode": {
    "name": "ipython",
    "version": 3
   },
   "file_extension": ".py",
   "mimetype": "text/x-python",
   "name": "python",
   "nbconvert_exporter": "python",
   "pygments_lexer": "ipython3",
   "version": "3.9.7"
  }
 },
 "nbformat": 4,
 "nbformat_minor": 5
}
