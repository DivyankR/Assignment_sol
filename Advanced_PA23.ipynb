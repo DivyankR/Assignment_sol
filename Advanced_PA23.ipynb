{
 "cells": [
  {
   "cell_type": "markdown",
   "id": "d129eaa4",
   "metadata": {},
   "source": [
    "## Question 1:"
   ]
  },
  {
   "cell_type": "code",
   "execution_count": 1,
   "id": "dde1bbeb",
   "metadata": {},
   "outputs": [],
   "source": [
    "# matplotlib has a method called subplots for increasing the comparison between different figures on same graph"
   ]
  },
  {
   "cell_type": "markdown",
   "id": "d3161cad",
   "metadata": {},
   "source": [
    "## Question 2:"
   ]
  },
  {
   "cell_type": "code",
   "execution_count": 2,
   "id": "831f2162",
   "metadata": {},
   "outputs": [],
   "source": [
    "# Compound interest makes a sum of money grow at a faster rate than simple interest,because in addition to earning returns on\n",
    "# the money you invest, you also earn returns on those returns at the end of every compounding period,which could be daily, \n",
    "# monthly, quarterly or annually."
   ]
  },
  {
   "cell_type": "markdown",
   "id": "a9b2a89e",
   "metadata": {},
   "source": [
    "## Question 3:"
   ]
  },
  {
   "cell_type": "code",
   "execution_count": 3,
   "id": "4168858b",
   "metadata": {},
   "outputs": [],
   "source": [
    "# histogram represents total values of a particular X versus particular Y, \n",
    "# at any particular position of X, Y value shows the total number of counts or data below that value of X.\n",
    "\n",
    "# nump.histgram() is the numpy method"
   ]
  },
  {
   "cell_type": "markdown",
   "id": "2ff1c4f3",
   "metadata": {},
   "source": [
    "## Question 4:"
   ]
  },
  {
   "cell_type": "code",
   "execution_count": 4,
   "id": "e3d9ca09",
   "metadata": {},
   "outputs": [],
   "source": [
    "# figure(figsize=(x,y)) can be used. this method is inside matplot.pyplot"
   ]
  },
  {
   "cell_type": "markdown",
   "id": "68669a27",
   "metadata": {},
   "source": [
    "## Question 5:"
   ]
  },
  {
   "cell_type": "code",
   "execution_count": 5,
   "id": "edae4b21",
   "metadata": {},
   "outputs": [],
   "source": [
    "# in regular muliplication, values of same index get multiplied"
   ]
  },
  {
   "cell_type": "code",
   "execution_count": 6,
   "id": "ac316ec6",
   "metadata": {},
   "outputs": [],
   "source": [
    "# in dot product, row wise multiplication is done i.e. row of first array with column of other and so on."
   ]
  },
  {
   "cell_type": "code",
   "execution_count": 7,
   "id": "914d4ed5",
   "metadata": {},
   "outputs": [],
   "source": [
    "# in outer product, every element of first array will be multiplied with every element of second arrray, so that\n",
    "# no. of columns will be equal to no. of elements in second array"
   ]
  },
  {
   "cell_type": "markdown",
   "id": "dcbbddcb",
   "metadata": {},
   "source": [
    "## Question 6:"
   ]
  },
  {
   "cell_type": "code",
   "execution_count": 9,
   "id": "efe8c0dc",
   "metadata": {},
   "outputs": [],
   "source": [
    "# I will use numpy.pmt(rate,nper,pv) function\n",
    "# where pv: present value, rate: interest rate compounded over nper no. of periods."
   ]
  },
  {
   "cell_type": "markdown",
   "id": "ca945e22",
   "metadata": {},
   "source": [
    "## Question 7:"
   ]
  },
  {
   "cell_type": "code",
   "execution_count": 10,
   "id": "bdc78a4d",
   "metadata": {},
   "outputs": [],
   "source": [
    "# Yes, an array can store the string. The limitation which imposed on the string data is, \n",
    "# when we store the data of string dtype then it should should kept in mind that the string\n",
    "# which is having the maximum length should be the limit."
   ]
  },
  {
   "cell_type": "code",
   "execution_count": null,
   "id": "7b0f018f",
   "metadata": {},
   "outputs": [],
   "source": []
  }
 ],
 "metadata": {
  "kernelspec": {
   "display_name": "Python 3 (ipykernel)",
   "language": "python",
   "name": "python3"
  },
  "language_info": {
   "codemirror_mode": {
    "name": "ipython",
    "version": 3
   },
   "file_extension": ".py",
   "mimetype": "text/x-python",
   "name": "python",
   "nbconvert_exporter": "python",
   "pygments_lexer": "ipython3",
   "version": "3.9.13"
  }
 },
 "nbformat": 4,
 "nbformat_minor": 5
}
