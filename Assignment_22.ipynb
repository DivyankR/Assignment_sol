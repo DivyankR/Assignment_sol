{
 "cells": [
  {
   "cell_type": "markdown",
   "id": "b46047a9",
   "metadata": {},
   "source": [
    "## Question 1:"
   ]
  },
  {
   "cell_type": "code",
   "execution_count": 1,
   "id": "6d0ac4ef",
   "metadata": {},
   "outputs": [
    {
     "name": "stdout",
     "output_type": "stream",
     "text": [
      "iNeuron\n"
     ]
    }
   ],
   "source": [
    "x = 'iNeuron'\n",
    "def func():\n",
    "    print(x)\n",
    "func()"
   ]
  },
  {
   "cell_type": "code",
   "execution_count": 2,
   "id": "f7742bfe",
   "metadata": {},
   "outputs": [],
   "source": [
    "# since x is a global variable or it has a global scope it can be used anywhere in the program, therefore\n",
    "# func returns iNeuron "
   ]
  },
  {
   "cell_type": "markdown",
   "id": "3c1f9fb1",
   "metadata": {},
   "source": [
    "## Question 2:"
   ]
  },
  {
   "cell_type": "code",
   "execution_count": 3,
   "id": "5825d52b",
   "metadata": {},
   "outputs": [
    {
     "name": "stdout",
     "output_type": "stream",
     "text": [
      "iNeuron\n"
     ]
    }
   ],
   "source": [
    "x = 'iNeuron'\n",
    "def func():\n",
    "    x='NI!'\n",
    "func()\n",
    "print(x)"
   ]
  },
  {
   "cell_type": "code",
   "execution_count": 4,
   "id": "7fd8318e",
   "metadata": {},
   "outputs": [],
   "source": [
    "# because x='NI!' is having local scope, it is killed after the function func is executed and therefore only iNeuron\n",
    "# is printed"
   ]
  },
  {
   "cell_type": "markdown",
   "id": "87d3a0a4",
   "metadata": {},
   "source": [
    "## Question 3:"
   ]
  },
  {
   "cell_type": "code",
   "execution_count": 5,
   "id": "f3ee9870",
   "metadata": {},
   "outputs": [
    {
     "name": "stdout",
     "output_type": "stream",
     "text": [
      "NI\n",
      "iNeuron\n"
     ]
    }
   ],
   "source": [
    "x = 'iNeuron'\n",
    "def func():\n",
    "    x='NI'\n",
    "    print(x)\n",
    "func()\n",
    "print(x)"
   ]
  },
  {
   "cell_type": "code",
   "execution_count": 6,
   "id": "e484d112",
   "metadata": {},
   "outputs": [],
   "source": [
    "# since x inside func is having local scope therfore it prints NI.\n",
    "# the x which is outside func is global variable therefore when it is printed outside func it prints value of global\n",
    "# x i.e. iNeuron"
   ]
  },
  {
   "cell_type": "markdown",
   "id": "4cf639c0",
   "metadata": {},
   "source": [
    "## Question 4:"
   ]
  },
  {
   "cell_type": "code",
   "execution_count": 7,
   "id": "d5390b73",
   "metadata": {},
   "outputs": [
    {
     "name": "stdout",
     "output_type": "stream",
     "text": [
      "NI\n"
     ]
    }
   ],
   "source": [
    "x='iNeuron'\n",
    "def func():\n",
    "    global x\n",
    "    x='NI'\n",
    "func()\n",
    "print(x)"
   ]
  },
  {
   "cell_type": "code",
   "execution_count": 8,
   "id": "84b0ef6f",
   "metadata": {},
   "outputs": [],
   "source": [
    "# since we used global keyword with x, that made x's scope global, hence the value of x changed from iNeuron to NI."
   ]
  },
  {
   "cell_type": "markdown",
   "id": "54c37cdd",
   "metadata": {},
   "source": [
    "## Question 5:"
   ]
  },
  {
   "cell_type": "code",
   "execution_count": 9,
   "id": "d14c0799",
   "metadata": {},
   "outputs": [
    {
     "name": "stdout",
     "output_type": "stream",
     "text": [
      "NI\n"
     ]
    },
    {
     "data": {
      "text/plain": [
       "'iNeuron'"
      ]
     },
     "execution_count": 9,
     "metadata": {},
     "output_type": "execute_result"
    }
   ],
   "source": [
    "x='iNeuron'\n",
    "def func():\n",
    "    x='NI'\n",
    "    def nested():\n",
    "        print(x)\n",
    "    nested()\n",
    "func()\n",
    "x"
   ]
  },
  {
   "cell_type": "code",
   "execution_count": 10,
   "id": "0ff452e7",
   "metadata": {},
   "outputs": [],
   "source": [
    "# since x inside func and nested will be having local scope that is why NI is printed once nested is called,\n",
    "# and once control is out of function, global x gets printed."
   ]
  },
  {
   "cell_type": "markdown",
   "id": "c86d6884",
   "metadata": {},
   "source": [
    "## Question 6:"
   ]
  },
  {
   "cell_type": "code",
   "execution_count": 11,
   "id": "53b36d0a",
   "metadata": {},
   "outputs": [
    {
     "name": "stdout",
     "output_type": "stream",
     "text": [
      "Spam\n"
     ]
    }
   ],
   "source": [
    "def func():\n",
    "    x='NI'\n",
    "    def nested():\n",
    "        nonlocal x\n",
    "        x='Spam'\n",
    "    nested()\n",
    "    print(x)\n",
    "func()"
   ]
  },
  {
   "cell_type": "code",
   "execution_count": 12,
   "id": "e4965f90",
   "metadata": {},
   "outputs": [],
   "source": [
    "# nonlocal keyword is uesd to refer a variable in the nearest scope which is containing 'Spam' in this case, therefore\n",
    "# Spam gets printed"
   ]
  },
  {
   "cell_type": "code",
   "execution_count": null,
   "id": "2a865236",
   "metadata": {},
   "outputs": [],
   "source": []
  }
 ],
 "metadata": {
  "kernelspec": {
   "display_name": "Python 3 (ipykernel)",
   "language": "python",
   "name": "python3"
  },
  "language_info": {
   "codemirror_mode": {
    "name": "ipython",
    "version": 3
   },
   "file_extension": ".py",
   "mimetype": "text/x-python",
   "name": "python",
   "nbconvert_exporter": "python",
   "pygments_lexer": "ipython3",
   "version": "3.9.7"
  }
 },
 "nbformat": 4,
 "nbformat_minor": 5
}
