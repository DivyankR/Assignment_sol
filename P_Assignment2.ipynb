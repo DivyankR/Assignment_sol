{
 "cells": [
  {
   "cell_type": "markdown",
   "id": "b14dfeef",
   "metadata": {},
   "source": [
    "## Question 1"
   ]
  },
  {
   "cell_type": "code",
   "execution_count": 8,
   "id": "36918bef",
   "metadata": {},
   "outputs": [
    {
     "name": "stdout",
     "output_type": "stream",
     "text": [
      "enter the distance in kilometers: 13\n",
      "the distance in miles is: 20.9209\n"
     ]
    }
   ],
   "source": [
    "km = float(input(\"enter the distance in kilometers: \"))\n",
    "\n",
    "mi = 1.6093 * km\n",
    "print(\"the distance in miles is:\",mi)"
   ]
  },
  {
   "cell_type": "markdown",
   "id": "6b71dc49",
   "metadata": {},
   "source": [
    "## Question 2"
   ]
  },
  {
   "cell_type": "code",
   "execution_count": 9,
   "id": "28b67de4",
   "metadata": {},
   "outputs": [
    {
     "name": "stdout",
     "output_type": "stream",
     "text": [
      "enter temperature in degree celcius:45\n",
      "the temperature in fahrenheit is: 113.0\n"
     ]
    }
   ],
   "source": [
    "x = float(input(\"enter temperature in degree celcius:\"))\n",
    "f = (1.8 * x)+32\n",
    "print('the temperature in fahrenheit is:',f)"
   ]
  },
  {
   "cell_type": "markdown",
   "id": "45fef3fc",
   "metadata": {},
   "source": [
    "## Question 3"
   ]
  },
  {
   "cell_type": "code",
   "execution_count": 10,
   "id": "730462ac",
   "metadata": {
    "scrolled": false
   },
   "outputs": [
    {
     "name": "stdout",
     "output_type": "stream",
     "text": [
      "enter the year:2021\n",
      "enter the month:8\n",
      "    August 2021\n",
      "Mo Tu We Th Fr Sa Su\n",
      "                   1\n",
      " 2  3  4  5  6  7  8\n",
      " 9 10 11 12 13 14 15\n",
      "16 17 18 19 20 21 22\n",
      "23 24 25 26 27 28 29\n",
      "30 31\n",
      "\n",
      "                                  2021\n",
      "\n",
      "      January                   February                   March\n",
      "Mo Tu We Th Fr Sa Su      Mo Tu We Th Fr Sa Su      Mo Tu We Th Fr Sa Su\n",
      "             1  2  3       1  2  3  4  5  6  7       1  2  3  4  5  6  7\n",
      " 4  5  6  7  8  9 10       8  9 10 11 12 13 14       8  9 10 11 12 13 14\n",
      "11 12 13 14 15 16 17      15 16 17 18 19 20 21      15 16 17 18 19 20 21\n",
      "18 19 20 21 22 23 24      22 23 24 25 26 27 28      22 23 24 25 26 27 28\n",
      "25 26 27 28 29 30 31                                29 30 31\n",
      "\n",
      "       April                      May                       June\n",
      "Mo Tu We Th Fr Sa Su      Mo Tu We Th Fr Sa Su      Mo Tu We Th Fr Sa Su\n",
      "          1  2  3  4                      1  2          1  2  3  4  5  6\n",
      " 5  6  7  8  9 10 11       3  4  5  6  7  8  9       7  8  9 10 11 12 13\n",
      "12 13 14 15 16 17 18      10 11 12 13 14 15 16      14 15 16 17 18 19 20\n",
      "19 20 21 22 23 24 25      17 18 19 20 21 22 23      21 22 23 24 25 26 27\n",
      "26 27 28 29 30            24 25 26 27 28 29 30      28 29 30\n",
      "                          31\n",
      "\n",
      "        July                     August                  September\n",
      "Mo Tu We Th Fr Sa Su      Mo Tu We Th Fr Sa Su      Mo Tu We Th Fr Sa Su\n",
      "          1  2  3  4                         1             1  2  3  4  5\n",
      " 5  6  7  8  9 10 11       2  3  4  5  6  7  8       6  7  8  9 10 11 12\n",
      "12 13 14 15 16 17 18       9 10 11 12 13 14 15      13 14 15 16 17 18 19\n",
      "19 20 21 22 23 24 25      16 17 18 19 20 21 22      20 21 22 23 24 25 26\n",
      "26 27 28 29 30 31         23 24 25 26 27 28 29      27 28 29 30\n",
      "                          30 31\n",
      "\n",
      "      October                   November                  December\n",
      "Mo Tu We Th Fr Sa Su      Mo Tu We Th Fr Sa Su      Mo Tu We Th Fr Sa Su\n",
      "             1  2  3       1  2  3  4  5  6  7             1  2  3  4  5\n",
      " 4  5  6  7  8  9 10       8  9 10 11 12 13 14       6  7  8  9 10 11 12\n",
      "11 12 13 14 15 16 17      15 16 17 18 19 20 21      13 14 15 16 17 18 19\n",
      "18 19 20 21 22 23 24      22 23 24 25 26 27 28      20 21 22 23 24 25 26\n",
      "25 26 27 28 29 30 31      29 30                     27 28 29 30 31\n",
      "\n"
     ]
    }
   ],
   "source": [
    "import calendar \n",
    "yy = int(input('enter the year:'))\n",
    "mm = int(input('enter the month:'))\n",
    "print(calendar.month(yy,mm))\n",
    "print(calendar.calendar(yy))"
   ]
  },
  {
   "cell_type": "markdown",
   "id": "c3453394",
   "metadata": {},
   "source": [
    "## Question 4"
   ]
  },
  {
   "cell_type": "code",
   "execution_count": 11,
   "id": "a37e49cb",
   "metadata": {},
   "outputs": [
    {
     "name": "stdout",
     "output_type": "stream",
     "text": [
      "enter value of a:2\n",
      "enter value of b:3\n",
      "enter value of c:4\n",
      "roots are complex\n",
      "-0.75 +i 4.795831523312719\n",
      "-0.75 -i 4.795831523312719\n"
     ]
    }
   ],
   "source": [
    "import math\n",
    "a = float(input(\"enter value of a:\"))\n",
    "b = float(input(\"enter value of b:\"))\n",
    "c = float(input(\"enter value of c:\"))\n",
    "\n",
    "d = b*b - (4*a*c)\n",
    "x = math.sqrt(abs(d))\n",
    "if d > 0:\n",
    "    print(\"roots are real\")\n",
    "    print((-b-x)/(2*a))\n",
    "    print((-b+x)/(2*a))\n",
    "elif d == 0:\n",
    "    print(\"roots are equal and real\")\n",
    "    print((-b)/(2*a))\n",
    "    print((-b)/(2*a))\n",
    "else:\n",
    "    print(\"roots are complex\")\n",
    "    print((-b)/(2*a),\"+i\",x)\n",
    "    print((-b)/(2*a),\"-i\",x)\n",
    "if a == 0:\n",
    "    print(\"the equation is not a quadratic equation!!\")"
   ]
  },
  {
   "cell_type": "markdown",
   "id": "95d4ceb2",
   "metadata": {},
   "source": [
    "## Question 5"
   ]
  },
  {
   "cell_type": "code",
   "execution_count": 13,
   "id": "e43f519e",
   "metadata": {},
   "outputs": [
    {
     "name": "stdout",
     "output_type": "stream",
     "text": [
      "enter 1st variable: 67887\n",
      "enter 2nd variable: klopp\n",
      "\n",
      "variables before swapping\n",
      "1st variable:  67887\n",
      "2nd variable: klopp\n",
      "\n",
      "variables after swapping\n",
      "1st variable:  klopp\n",
      "2nd variable: 67887\n"
     ]
    }
   ],
   "source": [
    "a = input(\"enter 1st variable: \")\n",
    "b = input(\"enter 2nd variable: \")\n",
    "print()\n",
    "print(\"variables before swapping\")\n",
    "print(\"1st variable: \",a)\n",
    "print(\"2nd variable:\",b)\n",
    "a,b = b,a\n",
    "print()\n",
    "print(\"variables after swapping\")\n",
    "print(\"1st variable: \",a)\n",
    "print(\"2nd variable:\",b)"
   ]
  },
  {
   "cell_type": "code",
   "execution_count": null,
   "id": "41224a2e",
   "metadata": {},
   "outputs": [],
   "source": []
  }
 ],
 "metadata": {
  "kernelspec": {
   "display_name": "Python 3 (ipykernel)",
   "language": "python",
   "name": "python3"
  },
  "language_info": {
   "codemirror_mode": {
    "name": "ipython",
    "version": 3
   },
   "file_extension": ".py",
   "mimetype": "text/x-python",
   "name": "python",
   "nbconvert_exporter": "python",
   "pygments_lexer": "ipython3",
   "version": "3.9.7"
  }
 },
 "nbformat": 4,
 "nbformat_minor": 5
}
