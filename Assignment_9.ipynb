{
 "cells": [
  {
   "cell_type": "markdown",
   "id": "b5765ba7",
   "metadata": {},
   "source": [
    "## Question 1:"
   ]
  },
  {
   "cell_type": "code",
   "execution_count": 1,
   "id": "58e02ebb",
   "metadata": {},
   "outputs": [],
   "source": [
    "# Relative paths are relative to the current working directory."
   ]
  },
  {
   "cell_type": "markdown",
   "id": "d0ec706b",
   "metadata": {},
   "source": [
    "## Question 2:"
   ]
  },
  {
   "cell_type": "code",
   "execution_count": 2,
   "id": "973cf69e",
   "metadata": {},
   "outputs": [],
   "source": [
    "# Absolute paths start with the root folder, such as / or C:\\."
   ]
  },
  {
   "cell_type": "markdown",
   "id": "4714372f",
   "metadata": {},
   "source": [
    "## Question 3:"
   ]
  },
  {
   "cell_type": "code",
   "execution_count": 3,
   "id": "1056f142",
   "metadata": {},
   "outputs": [
    {
     "name": "stdout",
     "output_type": "stream",
     "text": [
      "/Users/divyankrawat\n"
     ]
    }
   ],
   "source": [
    "import os\n",
    "print(os.getcwd())"
   ]
  },
  {
   "cell_type": "code",
   "execution_count": 4,
   "id": "f1b3872a",
   "metadata": {},
   "outputs": [],
   "source": [
    "# getcwd() function is used to find what is the current working directory "
   ]
  },
  {
   "cell_type": "code",
   "execution_count": 5,
   "id": "4966eb71",
   "metadata": {},
   "outputs": [],
   "source": [
    "# chdir() is used to used to change the current working directory to specified path.\n",
    "# It takes only a single argument as new directory path."
   ]
  },
  {
   "cell_type": "markdown",
   "id": "8b1c9502",
   "metadata": {},
   "source": [
    "## Question 4:"
   ]
  },
  {
   "cell_type": "code",
   "execution_count": 6,
   "id": "23fcd31c",
   "metadata": {},
   "outputs": [],
   "source": [
    "# . folder is the current directory link and .. folder is the parent directory link"
   ]
  },
  {
   "cell_type": "markdown",
   "id": "61ff4c97",
   "metadata": {},
   "source": [
    "## Question 5:"
   ]
  },
  {
   "cell_type": "code",
   "execution_count": 7,
   "id": "9ce30898",
   "metadata": {},
   "outputs": [],
   "source": [
    "# In C:\\bacon\\eggs\\spam.txt, C:\\bacon\\eggs\\ is the dir name and spam.txt is base name"
   ]
  },
  {
   "cell_type": "markdown",
   "id": "e9c1f852",
   "metadata": {},
   "source": [
    "## Question 6:"
   ]
  },
  {
   "cell_type": "code",
   "execution_count": 8,
   "id": "344e059a",
   "metadata": {},
   "outputs": [],
   "source": [
    "# The string 'r' for read mode, 'w' for write mode, and 'a' for append mode"
   ]
  },
  {
   "cell_type": "markdown",
   "id": "52a87c84",
   "metadata": {},
   "source": [
    "## Question 7:"
   ]
  },
  {
   "cell_type": "code",
   "execution_count": 9,
   "id": "a1774fb1",
   "metadata": {},
   "outputs": [],
   "source": [
    "# An existing file opened in write mode is erased and completely overwritten."
   ]
  },
  {
   "cell_type": "markdown",
   "id": "08a9f5ef",
   "metadata": {},
   "source": [
    "## Question 8:"
   ]
  },
  {
   "cell_type": "code",
   "execution_count": 10,
   "id": "53c7f348",
   "metadata": {},
   "outputs": [],
   "source": [
    "# The read() method returns the file's entire contents as a single string value.\n",
    "# The readlines() method returns a list of strings, where each string is a line from the file's contents."
   ]
  },
  {
   "cell_type": "markdown",
   "id": "64a00827",
   "metadata": {},
   "source": [
    "## Question 9:"
   ]
  },
  {
   "cell_type": "code",
   "execution_count": 11,
   "id": "10d5e3b6",
   "metadata": {},
   "outputs": [],
   "source": [
    "# A shelf value resembles a dictionary value; it has keys and values, along with keys() and values() methods \n",
    "# that work similarly to the dictionary methods of the same names."
   ]
  },
  {
   "cell_type": "code",
   "execution_count": null,
   "id": "af1f9b55",
   "metadata": {},
   "outputs": [],
   "source": []
  }
 ],
 "metadata": {
  "kernelspec": {
   "display_name": "Python 3 (ipykernel)",
   "language": "python",
   "name": "python3"
  },
  "language_info": {
   "codemirror_mode": {
    "name": "ipython",
    "version": 3
   },
   "file_extension": ".py",
   "mimetype": "text/x-python",
   "name": "python",
   "nbconvert_exporter": "python",
   "pygments_lexer": "ipython3",
   "version": "3.9.7"
  }
 },
 "nbformat": 4,
 "nbformat_minor": 5
}
