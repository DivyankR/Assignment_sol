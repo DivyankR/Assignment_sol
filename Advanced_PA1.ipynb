{
 "cells": [
  {
   "cell_type": "markdown",
   "id": "485a9d91",
   "metadata": {},
   "source": [
    "## Question 1"
   ]
  },
  {
   "cell_type": "code",
   "execution_count": 1,
   "id": "d9dce7c4",
   "metadata": {},
   "outputs": [],
   "source": [
    "# Purpose of python's OOP is to be able to create reusable code. OOP is a programming methodology which uses classes and objects."
   ]
  },
  {
   "cell_type": "markdown",
   "id": "798ef76c",
   "metadata": {},
   "source": [
    "## Question 2"
   ]
  },
  {
   "cell_type": "code",
   "execution_count": 1,
   "id": "1e38dbf9",
   "metadata": {},
   "outputs": [],
   "source": [
    "# inheritance search looks for an attribute in an instance object of the class which it was created, \n",
    "# then in all the superclasses, going from left to right. The first place where the attribute is found,\n",
    "# the search stops."
   ]
  },
  {
   "cell_type": "markdown",
   "id": "9097c078",
   "metadata": {},
   "source": [
    "## Question 3:"
   ]
  },
  {
   "cell_type": "code",
   "execution_count": 2,
   "id": "f2eaa791",
   "metadata": {},
   "outputs": [],
   "source": [
    "# class object and instance are both the same things. Class is a template to define\n",
    "# a particular theme or a process but an instance or a class object defines what it will look in real world."
   ]
  },
  {
   "cell_type": "markdown",
   "id": "bae89a2c",
   "metadata": {},
   "source": [
    "## Question 4:"
   ]
  },
  {
   "cell_type": "code",
   "execution_count": 3,
   "id": "c569c165",
   "metadata": {},
   "outputs": [],
   "source": [
    "# the first argument in class's method funcion is a keyword used to refer to its own \n",
    "# current instance of that particular class."
   ]
  },
  {
   "cell_type": "markdown",
   "id": "5aa82178",
   "metadata": {},
   "source": [
    "## Question 5:"
   ]
  },
  {
   "cell_type": "code",
   "execution_count": 4,
   "id": "dad78afd",
   "metadata": {},
   "outputs": [],
   "source": [
    "# purpose of __init__ method is to initiate a constructor, the moment the class object is made and it is passed some parameter.\n",
    "# A constructor is used so that it can initialize a particular value to data members of class as soon as object is created"
   ]
  },
  {
   "cell_type": "markdown",
   "id": "e87c1241",
   "metadata": {},
   "source": [
    "## Question 6:"
   ]
  },
  {
   "cell_type": "code",
   "execution_count": 5,
   "id": "fc676a16",
   "metadata": {},
   "outputs": [
    {
     "name": "stdout",
     "output_type": "stream",
     "text": [
      "the car is of: toyota\n"
     ]
    }
   ],
   "source": [
    "class car:\n",
    "    def __init__(self,brand):\n",
    "        self.brand = brand\n",
    "    def details(self):\n",
    "        print('the car is of:',self.brand)\n",
    "\n",
    "c = car(\"toyota\")\n",
    "c.details()"
   ]
  },
  {
   "cell_type": "markdown",
   "id": "b8b7d782",
   "metadata": {},
   "source": [
    "## Question 7:"
   ]
  },
  {
   "cell_type": "code",
   "execution_count": 6,
   "id": "40a6203d",
   "metadata": {},
   "outputs": [
    {
     "name": "stdout",
     "output_type": "stream",
     "text": [
      "the car is of: toyota\n"
     ]
    }
   ],
   "source": [
    "class car:\n",
    "    def __init__(self,brand):\n",
    "        self.brand = brand\n",
    "    def details(self):\n",
    "        print('the car is of:',self.brand)\n",
    "\n",
    "c = car(\"toyota\")\n",
    "c.details()"
   ]
  },
  {
   "cell_type": "markdown",
   "id": "afbfe640",
   "metadata": {},
   "source": [
    "## Question 8:"
   ]
  },
  {
   "cell_type": "code",
   "execution_count": 7,
   "id": "84a5c557",
   "metadata": {},
   "outputs": [],
   "source": [
    "# The definition of superclass is a class which is being inherited by a child class(subclass). example is shown below:"
   ]
  },
  {
   "cell_type": "code",
   "execution_count": 9,
   "id": "b0de3f46",
   "metadata": {},
   "outputs": [
    {
     "name": "stdout",
     "output_type": "stream",
     "text": [
      "<__main__.Car object at 0x7f93e1b3d160>\n",
      "steel\n",
      "<__main__.Tata object at 0x7f93e1b1fb20>\n",
      "MRF\n",
      "mileage of this car \n",
      "None\n"
     ]
    }
   ],
   "source": [
    "class Car:\n",
    "    def __init__(self, body, engine, tyre):\n",
    "        self.body = body\n",
    "        self.engine = engine\n",
    "        self.tyre = tyre\n",
    "\n",
    "    def mileage(self):\n",
    "        print(\"mileage of this car \")\n",
    "\n",
    "\n",
    "class Tata(Car):\n",
    "    pass\n",
    "\n",
    "\n",
    "c = Car(\"steel\", \"V6\", \"radial\")\n",
    "print(c)\n",
    "print(c.body)\n",
    "t = Tata(\"carbon fiber\", \"V8\", \"MRF\")\n",
    "print(t)\n",
    "print(t.tyre)\n",
    "print(t.mileage())"
   ]
  },
  {
   "cell_type": "code",
   "execution_count": null,
   "id": "1d8c0ada",
   "metadata": {},
   "outputs": [],
   "source": []
  }
 ],
 "metadata": {
  "kernelspec": {
   "display_name": "Python 3 (ipykernel)",
   "language": "python",
   "name": "python3"
  },
  "language_info": {
   "codemirror_mode": {
    "name": "ipython",
    "version": 3
   },
   "file_extension": ".py",
   "mimetype": "text/x-python",
   "name": "python",
   "nbconvert_exporter": "python",
   "pygments_lexer": "ipython3",
   "version": "3.9.7"
  }
 },
 "nbformat": 4,
 "nbformat_minor": 5
}
