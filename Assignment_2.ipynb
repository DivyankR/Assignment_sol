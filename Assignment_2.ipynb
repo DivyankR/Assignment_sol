{
 "cells": [
  {
   "cell_type": "markdown",
   "id": "105ac4d7",
   "metadata": {},
   "source": [
    "## Question 1"
   ]
  },
  {
   "cell_type": "markdown",
   "id": "50248091",
   "metadata": {},
   "source": [
    "### The two values of the boolean data type are true and false. They can be written as:\n",
    "### 1)True\n",
    "### 2)False"
   ]
  },
  {
   "cell_type": "markdown",
   "id": "84e8ca1a",
   "metadata": {},
   "source": [
    "## Question 2"
   ]
  },
  {
   "cell_type": "markdown",
   "id": "4bc1924f",
   "metadata": {},
   "source": [
    "### Three different types of boolean operators are:\n",
    "### 1)and \n",
    "### 2)or\n",
    "### 3)not"
   ]
  },
  {
   "cell_type": "markdown",
   "id": "8b4003ae",
   "metadata": {},
   "source": [
    "## Question 3"
   ]
  },
  {
   "cell_type": "markdown",
   "id": "41395144",
   "metadata": {},
   "source": [
    "### and operator"
   ]
  },
  {
   "cell_type": "markdown",
   "id": "0f9270b6",
   "metadata": {},
   "source": [
    "|Value_1||Value_2||Result|\n",
    "|-----|  |-----|  |-----|\n",
    "|True|   |True|   |True|\n",
    "|True|   |False|  |False|\n",
    "|False|  |True|   |False|\n",
    "|False|  |False|  |False|"
   ]
  },
  {
   "cell_type": "markdown",
   "id": "6cce0713",
   "metadata": {},
   "source": [
    "### or operator"
   ]
  },
  {
   "cell_type": "markdown",
   "id": "e949cb07",
   "metadata": {},
   "source": [
    "|Value_1||Value_2||Result|\n",
    "|-----|  |-----|  |-----|\n",
    "|True|   |True|   |True|\n",
    "|True|   |False|  |True|\n",
    "|False|  |True|   |True|\n",
    "|False|  |False|  |False|"
   ]
  },
  {
   "cell_type": "markdown",
   "id": "7a58caf0",
   "metadata": {},
   "source": [
    "### not operator"
   ]
  },
  {
   "cell_type": "markdown",
   "id": "7e7399d5",
   "metadata": {},
   "source": [
    "|Value||Result|\n",
    "|-----|  |-----|\n",
    "|True|   |False|   \n",
    "|False|  |True|  "
   ]
  },
  {
   "cell_type": "markdown",
   "id": "8c8b9974",
   "metadata": {},
   "source": [
    "## Question 4"
   ]
  },
  {
   "cell_type": "code",
   "execution_count": 14,
   "id": "54ac48ca",
   "metadata": {},
   "outputs": [
    {
     "data": {
      "text/plain": [
       "False"
      ]
     },
     "execution_count": 14,
     "metadata": {},
     "output_type": "execute_result"
    }
   ],
   "source": [
    "(5 > 4) and (3 == 5)"
   ]
  },
  {
   "cell_type": "code",
   "execution_count": 15,
   "id": "86ee2239",
   "metadata": {},
   "outputs": [
    {
     "data": {
      "text/plain": [
       "False"
      ]
     },
     "execution_count": 15,
     "metadata": {},
     "output_type": "execute_result"
    }
   ],
   "source": [
    "not (5 > 4)"
   ]
  },
  {
   "cell_type": "code",
   "execution_count": 16,
   "id": "ad01f561",
   "metadata": {},
   "outputs": [
    {
     "data": {
      "text/plain": [
       "True"
      ]
     },
     "execution_count": 16,
     "metadata": {},
     "output_type": "execute_result"
    }
   ],
   "source": [
    "(5 > 4) or (3 == 5)"
   ]
  },
  {
   "cell_type": "code",
   "execution_count": 17,
   "id": "5a54db27",
   "metadata": {},
   "outputs": [
    {
     "data": {
      "text/plain": [
       "False"
      ]
     },
     "execution_count": 17,
     "metadata": {},
     "output_type": "execute_result"
    }
   ],
   "source": [
    "not ((5 > 4) or (3 == 5))"
   ]
  },
  {
   "cell_type": "code",
   "execution_count": 18,
   "id": "5de57187",
   "metadata": {},
   "outputs": [
    {
     "data": {
      "text/plain": [
       "False"
      ]
     },
     "execution_count": 18,
     "metadata": {},
     "output_type": "execute_result"
    }
   ],
   "source": [
    "(True and True) and (True == False)"
   ]
  },
  {
   "cell_type": "code",
   "execution_count": 19,
   "id": "36f11766",
   "metadata": {},
   "outputs": [
    {
     "data": {
      "text/plain": [
       "True"
      ]
     },
     "execution_count": 19,
     "metadata": {},
     "output_type": "execute_result"
    }
   ],
   "source": [
    "(not False) or (not True)"
   ]
  },
  {
   "cell_type": "markdown",
   "id": "9596c0ab",
   "metadata": {},
   "source": [
    "## Question 5"
   ]
  },
  {
   "cell_type": "markdown",
   "id": "b7a14e5b",
   "metadata": {},
   "source": [
    "### the six comparison operators are:\n",
    "### >\n",
    "### >=\n",
    "### <\n",
    "### <=\n",
    "### ==\n",
    "### !="
   ]
  },
  {
   "cell_type": "markdown",
   "id": "bb6ffd19",
   "metadata": {},
   "source": [
    "## Question 6"
   ]
  },
  {
   "cell_type": "markdown",
   "id": "26bf52d5",
   "metadata": {},
   "source": [
    "### The equal to operator is represented as '==' and the assignment operator is represented as '=' only. By the help of this, we can differentiate between these two operators easily."
   ]
  },
  {
   "cell_type": "markdown",
   "id": "8c2e8c6c",
   "metadata": {},
   "source": [
    "### When we have to compare for equality of two values, we use equal to or '==' operator whereas when we want to assign a value to a variable, we use assignment or '=' operator."
   ]
  },
  {
   "cell_type": "code",
   "execution_count": 22,
   "id": "79ccb48d",
   "metadata": {},
   "outputs": [
    {
     "name": "stdout",
     "output_type": "stream",
     "text": [
      "hi!\n"
     ]
    }
   ],
   "source": [
    "# example\n",
    "if 5 == 5:\n",
    "    print('hi!')"
   ]
  },
  {
   "cell_type": "code",
   "execution_count": 23,
   "id": "f1fc5b7b",
   "metadata": {},
   "outputs": [
    {
     "name": "stdout",
     "output_type": "stream",
     "text": [
      "20\n"
     ]
    }
   ],
   "source": [
    "a = 20\n",
    "print(a)"
   ]
  },
  {
   "cell_type": "markdown",
   "id": "d2417675",
   "metadata": {},
   "source": [
    "## Question 7"
   ]
  },
  {
   "cell_type": "markdown",
   "id": "cc5ccf97",
   "metadata": {},
   "source": [
    "### The three blocks in the code are:"
   ]
  },
  {
   "cell_type": "code",
   "execution_count": 25,
   "id": "5802eb60",
   "metadata": {},
   "outputs": [
    {
     "name": "stdout",
     "output_type": "stream",
     "text": [
      "ham\n",
      "spam\n",
      "spam\n"
     ]
    }
   ],
   "source": [
    "spam = 0\n",
    "if spam == 10:\n",
    "    print('eggs')\n",
    "if spam > 5:\n",
    "    print('bacon')\n",
    "else:\n",
    "    print('ham')\n",
    "    print('spam')\n",
    "    print('spam')"
   ]
  },
  {
   "cell_type": "markdown",
   "id": "7bd892bd",
   "metadata": {},
   "source": [
    "## Question 8"
   ]
  },
  {
   "cell_type": "code",
   "execution_count": 31,
   "id": "f5714131",
   "metadata": {},
   "outputs": [
    {
     "name": "stdout",
     "output_type": "stream",
     "text": [
      "enter the value for spam: 43\n",
      "Greetings!\n"
     ]
    }
   ],
   "source": [
    "spam = int(input('enter the value for spam: '))\n",
    "if spam == 1:\n",
    "    print(\"Hello\")\n",
    "elif spam == 2:\n",
    "    print('Howdy')\n",
    "else:\n",
    "    print('Greetings!')"
   ]
  },
  {
   "cell_type": "markdown",
   "id": "efd44f8e",
   "metadata": {},
   "source": [
    "## Question 9"
   ]
  },
  {
   "cell_type": "markdown",
   "id": "2761fee5",
   "metadata": {},
   "source": [
    "### If my program is stuck in an endless loop, I will press 'interrupt the kernel' button immediately when I am working in jupyter notebook. After this, I will have to restart the kernel after ensuring that loop won't run endlessly by removing that particular condition which made the loop endless."
   ]
  },
  {
   "cell_type": "markdown",
   "id": "99b2f3ab",
   "metadata": {},
   "source": [
    "## Question 10"
   ]
  },
  {
   "cell_type": "markdown",
   "id": "e1047a71",
   "metadata": {},
   "source": [
    "## break"
   ]
  },
  {
   "cell_type": "markdown",
   "id": "4d3956e6",
   "metadata": {},
   "source": [
    "### break statement ensures that if it is executed, it will break out of the looping statement i.e., loop won't proceed ahead once break statement is executed"
   ]
  },
  {
   "cell_type": "markdown",
   "id": "f779781c",
   "metadata": {},
   "source": [
    "## continue"
   ]
  },
  {
   "cell_type": "markdown",
   "id": "edeb5b22",
   "metadata": {},
   "source": [
    "### continue statement ensures that if it is executed, it will skip that particular condition where it was executed. Loop will continue to run after this happens and will stop once it is exhausted"
   ]
  },
  {
   "cell_type": "code",
   "execution_count": 34,
   "id": "09b87acd",
   "metadata": {},
   "outputs": [
    {
     "name": "stdout",
     "output_type": "stream",
     "text": [
      "1\n",
      "2\n",
      "3\n",
      "4\n",
      "5\n",
      "6\n"
     ]
    }
   ],
   "source": [
    "# example\n",
    "for i in range(1,10):\n",
    "    if i == 7:\n",
    "        break\n",
    "    print(i)"
   ]
  },
  {
   "cell_type": "code",
   "execution_count": 35,
   "id": "a2379907",
   "metadata": {},
   "outputs": [
    {
     "name": "stdout",
     "output_type": "stream",
     "text": [
      "0\n",
      "1\n",
      "2\n",
      "3\n",
      "4\n",
      "5\n",
      "6\n",
      "8\n",
      "9\n"
     ]
    }
   ],
   "source": [
    "for i in range(10):\n",
    "    if i == 7:\n",
    "        continue\n",
    "    print(i)"
   ]
  },
  {
   "cell_type": "markdown",
   "id": "d418a682",
   "metadata": {},
   "source": [
    "### as we can see in the above cell, once continue statement is executed it will skip the particular condition where it is executed"
   ]
  },
  {
   "cell_type": "code",
   "execution_count": null,
   "id": "ee714c4f",
   "metadata": {},
   "outputs": [],
   "source": []
  },
  {
   "cell_type": "markdown",
   "id": "7f8b94f1",
   "metadata": {},
   "source": [
    "## Question 11"
   ]
  },
  {
   "cell_type": "markdown",
   "id": "c7bda567",
   "metadata": {},
   "source": [
    "### range(0,10), range(10) and range(0,10,1) will generate same set of values when used in a for loop. Example is given in below cells:"
   ]
  },
  {
   "cell_type": "code",
   "execution_count": 36,
   "id": "9eb91703",
   "metadata": {},
   "outputs": [
    {
     "name": "stdout",
     "output_type": "stream",
     "text": [
      "0\n",
      "1\n",
      "2\n",
      "3\n",
      "4\n",
      "5\n",
      "6\n",
      "7\n",
      "8\n",
      "9\n"
     ]
    }
   ],
   "source": [
    "for i in range(0,10):\n",
    "    print(i)"
   ]
  },
  {
   "cell_type": "code",
   "execution_count": 37,
   "id": "09f238d7",
   "metadata": {},
   "outputs": [
    {
     "name": "stdout",
     "output_type": "stream",
     "text": [
      "0\n",
      "1\n",
      "2\n",
      "3\n",
      "4\n",
      "5\n",
      "6\n",
      "7\n",
      "8\n",
      "9\n"
     ]
    }
   ],
   "source": [
    "for i in range(10):\n",
    "    print(i)"
   ]
  },
  {
   "cell_type": "code",
   "execution_count": 38,
   "id": "f2247441",
   "metadata": {},
   "outputs": [
    {
     "name": "stdout",
     "output_type": "stream",
     "text": [
      "0\n",
      "1\n",
      "2\n",
      "3\n",
      "4\n",
      "5\n",
      "6\n",
      "7\n",
      "8\n",
      "9\n"
     ]
    }
   ],
   "source": [
    "for i in range(0,10,1):\n",
    "    print(i)"
   ]
  },
  {
   "cell_type": "code",
   "execution_count": null,
   "id": "4887d754",
   "metadata": {},
   "outputs": [],
   "source": []
  },
  {
   "cell_type": "markdown",
   "id": "bd3adde4",
   "metadata": {},
   "source": [
    "## Question 12"
   ]
  },
  {
   "cell_type": "code",
   "execution_count": 39,
   "id": "07030dd8",
   "metadata": {},
   "outputs": [
    {
     "name": "stdout",
     "output_type": "stream",
     "text": [
      "1\n",
      "2\n",
      "3\n",
      "4\n",
      "5\n",
      "6\n",
      "7\n",
      "8\n",
      "9\n",
      "10\n"
     ]
    }
   ],
   "source": [
    "for i in range(1,11):\n",
    "    print(i)"
   ]
  },
  {
   "cell_type": "code",
   "execution_count": 40,
   "id": "e19e100d",
   "metadata": {},
   "outputs": [
    {
     "name": "stdout",
     "output_type": "stream",
     "text": [
      "1\n",
      "2\n",
      "3\n",
      "4\n",
      "5\n",
      "6\n",
      "7\n",
      "8\n",
      "9\n",
      "10\n"
     ]
    }
   ],
   "source": [
    "i = 1\n",
    "while i <= 10:\n",
    "    print(i)\n",
    "    i += 1 "
   ]
  },
  {
   "cell_type": "code",
   "execution_count": null,
   "id": "5fbdf3f8",
   "metadata": {},
   "outputs": [],
   "source": []
  },
  {
   "cell_type": "markdown",
   "id": "d765e876",
   "metadata": {},
   "source": [
    "## Question 13"
   ]
  },
  {
   "cell_type": "markdown",
   "id": "6bc5816b",
   "metadata": {},
   "source": [
    "### After importing a particular module, we have to just write module_name.function_name() in order to call the function. To call bacon after importing spam module we can call it as follows:"
   ]
  },
  {
   "cell_type": "code",
   "execution_count": null,
   "id": "1ff5fa2c",
   "metadata": {},
   "outputs": [],
   "source": [
    "# import spam\n",
    "# print(spam.bacon())"
   ]
  }
 ],
 "metadata": {
  "kernelspec": {
   "display_name": "Python 3 (ipykernel)",
   "language": "python",
   "name": "python3"
  },
  "language_info": {
   "codemirror_mode": {
    "name": "ipython",
    "version": 3
   },
   "file_extension": ".py",
   "mimetype": "text/x-python",
   "name": "python",
   "nbconvert_exporter": "python",
   "pygments_lexer": "ipython3",
   "version": "3.9.7"
  }
 },
 "nbformat": 4,
 "nbformat_minor": 5
}
