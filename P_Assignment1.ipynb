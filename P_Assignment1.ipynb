{
 "cells": [
  {
   "cell_type": "markdown",
   "id": "813b179b",
   "metadata": {},
   "source": [
    "## Question 1"
   ]
  },
  {
   "cell_type": "code",
   "execution_count": 1,
   "id": "20f1d7e0",
   "metadata": {},
   "outputs": [
    {
     "name": "stdout",
     "output_type": "stream",
     "text": [
      "Hello Python\n"
     ]
    }
   ],
   "source": [
    "print('Hello Python')"
   ]
  },
  {
   "cell_type": "markdown",
   "id": "25c9a5c7",
   "metadata": {},
   "source": [
    "## Question 2"
   ]
  },
  {
   "cell_type": "code",
   "execution_count": 1,
   "id": "d8b9e6bf",
   "metadata": {},
   "outputs": [
    {
     "name": "stdout",
     "output_type": "stream",
     "text": [
      "******* addition operation *******\n",
      "enter first number: 45\n",
      "enter second number: 76.56\n",
      "addition of 45.0 and 76.56 is:  121.56\n",
      "\n",
      "******* division operation *******\n",
      "enter first number: 34\n",
      "enter second number: 7\n",
      "division of 34.0 and 7.0 is:  4.857142857142857\n"
     ]
    }
   ],
   "source": [
    "print(\"******* addition operation *******\")\n",
    "x = float(input(\"enter first number: \"))\n",
    "y = float(input(\"enter second number: \"))\n",
    "s = x + y\n",
    "print(\"addition of\",x,\"and\",y,\"is: \",s)\n",
    "print()\n",
    "print(\"******* division operation *******\")\n",
    "a = float(input(\"enter first number: \"))\n",
    "b = float(input(\"enter second number: \"))\n",
    "d = a / b\n",
    "print(\"division of\",a,\"and\",b,\"is: \",d)"
   ]
  },
  {
   "cell_type": "markdown",
   "id": "c1ccb922",
   "metadata": {},
   "source": [
    "## Question 3"
   ]
  },
  {
   "cell_type": "code",
   "execution_count": 2,
   "id": "2c8a58b4",
   "metadata": {},
   "outputs": [
    {
     "name": "stdout",
     "output_type": "stream",
     "text": [
      "enter first side: 12\n",
      "enter second side: 14\n",
      "enter the angle present between above mentioned sides in degrees:30\n",
      "\n",
      "area of the triangle is: 41.99999999999999\n"
     ]
    }
   ],
   "source": [
    "import math\n",
    "o = math.pi\n",
    "a = float(input(\"enter first side: \"))\n",
    "b = float(input(\"enter second side: \"))\n",
    "angle = float(input(\"enter the angle present between above mentioned sides in degrees:\"))\n",
    "angle1 = (o * angle)/180\n",
    "area = 0.5*a*b*(math.sin(angle1))\n",
    "print()\n",
    "print(\"area of the triangle is:\",area)"
   ]
  },
  {
   "cell_type": "markdown",
   "id": "887d9a90",
   "metadata": {},
   "source": [
    "## Question 4"
   ]
  },
  {
   "cell_type": "code",
   "execution_count": 4,
   "id": "0c50fa5c",
   "metadata": {},
   "outputs": [
    {
     "name": "stdout",
     "output_type": "stream",
     "text": [
      "enter 1st variable: isro\n",
      "enter 2nd variable: -5.234\n",
      "\n",
      "variables before swapping\n",
      "1st variable:  isro\n",
      "2nd variable -5.234\n",
      "\n",
      "variables after swapping\n",
      "1st variable:  -5.234\n",
      "2nd variable isro\n"
     ]
    }
   ],
   "source": [
    "a = input(\"enter 1st variable: \")\n",
    "b = input(\"enter 2nd variable: \")\n",
    "print()\n",
    "print(\"variables before swapping\")\n",
    "print(\"1st variable: \",a)\n",
    "print(\"2nd variable\",b)\n",
    "a,b = b,a\n",
    "print()\n",
    "print(\"variables after swapping\")\n",
    "print(\"1st variable: \",a)\n",
    "print(\"2nd variable\",b)"
   ]
  },
  {
   "cell_type": "markdown",
   "id": "f88a2011",
   "metadata": {},
   "source": [
    "## Question 5"
   ]
  },
  {
   "cell_type": "code",
   "execution_count": 5,
   "id": "fc06a3cb",
   "metadata": {},
   "outputs": [
    {
     "name": "stdout",
     "output_type": "stream",
     "text": [
      "enter lower bound for generating random number:8\n",
      "enter higher bound for generating random number:253\n",
      "46\n"
     ]
    }
   ],
   "source": [
    "import random\n",
    "\n",
    "x = int(input(\"enter lower bound for generating random number:\"))\n",
    "y = int(input('enter higher bound for generating random number:'))\n",
    "a = random.randint(x,y)\n",
    "print(a)"
   ]
  },
  {
   "cell_type": "code",
   "execution_count": null,
   "id": "415205e2",
   "metadata": {},
   "outputs": [],
   "source": []
  }
 ],
 "metadata": {
  "kernelspec": {
   "display_name": "Python 3 (ipykernel)",
   "language": "python",
   "name": "python3"
  },
  "language_info": {
   "codemirror_mode": {
    "name": "ipython",
    "version": 3
   },
   "file_extension": ".py",
   "mimetype": "text/x-python",
   "name": "python",
   "nbconvert_exporter": "python",
   "pygments_lexer": "ipython3",
   "version": "3.9.7"
  }
 },
 "nbformat": 4,
 "nbformat_minor": 5
}
