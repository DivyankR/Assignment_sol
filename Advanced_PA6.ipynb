{
 "cells": [
  {
   "cell_type": "markdown",
   "id": "65b7c7ee",
   "metadata": {},
   "source": [
    "## Question 1:"
   ]
  },
  {
   "cell_type": "code",
   "execution_count": 1,
   "id": "1d33249b",
   "metadata": {},
   "outputs": [],
   "source": [
    "# some applications of exception processing:\n",
    "\n",
    "# Checking Appropriate use of input in an application\n",
    "# Checking for Arithmetic exceptions in mathematical executions\n",
    "# Checking File I/O exceptions during File handling"
   ]
  },
  {
   "cell_type": "markdown",
   "id": "337f4234",
   "metadata": {},
   "source": [
    "## Question 2:"
   ]
  },
  {
   "cell_type": "code",
   "execution_count": 2,
   "id": "2f0f7231",
   "metadata": {},
   "outputs": [],
   "source": [
    "# if we dont do something extra to handle exceptions, then program can crash unexpectedly leaving us out with\n",
    "# unexpected results and incomplete executions of the program.\n",
    "# Inshort inability of program to handle exceptions will result in crashing of program."
   ]
  },
  {
   "cell_type": "markdown",
   "id": "363e2b47",
   "metadata": {},
   "source": [
    "## Question 3:"
   ]
  },
  {
   "cell_type": "code",
   "execution_count": 3,
   "id": "940a57cb",
   "metadata": {},
   "outputs": [],
   "source": [
    "# we can use try and except statements for recovering from an exception in our script."
   ]
  },
  {
   "cell_type": "markdown",
   "id": "5058d0af",
   "metadata": {},
   "source": [
    "## Question 4:"
   ]
  },
  {
   "cell_type": "code",
   "execution_count": 4,
   "id": "1cd05d3d",
   "metadata": {},
   "outputs": [],
   "source": [
    "# raise and assert can be used to trigger exceptions in our script"
   ]
  },
  {
   "cell_type": "code",
   "execution_count": 5,
   "id": "88a4cb8a",
   "metadata": {},
   "outputs": [
    {
     "ename": "Exception",
     "evalue": "b shouldnt be True. provided value is True",
     "output_type": "error",
     "traceback": [
      "\u001b[0;31m---------------------------------------------------------------------------\u001b[0m",
      "\u001b[0;31mException\u001b[0m                                 Traceback (most recent call last)",
      "\u001b[0;32m/var/folders/7k/zrs4dx8d5bvdn3rjcd_08knr0000gn/T/ipykernel_56424/2747816582.py\u001b[0m in \u001b[0;36m<module>\u001b[0;34m\u001b[0m\n\u001b[1;32m      1\u001b[0m \u001b[0mb\u001b[0m \u001b[0;34m=\u001b[0m \u001b[0;32mTrue\u001b[0m\u001b[0;34m\u001b[0m\u001b[0;34m\u001b[0m\u001b[0m\n\u001b[0;32m----> 2\u001b[0;31m \u001b[0;32mraise\u001b[0m \u001b[0mException\u001b[0m\u001b[0;34m(\u001b[0m\u001b[0;34mf'b shouldnt be True. provided value is {b}'\u001b[0m\u001b[0;34m)\u001b[0m\u001b[0;34m\u001b[0m\u001b[0;34m\u001b[0m\u001b[0m\n\u001b[0m",
      "\u001b[0;31mException\u001b[0m: b shouldnt be True. provided value is True"
     ]
    }
   ],
   "source": [
    "b = True\n",
    "raise Exception(f'b shouldnt be True. provided value is {b}')"
   ]
  },
  {
   "cell_type": "code",
   "execution_count": 7,
   "id": "019bee63",
   "metadata": {},
   "outputs": [
    {
     "ename": "AssertionError",
     "evalue": "1 is not greater than 4",
     "output_type": "error",
     "traceback": [
      "\u001b[0;31m---------------------------------------------------------------------------\u001b[0m",
      "\u001b[0;31mAssertionError\u001b[0m                            Traceback (most recent call last)",
      "\u001b[0;32m/var/folders/7k/zrs4dx8d5bvdn3rjcd_08knr0000gn/T/ipykernel_56424/815855175.py\u001b[0m in \u001b[0;36m<module>\u001b[0;34m\u001b[0m\n\u001b[0;32m----> 1\u001b[0;31m \u001b[0;32massert\u001b[0m\u001b[0;34m(\u001b[0m\u001b[0;36m1\u001b[0m\u001b[0;34m>\u001b[0m\u001b[0;36m4\u001b[0m\u001b[0;34m)\u001b[0m\u001b[0;34m,\u001b[0m \u001b[0;34m\"1 is not greater than 4\"\u001b[0m\u001b[0;34m\u001b[0m\u001b[0;34m\u001b[0m\u001b[0m\n\u001b[0m",
      "\u001b[0;31mAssertionError\u001b[0m: 1 is not greater than 4"
     ]
    }
   ],
   "source": [
    "assert(1>4), \"1 is not greater than 4\""
   ]
  },
  {
   "cell_type": "markdown",
   "id": "2ae633a5",
   "metadata": {},
   "source": [
    "## Question 5:"
   ]
  },
  {
   "cell_type": "code",
   "execution_count": 8,
   "id": "9fcf9b77",
   "metadata": {},
   "outputs": [],
   "source": [
    "# else and finally can be used for specifying actions to be executed at termination time, regardless of\n",
    "# whether or not an exception exists."
   ]
  },
  {
   "cell_type": "code",
   "execution_count": null,
   "id": "17076a43",
   "metadata": {},
   "outputs": [],
   "source": []
  }
 ],
 "metadata": {
  "kernelspec": {
   "display_name": "Python 3 (ipykernel)",
   "language": "python",
   "name": "python3"
  },
  "language_info": {
   "codemirror_mode": {
    "name": "ipython",
    "version": 3
   },
   "file_extension": ".py",
   "mimetype": "text/x-python",
   "name": "python",
   "nbconvert_exporter": "python",
   "pygments_lexer": "ipython3",
   "version": "3.9.13"
  }
 },
 "nbformat": 4,
 "nbformat_minor": 5
}
