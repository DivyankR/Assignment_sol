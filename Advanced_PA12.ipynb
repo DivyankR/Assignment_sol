{
 "cells": [
  {
   "cell_type": "markdown",
   "id": "82d89b61",
   "metadata": {},
   "source": [
    "## Question 1:"
   ]
  },
  {
   "cell_type": "code",
   "execution_count": 6,
   "id": "5ea48eba",
   "metadata": {},
   "outputs": [],
   "source": [
    "# strings indexed characters cant be assigned a value as strings are immutable, doing so will raise a TypeError."
   ]
  },
  {
   "cell_type": "code",
   "execution_count": 5,
   "id": "b10ad131",
   "metadata": {},
   "outputs": [],
   "source": [
    "# Example\n",
    "s=\"string\""
   ]
  },
  {
   "cell_type": "code",
   "execution_count": 4,
   "id": "6957c892",
   "metadata": {},
   "outputs": [
    {
     "ename": "TypeError",
     "evalue": "'str' object does not support item assignment",
     "output_type": "error",
     "traceback": [
      "\u001b[0;31m---------------------------------------------------------------------------\u001b[0m",
      "\u001b[0;31mTypeError\u001b[0m                                 Traceback (most recent call last)",
      "\u001b[0;32m/var/folders/7k/zrs4dx8d5bvdn3rjcd_08knr0000gn/T/ipykernel_56636/2434918228.py\u001b[0m in \u001b[0;36m<module>\u001b[0;34m\u001b[0m\n\u001b[0;32m----> 1\u001b[0;31m \u001b[0ms\u001b[0m\u001b[0;34m[\u001b[0m\u001b[0;36m3\u001b[0m\u001b[0;34m]\u001b[0m\u001b[0;34m=\u001b[0m\u001b[0;36m4\u001b[0m\u001b[0;34m\u001b[0m\u001b[0;34m\u001b[0m\u001b[0m\n\u001b[0m",
      "\u001b[0;31mTypeError\u001b[0m: 'str' object does not support item assignment"
     ]
    }
   ],
   "source": [
    "s[3]=4"
   ]
  },
  {
   "cell_type": "markdown",
   "id": "3af3ec73",
   "metadata": {},
   "source": [
    "## Question 2:"
   ]
  },
  {
   "cell_type": "code",
   "execution_count": 8,
   "id": "dcd23152",
   "metadata": {},
   "outputs": [],
   "source": [
    "# += operator is used to concatenate strings, it doesnt violate Python's string immutability because it is adding \n",
    "# a new string or new data into existing variable. data is not being modified it is being added."
   ]
  },
  {
   "cell_type": "code",
   "execution_count": 9,
   "id": "203de253",
   "metadata": {},
   "outputs": [
    {
     "data": {
      "text/plain": [
       "'string'"
      ]
     },
     "execution_count": 9,
     "metadata": {},
     "output_type": "execute_result"
    }
   ],
   "source": [
    "s"
   ]
  },
  {
   "cell_type": "code",
   "execution_count": 10,
   "id": "7b9ef959",
   "metadata": {},
   "outputs": [],
   "source": [
    "s+=\"hello\""
   ]
  },
  {
   "cell_type": "code",
   "execution_count": 11,
   "id": "7ea89510",
   "metadata": {},
   "outputs": [
    {
     "data": {
      "text/plain": [
       "'stringhello'"
      ]
     },
     "execution_count": 11,
     "metadata": {},
     "output_type": "execute_result"
    }
   ],
   "source": [
    "s"
   ]
  },
  {
   "cell_type": "markdown",
   "id": "053653b8",
   "metadata": {},
   "source": [
    "## Question 3:"
   ]
  },
  {
   "cell_type": "code",
   "execution_count": 12,
   "id": "63f9b7ae",
   "metadata": {},
   "outputs": [],
   "source": [
    "# two ways are there to index characters i.e.:\n",
    "# negative indexing \n",
    "# positive indexing"
   ]
  },
  {
   "cell_type": "code",
   "execution_count": 13,
   "id": "0676c0c8",
   "metadata": {},
   "outputs": [],
   "source": [
    "# negative indexing:"
   ]
  },
  {
   "cell_type": "code",
   "execution_count": 14,
   "id": "3ee78314",
   "metadata": {},
   "outputs": [
    {
     "data": {
      "text/plain": [
       "'stringhello'"
      ]
     },
     "execution_count": 14,
     "metadata": {},
     "output_type": "execute_result"
    }
   ],
   "source": [
    "s"
   ]
  },
  {
   "cell_type": "code",
   "execution_count": 16,
   "id": "71c0372f",
   "metadata": {},
   "outputs": [
    {
     "data": {
      "text/plain": [
       "('h', 'l')"
      ]
     },
     "execution_count": 16,
     "metadata": {},
     "output_type": "execute_result"
    }
   ],
   "source": [
    "s[-5],s[-3]"
   ]
  },
  {
   "cell_type": "code",
   "execution_count": 17,
   "id": "21acaf96",
   "metadata": {},
   "outputs": [],
   "source": [
    "# positive indexing"
   ]
  },
  {
   "cell_type": "code",
   "execution_count": 18,
   "id": "c25cace1",
   "metadata": {},
   "outputs": [
    {
     "data": {
      "text/plain": [
       "('n', 'h')"
      ]
     },
     "execution_count": 18,
     "metadata": {},
     "output_type": "execute_result"
    }
   ],
   "source": [
    "s[4],s[6]"
   ]
  },
  {
   "cell_type": "markdown",
   "id": "e7692003",
   "metadata": {},
   "source": [
    "## Question 4:"
   ]
  },
  {
   "cell_type": "code",
   "execution_count": 19,
   "id": "7629ceb6",
   "metadata": {},
   "outputs": [],
   "source": [
    "# indexing is used to access individual elements of a iterable object such as list,string etc."
   ]
  },
  {
   "cell_type": "code",
   "execution_count": 20,
   "id": "5ad83a15",
   "metadata": {},
   "outputs": [],
   "source": [
    "# slicing is used to obtain a particular part of a iterable object"
   ]
  },
  {
   "cell_type": "code",
   "execution_count": 21,
   "id": "db726e7c",
   "metadata": {},
   "outputs": [
    {
     "data": {
      "text/plain": [
       "'stringhello'"
      ]
     },
     "execution_count": 21,
     "metadata": {},
     "output_type": "execute_result"
    }
   ],
   "source": [
    "s"
   ]
  },
  {
   "cell_type": "code",
   "execution_count": 23,
   "id": "84b5010d",
   "metadata": {},
   "outputs": [
    {
     "data": {
      "text/plain": [
       "'inghel'"
      ]
     },
     "execution_count": 23,
     "metadata": {},
     "output_type": "execute_result"
    }
   ],
   "source": [
    "s[3:9]             # this is slicing"
   ]
  },
  {
   "cell_type": "markdown",
   "id": "56b634f8",
   "metadata": {},
   "source": [
    "## Question 5:"
   ]
  },
  {
   "cell_type": "code",
   "execution_count": 26,
   "id": "e784ddfd",
   "metadata": {},
   "outputs": [],
   "source": [
    "# indexed characters and slicing generated substrings have string datatype only."
   ]
  },
  {
   "cell_type": "code",
   "execution_count": 27,
   "id": "dfdb1fd1",
   "metadata": {},
   "outputs": [
    {
     "data": {
      "text/plain": [
       "'r'"
      ]
     },
     "execution_count": 27,
     "metadata": {},
     "output_type": "execute_result"
    }
   ],
   "source": [
    "s[2]"
   ]
  },
  {
   "cell_type": "code",
   "execution_count": 28,
   "id": "069259a6",
   "metadata": {},
   "outputs": [
    {
     "data": {
      "text/plain": [
       "str"
      ]
     },
     "execution_count": 28,
     "metadata": {},
     "output_type": "execute_result"
    }
   ],
   "source": [
    "type(s[2])"
   ]
  },
  {
   "cell_type": "code",
   "execution_count": 29,
   "id": "9c946b76",
   "metadata": {},
   "outputs": [
    {
     "data": {
      "text/plain": [
       "'ll'"
      ]
     },
     "execution_count": 29,
     "metadata": {},
     "output_type": "execute_result"
    }
   ],
   "source": [
    "s[-3:-1]"
   ]
  },
  {
   "cell_type": "code",
   "execution_count": 30,
   "id": "d233d7b2",
   "metadata": {},
   "outputs": [
    {
     "data": {
      "text/plain": [
       "str"
      ]
     },
     "execution_count": 30,
     "metadata": {},
     "output_type": "execute_result"
    }
   ],
   "source": [
    "type(s[-3:-1])"
   ]
  },
  {
   "cell_type": "markdown",
   "id": "ff2b5a42",
   "metadata": {},
   "source": [
    "## Question 6:"
   ]
  },
  {
   "cell_type": "code",
   "execution_count": 31,
   "id": "fb19ea38",
   "metadata": {},
   "outputs": [],
   "source": [
    "# objects that contain sequence of character datatype are called string"
   ]
  },
  {
   "cell_type": "markdown",
   "id": "d66552d9",
   "metadata": {},
   "source": [
    "## Question 7:"
   ]
  },
  {
   "cell_type": "code",
   "execution_count": 32,
   "id": "e932487f",
   "metadata": {},
   "outputs": [],
   "source": [
    "# +,* operator can be used to combine one or more smaller strings to create a larger string"
   ]
  },
  {
   "cell_type": "code",
   "execution_count": 33,
   "id": "f85dd318",
   "metadata": {},
   "outputs": [
    {
     "name": "stdout",
     "output_type": "stream",
     "text": [
      "worldhi\n"
     ]
    }
   ],
   "source": [
    "s = \"hi\"\n",
    "s1 = \"world\"\n",
    "print(s1+s)"
   ]
  },
  {
   "cell_type": "code",
   "execution_count": 34,
   "id": "247a821a",
   "metadata": {},
   "outputs": [
    {
     "name": "stdout",
     "output_type": "stream",
     "text": [
      "hihihihi\n"
     ]
    }
   ],
   "source": [
    "print(s*4)"
   ]
  },
  {
   "cell_type": "code",
   "execution_count": 35,
   "id": "72e343c7",
   "metadata": {},
   "outputs": [],
   "source": [
    "# join() is a method which can also be used for the same."
   ]
  },
  {
   "cell_type": "code",
   "execution_count": 36,
   "id": "cda09ea0",
   "metadata": {},
   "outputs": [
    {
     "name": "stdout",
     "output_type": "stream",
     "text": [
      "a b c\n"
     ]
    }
   ],
   "source": [
    "print(\" \".join(['a','b','c']))"
   ]
  },
  {
   "cell_type": "markdown",
   "id": "b65ac6a0",
   "metadata": {},
   "source": [
    "## Question 8"
   ]
  },
  {
   "cell_type": "code",
   "execution_count": 37,
   "id": "9ef4362a",
   "metadata": {},
   "outputs": [],
   "source": [
    "# the benefit of first checking the target string with in or not in before using the index\n",
    "# method to find a substring is that we can confirm availability of substring which can help us to avoid errors."
   ]
  },
  {
   "cell_type": "code",
   "execution_count": 38,
   "id": "766d3daa",
   "metadata": {},
   "outputs": [
    {
     "data": {
      "text/plain": [
       "'world'"
      ]
     },
     "execution_count": 38,
     "metadata": {},
     "output_type": "execute_result"
    }
   ],
   "source": [
    "s1"
   ]
  },
  {
   "cell_type": "code",
   "execution_count": 39,
   "id": "28c065a9",
   "metadata": {},
   "outputs": [
    {
     "ename": "ValueError",
     "evalue": "substring not found",
     "output_type": "error",
     "traceback": [
      "\u001b[0;31m---------------------------------------------------------------------------\u001b[0m",
      "\u001b[0;31mValueError\u001b[0m                                Traceback (most recent call last)",
      "\u001b[0;32m/var/folders/7k/zrs4dx8d5bvdn3rjcd_08knr0000gn/T/ipykernel_56636/2840815274.py\u001b[0m in \u001b[0;36m<module>\u001b[0;34m\u001b[0m\n\u001b[0;32m----> 1\u001b[0;31m \u001b[0ms1\u001b[0m\u001b[0;34m.\u001b[0m\u001b[0mindex\u001b[0m\u001b[0;34m(\u001b[0m\u001b[0;34m'p'\u001b[0m\u001b[0;34m)\u001b[0m\u001b[0;34m\u001b[0m\u001b[0;34m\u001b[0m\u001b[0m\n\u001b[0m",
      "\u001b[0;31mValueError\u001b[0m: substring not found"
     ]
    }
   ],
   "source": [
    "s1.index('p')"
   ]
  },
  {
   "cell_type": "markdown",
   "id": "997b6e74",
   "metadata": {},
   "source": [
    "## Question 9:"
   ]
  },
  {
   "cell_type": "code",
   "execution_count": 40,
   "id": "ca2105a4",
   "metadata": {},
   "outputs": [],
   "source": [
    "# isalpha()\n",
    "# isalnum()\n",
    "# isdecimal()\n",
    "# isdigit()\n",
    "# islower()\n",
    "# isnumeric()\n",
    "# isprintable()"
   ]
  },
  {
   "cell_type": "code",
   "execution_count": null,
   "id": "c4969e52",
   "metadata": {},
   "outputs": [],
   "source": []
  }
 ],
 "metadata": {
  "kernelspec": {
   "display_name": "Python 3 (ipykernel)",
   "language": "python",
   "name": "python3"
  },
  "language_info": {
   "codemirror_mode": {
    "name": "ipython",
    "version": 3
   },
   "file_extension": ".py",
   "mimetype": "text/x-python",
   "name": "python",
   "nbconvert_exporter": "python",
   "pygments_lexer": "ipython3",
   "version": "3.9.13"
  }
 },
 "nbformat": 4,
 "nbformat_minor": 5
}
