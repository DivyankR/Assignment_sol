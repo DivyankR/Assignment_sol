{
 "cells": [
  {
   "cell_type": "markdown",
   "id": "b4e7f09e",
   "metadata": {},
   "source": [
    "## Question 1:"
   ]
  },
  {
   "cell_type": "code",
   "execution_count": 1,
   "id": "1389c24f",
   "metadata": {},
   "outputs": [],
   "source": [
    "# re.compile() is used for generating regex objects"
   ]
  },
  {
   "cell_type": "markdown",
   "id": "f68d211b",
   "metadata": {},
   "source": [
    "## Question 2:"
   ]
  },
  {
   "cell_type": "code",
   "execution_count": 2,
   "id": "d0861bfd",
   "metadata": {},
   "outputs": [],
   "source": [
    "# they are used so that backslashes don't have to be escaped"
   ]
  },
  {
   "cell_type": "markdown",
   "id": "cca19561",
   "metadata": {},
   "source": [
    "## Question 3:"
   ]
  },
  {
   "cell_type": "code",
   "execution_count": 3,
   "id": "2607328b",
   "metadata": {},
   "outputs": [],
   "source": [
    "# It returns Match object"
   ]
  },
  {
   "cell_type": "markdown",
   "id": "c46ac790",
   "metadata": {},
   "source": [
    "## Question 4:"
   ]
  },
  {
   "cell_type": "code",
   "execution_count": 4,
   "id": "26980d8e",
   "metadata": {},
   "outputs": [],
   "source": [
    "# group() returns string of matched items"
   ]
  },
  {
   "cell_type": "markdown",
   "id": "07f01b1c",
   "metadata": {},
   "source": [
    "## Question 5:"
   ]
  },
  {
   "cell_type": "code",
   "execution_count": 5,
   "id": "f1ee98e4",
   "metadata": {},
   "outputs": [],
   "source": [
    "# group 0 - entire match\n",
    "# group 1 - first set of parantheses \n",
    "# group 2 - secnd set of parantheses"
   ]
  },
  {
   "cell_type": "markdown",
   "id": "e4110818",
   "metadata": {},
   "source": [
    "## Question 6:"
   ]
  },
  {
   "cell_type": "code",
   "execution_count": 6,
   "id": "3fa3ab74",
   "metadata": {},
   "outputs": [],
   "source": [
    "# they can be escaped with a backslash: \\., \\(, and \\)"
   ]
  },
  {
   "cell_type": "markdown",
   "id": "6309395e",
   "metadata": {},
   "source": [
    "## Question 7:"
   ]
  },
  {
   "cell_type": "code",
   "execution_count": 7,
   "id": "f5fc88ed",
   "metadata": {},
   "outputs": [],
   "source": [
    "# if regex has no groups, lists of string is returned. if it has groups, list of string tuples is returned"
   ]
  },
  {
   "cell_type": "markdown",
   "id": "57ca4d49",
   "metadata": {},
   "source": [
    "## Question 8:"
   ]
  },
  {
   "cell_type": "code",
   "execution_count": 8,
   "id": "cf30b5d8",
   "metadata": {},
   "outputs": [],
   "source": [
    "# | signifies matching \"either or\" between two groups"
   ]
  },
  {
   "cell_type": "markdown",
   "id": "d0801d46",
   "metadata": {},
   "source": [
    "## Question 9:"
   ]
  },
  {
   "cell_type": "code",
   "execution_count": 9,
   "id": "c2f7e32c",
   "metadata": {},
   "outputs": [],
   "source": [
    "# The ? character can either mean \"match zero or one of the preceding group\" or be used to signify nongreedy matching."
   ]
  },
  {
   "cell_type": "markdown",
   "id": "cba213c7",
   "metadata": {},
   "source": [
    "## Question 10:"
   ]
  },
  {
   "cell_type": "code",
   "execution_count": 10,
   "id": "21429efc",
   "metadata": {},
   "outputs": [],
   "source": [
    "# + matches one or more and * matches 0 or more"
   ]
  },
  {
   "cell_type": "markdown",
   "id": "a7721077",
   "metadata": {},
   "source": [
    "## Question 11:"
   ]
  },
  {
   "cell_type": "code",
   "execution_count": 11,
   "id": "b5d8c12e",
   "metadata": {},
   "outputs": [],
   "source": [
    "# {4} matches 4 four instances of preceding group and {4,5} matches between 4 and 5 instances"
   ]
  },
  {
   "cell_type": "markdown",
   "id": "3dcf2e1d",
   "metadata": {},
   "source": [
    "## Question 12:"
   ]
  },
  {
   "cell_type": "code",
   "execution_count": 12,
   "id": "026371b0",
   "metadata": {},
   "outputs": [],
   "source": [
    "# \\d,\\w,\\s match a single digit, word or space character respectively"
   ]
  },
  {
   "cell_type": "markdown",
   "id": "6247e049",
   "metadata": {},
   "source": [
    "## Question 13:"
   ]
  },
  {
   "cell_type": "code",
   "execution_count": 13,
   "id": "6107d717",
   "metadata": {},
   "outputs": [],
   "source": [
    "# \\D,\\W,\\S match a single characer which is not a digit, word or space character respectively"
   ]
  },
  {
   "cell_type": "markdown",
   "id": "9663b7e7",
   "metadata": {},
   "source": [
    "## Question 14:"
   ]
  },
  {
   "cell_type": "code",
   "execution_count": 1,
   "id": "0777f958",
   "metadata": {},
   "outputs": [],
   "source": [
    "# (.*?) matches any character (.) any number of times (*), as few times as possible to make the regex match (?). You'll get a match on any string,\n",
    "# but you'll only capture a blank string because of the question mark.\n",
    "# (.*)? captures a group zero or one times (?). That group consists of a run of any length (*) of any character (.). This also will match anything, but it will capture the first line, since the dot matches anything except a newline."
   ]
  },
  {
   "cell_type": "markdown",
   "id": "17fe298b",
   "metadata": {},
   "source": [
    "## Question 15:"
   ]
  },
  {
   "cell_type": "code",
   "execution_count": 2,
   "id": "f7a458c9",
   "metadata": {},
   "outputs": [],
   "source": [
    "# [0-9a-z] or [a-z0-9]"
   ]
  },
  {
   "cell_type": "markdown",
   "id": "6dc95ce2",
   "metadata": {},
   "source": [
    "## Question 16:"
   ]
  },
  {
   "cell_type": "code",
   "execution_count": null,
   "id": "ba31181a",
   "metadata": {},
   "outputs": [],
   "source": [
    "# Passing re.I or re.IGNORECASE as the second argument to re.compile() will make the matching case insensitive."
   ]
  },
  {
   "cell_type": "markdown",
   "id": "5bbc34ba",
   "metadata": {},
   "source": [
    "## Question 17:"
   ]
  },
  {
   "cell_type": "code",
   "execution_count": 3,
   "id": "03e13648",
   "metadata": {},
   "outputs": [],
   "source": [
    "# . character normally matches any character except the newline character.\n",
    "# If re.DOTALL is passed as second argument to re.compile(), then the dot will also match newline characters."
   ]
  },
  {
   "cell_type": "markdown",
   "id": "7284b0d4",
   "metadata": {},
   "source": [
    "## Question 18:"
   ]
  },
  {
   "cell_type": "code",
   "execution_count": 4,
   "id": "9a80d0f9",
   "metadata": {},
   "outputs": [],
   "source": [
    "# 'X drummers, X pipers, five rings, X hens'"
   ]
  },
  {
   "cell_type": "markdown",
   "id": "f4afac8c",
   "metadata": {},
   "source": [
    "## Question 19:"
   ]
  },
  {
   "cell_type": "code",
   "execution_count": 5,
   "id": "00a60727",
   "metadata": {},
   "outputs": [],
   "source": [
    "# It allows you to add whitespace and comments to the string passed to re.compile()."
   ]
  },
  {
   "cell_type": "markdown",
   "id": "6fc34ffd",
   "metadata": {},
   "source": [
    "## Question 20:"
   ]
  },
  {
   "cell_type": "code",
   "execution_count": 6,
   "id": "d9ef51a5",
   "metadata": {},
   "outputs": [],
   "source": [
    "# re.compile(r'^\\d{1,3}(,\\d{3})*$') will create this regex,\n",
    "# but others can produce a similar regular expression."
   ]
  },
  {
   "cell_type": "markdown",
   "id": "2e9b6031",
   "metadata": {},
   "source": [
    "## Question 21:"
   ]
  },
  {
   "cell_type": "code",
   "execution_count": 7,
   "id": "f5b4e9dc",
   "metadata": {},
   "outputs": [],
   "source": [
    "# re.compile(r'[A-Z][a-z]*\\sWantabe')"
   ]
  },
  {
   "cell_type": "markdown",
   "id": "ad04b124",
   "metadata": {},
   "source": [
    "## Question 22:"
   ]
  },
  {
   "cell_type": "code",
   "execution_count": 8,
   "id": "3bf439b9",
   "metadata": {},
   "outputs": [],
   "source": [
    "# re.compile(r'(Alice|Bob|Carol)\\s(eats|pets|throws)\\s(apples|cats|baseballs)\\.', re.IGNORECASE)"
   ]
  },
  {
   "cell_type": "code",
   "execution_count": null,
   "id": "823fc64b",
   "metadata": {},
   "outputs": [],
   "source": []
  }
 ],
 "metadata": {
  "kernelspec": {
   "display_name": "Python 3 (ipykernel)",
   "language": "python",
   "name": "python3"
  },
  "language_info": {
   "codemirror_mode": {
    "name": "ipython",
    "version": 3
   },
   "file_extension": ".py",
   "mimetype": "text/x-python",
   "name": "python",
   "nbconvert_exporter": "python",
   "pygments_lexer": "ipython3",
   "version": "3.9.7"
  }
 },
 "nbformat": 4,
 "nbformat_minor": 5
}
