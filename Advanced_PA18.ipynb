{
 "cells": [
  {
   "cell_type": "markdown",
   "id": "0cc6bd93",
   "metadata": {},
   "source": [
    "## Question 1:"
   ]
  },
  {
   "cell_type": "code",
   "execution_count": 1,
   "id": "d1d45aac",
   "metadata": {},
   "outputs": [],
   "source": [
    "# Text files are special subset of binary files that are used to store human readable characters as a\n",
    "# rich text document or plain text document. Text files also store data in sequential bytes but bits in text file\n",
    "# represents characters.\n",
    "\n",
    "# Binary files are those typical files that store data in the form of sequence of bytes grouped into eight bits \n",
    "# or sometimes sixteen bits. These bits represent custom data and such files can store multiple types of\n",
    "# data (images, audio, text, etc) under a single file."
   ]
  },
  {
   "cell_type": "markdown",
   "id": "e24db73d",
   "metadata": {},
   "source": [
    "## Question 2:"
   ]
  },
  {
   "cell_type": "code",
   "execution_count": 2,
   "id": "f781fe5f",
   "metadata": {},
   "outputs": [],
   "source": [
    "# text files are less likely to be corrupted as any undesired change will show up once file is opened and that can\n",
    "# be removed easily\n",
    "\n",
    "# binary files can be used when image data is to be stored"
   ]
  },
  {
   "cell_type": "markdown",
   "id": "679ac524",
   "metadata": {},
   "source": [
    "## Question 3:"
   ]
  },
  {
   "cell_type": "code",
   "execution_count": 4,
   "id": "d7881907",
   "metadata": {},
   "outputs": [],
   "source": [
    "# 1. binary operations deal with raw data\n",
    "# 2. one needs to identify how many bytes you need to write or read"
   ]
  },
  {
   "cell_type": "markdown",
   "id": "a43c5480",
   "metadata": {},
   "source": [
    "## Question 4:"
   ]
  },
  {
   "cell_type": "code",
   "execution_count": 5,
   "id": "b406adaa",
   "metadata": {},
   "outputs": [],
   "source": [
    "# When a file is opened using the with keyword, if some exceptions occur after opening a file,\n",
    "# or at the end of the file it automatically does the closing of the file.\n",
    "# There by not leaving an file in open mode and there would no need to explicitly close a file."
   ]
  },
  {
   "cell_type": "markdown",
   "id": "91e2bf5c",
   "metadata": {},
   "source": [
    "## Question 5:"
   ]
  },
  {
   "cell_type": "code",
   "execution_count": 6,
   "id": "c2cd02e0",
   "metadata": {},
   "outputs": [],
   "source": [
    "# Yes Python have the trailing newline while reading a line of text.\n",
    "\n",
    "# when we write, a newline has to be provided expilicitly in python"
   ]
  },
  {
   "cell_type": "markdown",
   "id": "4191678d",
   "metadata": {},
   "source": [
    "## Question 6:"
   ]
  },
  {
   "cell_type": "code",
   "execution_count": 7,
   "id": "7a2ee75b",
   "metadata": {},
   "outputs": [],
   "source": [
    "# seek() and tell() are file operations which enable random access operation"
   ]
  },
  {
   "cell_type": "markdown",
   "id": "44fc4774",
   "metadata": {},
   "source": [
    "## Question 7:"
   ]
  },
  {
   "cell_type": "code",
   "execution_count": 8,
   "id": "01384bc6",
   "metadata": {},
   "outputs": [],
   "source": [
    "# struct is used when we have to convert python types to C language types"
   ]
  },
  {
   "cell_type": "markdown",
   "id": "845bec7c",
   "metadata": {},
   "source": [
    "## Question 8:"
   ]
  },
  {
   "cell_type": "code",
   "execution_count": 10,
   "id": "c54789c0",
   "metadata": {},
   "outputs": [],
   "source": [
    "# pickling is the best option for creating binary files using python"
   ]
  },
  {
   "cell_type": "markdown",
   "id": "2489b133",
   "metadata": {},
   "source": [
    "## Question 9:"
   ]
  },
  {
   "cell_type": "code",
   "execution_count": 11,
   "id": "73d507cc",
   "metadata": {},
   "outputs": [],
   "source": [
    "# shelve is used to pickle data but treats the data like a dictionary"
   ]
  },
  {
   "cell_type": "markdown",
   "id": "ec83dcd9",
   "metadata": {},
   "source": [
    "## Question 10:"
   ]
  },
  {
   "cell_type": "code",
   "execution_count": 12,
   "id": "74bf2e40",
   "metadata": {},
   "outputs": [],
   "source": [
    "# Only string data type can be used as key in this special dictionary object,\n",
    "# whereas any picklable Python object can be used as value"
   ]
  },
  {
   "cell_type": "code",
   "execution_count": null,
   "id": "c654772e",
   "metadata": {},
   "outputs": [],
   "source": []
  }
 ],
 "metadata": {
  "kernelspec": {
   "display_name": "Python 3 (ipykernel)",
   "language": "python",
   "name": "python3"
  },
  "language_info": {
   "codemirror_mode": {
    "name": "ipython",
    "version": 3
   },
   "file_extension": ".py",
   "mimetype": "text/x-python",
   "name": "python",
   "nbconvert_exporter": "python",
   "pygments_lexer": "ipython3",
   "version": "3.9.13"
  }
 },
 "nbformat": 4,
 "nbformat_minor": 5
}
