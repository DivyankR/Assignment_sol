{
 "cells": [
  {
   "cell_type": "markdown",
   "id": "30672579",
   "metadata": {},
   "source": [
    "## Question 1"
   ]
  },
  {
   "cell_type": "code",
   "execution_count": 2,
   "id": "441a8895",
   "metadata": {},
   "outputs": [
    {
     "name": "stdout",
     "output_type": "stream",
     "text": [
      "enter the number whose factorial you want to calculate: 5\n",
      "factorial of 5 is 120\n"
     ]
    }
   ],
   "source": [
    "fact = 1\n",
    "x = int(input(\"enter the number whose factorial you want to calculate: \"))\n",
    "for i in range(1,x+1):\n",
    "    fact = fact * i\n",
    "print(\"factorial of {} is {}\".format(x,fact))"
   ]
  },
  {
   "cell_type": "markdown",
   "id": "b6f3095e",
   "metadata": {},
   "source": [
    "## Question 2"
   ]
  },
  {
   "cell_type": "code",
   "execution_count": 3,
   "id": "fc072833",
   "metadata": {},
   "outputs": [
    {
     "name": "stdout",
     "output_type": "stream",
     "text": [
      "enter a number to display its multiplication table: 13\n",
      "13 * 1 = 13\n",
      "13 * 2 = 26\n",
      "13 * 3 = 39\n",
      "13 * 4 = 52\n",
      "13 * 5 = 65\n",
      "13 * 6 = 78\n",
      "13 * 7 = 91\n",
      "13 * 8 = 104\n",
      "13 * 9 = 117\n",
      "13 * 10 = 130\n"
     ]
    }
   ],
   "source": [
    "t = int(input(\"enter a number to display its multiplication table: \"))\n",
    "for i in range(1,11):\n",
    "    print(t,\"*\",i,\"=\",t*i)"
   ]
  },
  {
   "cell_type": "markdown",
   "id": "208dcd67",
   "metadata": {},
   "source": [
    "## Question 3"
   ]
  },
  {
   "cell_type": "code",
   "execution_count": 4,
   "id": "66806a49",
   "metadata": {},
   "outputs": [
    {
     "name": "stdout",
     "output_type": "stream",
     "text": [
      "enter the number of entities you want: 4\n",
      "0\n",
      "1\n",
      "1\n",
      "2\n"
     ]
    }
   ],
   "source": [
    "a = 0\n",
    "b = 1\n",
    "n = int(input('enter the number of entities you want: '))\n",
    "for i in range(1,n+1):\n",
    "    print(a)\n",
    "    a, b = b, a+b"
   ]
  },
  {
   "cell_type": "markdown",
   "id": "4e5bc23b",
   "metadata": {},
   "source": [
    "## Question 4"
   ]
  },
  {
   "cell_type": "code",
   "execution_count": 6,
   "id": "ab7ac95e",
   "metadata": {},
   "outputs": [
    {
     "name": "stdout",
     "output_type": "stream",
     "text": [
      "enter the number: 371\n",
      "371 is armstrong number\n"
     ]
    }
   ],
   "source": [
    "n = int(input('enter the number: '))\n",
    "num = n\n",
    "a = 0\n",
    "while n != 0:\n",
    "    x = n % 10\n",
    "    a = a + (x ** 3)\n",
    "    n = n // 10\n",
    "if num == a:\n",
    "    print('{} is armstrong number'.format(num))\n",
    "else:\n",
    "    print('{} is not armstrong number'.format(num))"
   ]
  },
  {
   "cell_type": "markdown",
   "id": "fad52560",
   "metadata": {},
   "source": [
    "## Question 5"
   ]
  },
  {
   "cell_type": "code",
   "execution_count": 3,
   "id": "ba06156c",
   "metadata": {},
   "outputs": [
    {
     "name": "stdout",
     "output_type": "stream",
     "text": [
      "enter lower bound: 371\n",
      "enter upper bound: 373\n",
      "371 is armstrong number!\n",
      "372 is not armstrong number.\n",
      "373 is not armstrong number.\n"
     ]
    }
   ],
   "source": [
    "x = int(input('enter lower bound: '))\n",
    "y = int(input('enter upper bound: '))\n",
    "for i in range(x, y+1):\n",
    "    n = i\n",
    "    a = 0\n",
    "    while i != 0:\n",
    "        r = i % 10\n",
    "        a = a + (r**3)\n",
    "        i = i // 10\n",
    "    if n == a:\n",
    "        print('{} is armstrong number!'.format(n))\n",
    "    else:\n",
    "        print('{} is not armstrong number.'.format(n))"
   ]
  },
  {
   "cell_type": "markdown",
   "id": "ab93cd6e",
   "metadata": {},
   "source": [
    "## Question 6"
   ]
  },
  {
   "cell_type": "code",
   "execution_count": 7,
   "id": "7b5aabeb",
   "metadata": {},
   "outputs": [
    {
     "name": "stdout",
     "output_type": "stream",
     "text": [
      "enter the number upto which you want the sum: 13\n",
      "the sum of natural numbers upto 13 is 91\n"
     ]
    }
   ],
   "source": [
    "x = int(input('enter the number upto which you want the sum: '))\n",
    "s = 0\n",
    "for i in range(1,x + 1):\n",
    "    s+=i\n",
    "print('the sum of natural numbers upto {} is {}'.format(x,s))"
   ]
  },
  {
   "cell_type": "code",
   "execution_count": null,
   "id": "21eae75a",
   "metadata": {},
   "outputs": [],
   "source": []
  }
 ],
 "metadata": {
  "kernelspec": {
   "display_name": "Python 3 (ipykernel)",
   "language": "python",
   "name": "python3"
  },
  "language_info": {
   "codemirror_mode": {
    "name": "ipython",
    "version": 3
   },
   "file_extension": ".py",
   "mimetype": "text/x-python",
   "name": "python",
   "nbconvert_exporter": "python",
   "pygments_lexer": "ipython3",
   "version": "3.9.7"
  }
 },
 "nbformat": 4,
 "nbformat_minor": 5
}
