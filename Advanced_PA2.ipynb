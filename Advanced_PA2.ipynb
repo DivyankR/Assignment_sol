{
 "cells": [
  {
   "cell_type": "markdown",
   "id": "ad207b39",
   "metadata": {},
   "source": [
    "## Question 1:"
   ]
  },
  {
   "cell_type": "code",
   "execution_count": 1,
   "id": "485bce9f",
   "metadata": {},
   "outputs": [],
   "source": [
    "# A module is a code which may contain a lot of things such as methods, classes, variables etc.\n",
    "# It can be imported into different code to utilize or access that code in present code."
   ]
  },
  {
   "cell_type": "code",
   "execution_count": 2,
   "id": "b5d86bc1",
   "metadata": {},
   "outputs": [],
   "source": [
    "# A class is used to define a particular template or blueprint.\n",
    "# To materialize a class into a real world entity its object is created"
   ]
  },
  {
   "cell_type": "markdown",
   "id": "4d788b05",
   "metadata": {},
   "source": [
    "## Question 2:"
   ]
  },
  {
   "cell_type": "code",
   "execution_count": 3,
   "id": "bb873120",
   "metadata": {},
   "outputs": [
    {
     "name": "stdout",
     "output_type": "stream",
     "text": [
      "hi, welcome anirudh\n"
     ]
    }
   ],
   "source": [
    "class person:                                        # decalaration of class\n",
    "    def __init__(self,name):\n",
    "        self.name = name\n",
    "        print(\"hi, welcome \"+self.name)\n",
    "        \n",
    "p = person('anirudh')                                # making an instance of person class"
   ]
  },
  {
   "cell_type": "markdown",
   "id": "22f2b94c",
   "metadata": {},
   "source": [
    "## Question 3:"
   ]
  },
  {
   "cell_type": "code",
   "execution_count": 4,
   "id": "2a39c908",
   "metadata": {},
   "outputs": [],
   "source": [
    "# class attributes are created outside __init__ function. class attributes can be shared by its objects"
   ]
  },
  {
   "cell_type": "code",
   "execution_count": 5,
   "id": "fbebcbdc",
   "metadata": {},
   "outputs": [
    {
     "name": "stdout",
     "output_type": "stream",
     "text": [
      "car is of toyota brand\n",
      "V8\n"
     ]
    }
   ],
   "source": [
    "class Car:\n",
    "    engine = 'V8'              #this is class attribute\n",
    "    def __init__(self,name):\n",
    "        self.name = name\n",
    "        print('car is of {} brand'.format(self.name))\n",
    "\n",
    "c = Car('toyota')\n",
    "print(c.engine)"
   ]
  },
  {
   "cell_type": "markdown",
   "id": "7dae3f58",
   "metadata": {},
   "source": [
    "## Question 4:"
   ]
  },
  {
   "cell_type": "code",
   "execution_count": 6,
   "id": "c5660ba1",
   "metadata": {},
   "outputs": [],
   "source": [
    "# instance attributes are not shared by class objects, here's how they are declared:"
   ]
  },
  {
   "cell_type": "code",
   "execution_count": 7,
   "id": "b794ca70",
   "metadata": {},
   "outputs": [
    {
     "name": "stdout",
     "output_type": "stream",
     "text": [
      "dctionary form:  {'salary': 400, 'name': 'brijesh'}\n"
     ]
    }
   ],
   "source": [
    "class emp:\n",
    "    def __init__(self):\n",
    "        self.salary = 400\n",
    "        self.name = 'brijesh'\n",
    "\n",
    "e = emp()\n",
    "print('dctionary form: ',vars(e))"
   ]
  },
  {
   "cell_type": "markdown",
   "id": "858822d7",
   "metadata": {},
   "source": [
    "## Question 5:"
   ]
  },
  {
   "cell_type": "code",
   "execution_count": 8,
   "id": "13527434",
   "metadata": {},
   "outputs": [],
   "source": [
    "# self is a keyword which is used to point to current class and it is used to access variables that belong to the class"
   ]
  },
  {
   "cell_type": "markdown",
   "id": "ed613339",
   "metadata": {},
   "source": [
    "## Question 6:"
   ]
  },
  {
   "cell_type": "code",
   "execution_count": 9,
   "id": "43396bca",
   "metadata": {},
   "outputs": [],
   "source": [
    "#Operator Overloading enables us to replace numeric operators (such as +, -, *, and /) with a method, this is how its done:"
   ]
  },
  {
   "cell_type": "code",
   "execution_count": 10,
   "id": "abf3f301",
   "metadata": {},
   "outputs": [
    {
     "name": "stdout",
     "output_type": "stream",
     "text": [
      "302\n",
      "HiWelcome\n",
      "302\n",
      "HiWelcome\n",
      "302\n",
      "HiWelcome\n"
     ]
    }
   ],
   "source": [
    "class A:\n",
    "    def __init__(self, a):\n",
    "        self.a = a\n",
    "\n",
    "    def __add__(self, o):\n",
    "        return self.a + o.a\n",
    "a = A(101)\n",
    "a1 = A(201)\n",
    "a2 = A(\"Hi\")\n",
    "a3 = A(\"Welcome\")\n",
    "\n",
    "print(a + a1)\n",
    "print(a2 + a3)\n",
    "\n",
    "print(A.__add__(a , a1))\n",
    "print(A.__add__(a2,a3))\n",
    "\n",
    "print(a.__add__(a1))\n",
    "print(a2.__add__(a3))\n",
    " "
   ]
  },
  {
   "cell_type": "markdown",
   "id": "ed80f742",
   "metadata": {},
   "source": [
    "## Question 7:"
   ]
  },
  {
   "cell_type": "code",
   "execution_count": 11,
   "id": "61555b2a",
   "metadata": {},
   "outputs": [],
   "source": [
    "# we can use operator overloading when we have to give some more additional features to a traditional operator. "
   ]
  },
  {
   "cell_type": "code",
   "execution_count": 12,
   "id": "3f5770fa",
   "metadata": {},
   "outputs": [],
   "source": [
    "# Example of operator overloading is mentioned in above solution"
   ]
  },
  {
   "cell_type": "markdown",
   "id": "b4ba471e",
   "metadata": {},
   "source": [
    "## Question 8:"
   ]
  },
  {
   "cell_type": "code",
   "execution_count": 13,
   "id": "ff93adaf",
   "metadata": {},
   "outputs": [],
   "source": [
    "# most popular form of operator overloading can be found in + operator."
   ]
  },
  {
   "cell_type": "code",
   "execution_count": 14,
   "id": "d8a4e6ac",
   "metadata": {},
   "outputs": [],
   "source": [
    "# It performs concatenation of strings as well as integer addition operations.\n",
    "# It can be used to concatenate lists as well."
   ]
  },
  {
   "cell_type": "markdown",
   "id": "402f73fc",
   "metadata": {},
   "source": [
    "## Question 9:"
   ]
  },
  {
   "cell_type": "code",
   "execution_count": 15,
   "id": "c3a1b33b",
   "metadata": {},
   "outputs": [],
   "source": [
    "# Two topics that are really important to grasp in order to comprehend OOP programming are:"
   ]
  },
  {
   "cell_type": "code",
   "execution_count": 16,
   "id": "02d5da53",
   "metadata": {},
   "outputs": [],
   "source": [
    "# 1) Polymorphism\n",
    "# 2) Inheritance\n",
    "# there are a lot more topics such as encapsulation etc. So you should definitely know atleast these to grasp OOP."
   ]
  },
  {
   "cell_type": "code",
   "execution_count": null,
   "id": "2da30d0f",
   "metadata": {},
   "outputs": [],
   "source": []
  }
 ],
 "metadata": {
  "kernelspec": {
   "display_name": "Python 3 (ipykernel)",
   "language": "python",
   "name": "python3"
  },
  "language_info": {
   "codemirror_mode": {
    "name": "ipython",
    "version": 3
   },
   "file_extension": ".py",
   "mimetype": "text/x-python",
   "name": "python",
   "nbconvert_exporter": "python",
   "pygments_lexer": "ipython3",
   "version": "3.9.7"
  }
 },
 "nbformat": 4,
 "nbformat_minor": 5
}
