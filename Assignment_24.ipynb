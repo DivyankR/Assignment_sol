{
 "cells": [
  {
   "cell_type": "markdown",
   "id": "799af10d",
   "metadata": {},
   "source": [
    "## Question 1:"
   ]
  },
  {
   "cell_type": "code",
   "execution_count": 1,
   "id": "7109f37d",
   "metadata": {},
   "outputs": [],
   "source": [
    "# def and lambda both have same functionality that is creating a function but lambda is an expression which results \n",
    "# in functin creation. But def is a statement which results in function creation "
   ]
  },
  {
   "cell_type": "code",
   "execution_count": 2,
   "id": "b939dd6d",
   "metadata": {},
   "outputs": [],
   "source": [
    "# sometimes lambda function may be tricky to interpret as well as compared to def statement related fucntions."
   ]
  },
  {
   "cell_type": "code",
   "execution_count": 3,
   "id": "130604d0",
   "metadata": {},
   "outputs": [],
   "source": [
    "# execution time is a bit faster for lambda function as compared to def statement related functions."
   ]
  },
  {
   "cell_type": "markdown",
   "id": "d65a74cf",
   "metadata": {},
   "source": [
    "## Question 2:"
   ]
  },
  {
   "cell_type": "code",
   "execution_count": 4,
   "id": "6cda40f5",
   "metadata": {},
   "outputs": [],
   "source": [
    "# lambda function are a bit faster as compared to def statement created functions."
   ]
  },
  {
   "cell_type": "code",
   "execution_count": 5,
   "id": "02864467",
   "metadata": {},
   "outputs": [],
   "source": [
    "# short anonymous functions can be created using lambda "
   ]
  },
  {
   "cell_type": "markdown",
   "id": "667dda53",
   "metadata": {},
   "source": [
    "## Question 3:"
   ]
  },
  {
   "cell_type": "code",
   "execution_count": 6,
   "id": "2b15f004",
   "metadata": {},
   "outputs": [],
   "source": [
    "# all three of map, filter and reduce need a function as their first argument whether it can be lambda or def function."
   ]
  },
  {
   "cell_type": "code",
   "execution_count": 13,
   "id": "827eb651",
   "metadata": {},
   "outputs": [],
   "source": [
    "# the map() function iterates through all items in the given iterable and executes the function we passed as an argument on each of them. It returns an iterable"
   ]
  },
  {
   "cell_type": "code",
   "execution_count": 14,
   "id": "828fc2bd",
   "metadata": {},
   "outputs": [
    {
     "name": "stdout",
     "output_type": "stream",
     "text": [
      "[1, 4, 9, 16]\n"
     ]
    }
   ],
   "source": [
    "def sq(x):\n",
    "    return x**2\n",
    "\n",
    "l=[1,2,3,4]\n",
    "obj = map(sq,l)\n",
    "print(list(obj))"
   ]
  },
  {
   "cell_type": "code",
   "execution_count": 15,
   "id": "1346056e",
   "metadata": {},
   "outputs": [],
   "source": [
    "# filter forms a list which satisfies a certain condition and returns an iterable "
   ]
  },
  {
   "cell_type": "code",
   "execution_count": 16,
   "id": "5eeacd33",
   "metadata": {},
   "outputs": [
    {
     "name": "stdout",
     "output_type": "stream",
     "text": [
      "[True, True, True, True, False]\n"
     ]
    }
   ],
   "source": [
    "def con(x):\n",
    "    return x > 0\n",
    "\n",
    "l=[1,2,3,4,-13]\n",
    "obj = map(con,l)\n",
    "print(list(obj))"
   ]
  },
  {
   "cell_type": "code",
   "execution_count": 17,
   "id": "35144b64",
   "metadata": {},
   "outputs": [],
   "source": [
    "# reduce return a single value instead of iterable"
   ]
  },
  {
   "cell_type": "code",
   "execution_count": 18,
   "id": "b86e368e",
   "metadata": {},
   "outputs": [
    {
     "name": "stdout",
     "output_type": "stream",
     "text": [
      "16\n"
     ]
    }
   ],
   "source": [
    "from functools import reduce\n",
    "\n",
    "def add(x, y):\n",
    "    return x + y\n",
    "\n",
    "list = [2, 4, 7, 3]\n",
    "print(reduce(add, list))"
   ]
  },
  {
   "cell_type": "markdown",
   "id": "869c602c",
   "metadata": {},
   "source": [
    "## Question 4:"
   ]
  },
  {
   "cell_type": "code",
   "execution_count": 20,
   "id": "cbea74b5",
   "metadata": {},
   "outputs": [
    {
     "name": "stdout",
     "output_type": "stream",
     "text": [
      "[9, 1]\n"
     ]
    }
   ],
   "source": [
    "# function annotations are python expressions that are associated with functions, these are evaluated at complietime \n",
    "# and have no life in runtime.\n",
    "def func(x:int,y:int)->list:\n",
    "    return [x,y]\n",
    "\n",
    "print(func(9,1))"
   ]
  },
  {
   "cell_type": "markdown",
   "id": "c758c674",
   "metadata": {},
   "source": [
    "## Question 5:"
   ]
  },
  {
   "cell_type": "code",
   "execution_count": 21,
   "id": "57923365",
   "metadata": {},
   "outputs": [],
   "source": [
    "# recursive functions are those functions which call themselves again and again directly or indirectly."
   ]
  },
  {
   "cell_type": "code",
   "execution_count": 22,
   "id": "bc6ab789",
   "metadata": {},
   "outputs": [
    {
     "name": "stdout",
     "output_type": "stream",
     "text": [
      "24\n"
     ]
    }
   ],
   "source": [
    "def f(n):\n",
    "    if n==0 or n==1:\n",
    "        return 1\n",
    "    else:\n",
    "        return(n*f(n-1))\n",
    "    \n",
    "print(f(4))"
   ]
  },
  {
   "cell_type": "markdown",
   "id": "80795d08",
   "metadata": {},
   "source": [
    "## Question 6:"
   ]
  },
  {
   "cell_type": "code",
   "execution_count": 23,
   "id": "fdb2ff08",
   "metadata": {},
   "outputs": [],
   "source": [
    "# use 4 spaces instead of tabs\n",
    "# no blank line after def statement \n",
    "# 1 blank line between class methods\n",
    "# no blank line following def line"
   ]
  },
  {
   "cell_type": "markdown",
   "id": "fe9e5fe5",
   "metadata": {},
   "source": [
    "## Question 7:"
   ]
  },
  {
   "cell_type": "code",
   "execution_count": 24,
   "id": "9feed39c",
   "metadata": {},
   "outputs": [],
   "source": [
    "# Assignment statement, Output statement, Argument (actual parameter) in another function call."
   ]
  },
  {
   "cell_type": "code",
   "execution_count": null,
   "id": "7fe7dd5a",
   "metadata": {},
   "outputs": [],
   "source": []
  }
 ],
 "metadata": {
  "kernelspec": {
   "display_name": "Python 3 (ipykernel)",
   "language": "python",
   "name": "python3"
  },
  "language_info": {
   "codemirror_mode": {
    "name": "ipython",
    "version": 3
   },
   "file_extension": ".py",
   "mimetype": "text/x-python",
   "name": "python",
   "nbconvert_exporter": "python",
   "pygments_lexer": "ipython3",
   "version": "3.9.7"
  }
 },
 "nbformat": 4,
 "nbformat_minor": 5
}
