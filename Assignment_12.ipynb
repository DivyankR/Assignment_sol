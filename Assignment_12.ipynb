{
 "cells": [
  {
   "cell_type": "markdown",
   "id": "6eb686c5",
   "metadata": {},
   "source": [
    "## Question 1:"
   ]
  },
  {
   "cell_type": "code",
   "execution_count": 2,
   "id": "a27e690e",
   "metadata": {},
   "outputs": [],
   "source": [
    "# These files will be opened in binary mode,\n",
    "# read binary (rb) for PdfFileREader() and write binary (wb) PdfFileWriter()"
   ]
  },
  {
   "cell_type": "code",
   "execution_count": 3,
   "id": "d444d546",
   "metadata": {},
   "outputs": [
    {
     "name": "stdout",
     "output_type": "stream",
     "text": [
      "Collecting PyPDF2\n",
      "  Downloading pypdf2-2.11.2-py3-none-any.whl (220 kB)\n",
      "\u001b[K     |████████████████████████████████| 220 kB 7.9 MB/s eta 0:00:01\n",
      "\u001b[?25hRequirement already satisfied: typing_extensions>=3.10.0.0 in ./opt/anaconda3/lib/python3.9/site-packages (from PyPDF2) (4.4.0)\n",
      "Installing collected packages: PyPDF2\n",
      "Successfully installed PyPDF2-2.11.2\n",
      "Note: you may need to restart the kernel to use updated packages.\n"
     ]
    }
   ],
   "source": [
    "pip install PyPDF2"
   ]
  },
  {
   "cell_type": "markdown",
   "id": "a34ea50d",
   "metadata": {},
   "source": [
    "## Question 2"
   ]
  },
  {
   "cell_type": "code",
   "execution_count": 4,
   "id": "415e772f",
   "metadata": {},
   "outputs": [],
   "source": [
    "# Calling getPage(4) will return a Page object for page 5 since page 0 is the first page"
   ]
  },
  {
   "cell_type": "code",
   "execution_count": 6,
   "id": "5ac373b8",
   "metadata": {},
   "outputs": [
    {
     "data": {
      "text/plain": [
       "\"What Can I Do with Python?\\nSection 1.6.\\nWhat Are Python's Technical Strengths?\\nSection 1.7.\\nHow Does Python Stack Up to Language X?\\nChapter 2.\\nHow Python Runs Programs\\nSection 2.1.\\nIntroducing the Python Interpreter\\nSection 2.2.\\nProgram Execution\\nSection 2.3.\\nExecution Model Variations\\nChapter 3.\\nHow You Run Programs\\nSection 3.1.\\nInteractive Coding\\nSection 3.2.\""
      ]
     },
     "execution_count": 6,
     "metadata": {},
     "output_type": "execute_result"
    }
   ],
   "source": [
    "import PyPDF2 as pdf\n",
    "pdfFileObj = open(\"Mark Lutz, David Ascher - Learning Python, Second Edition (2003, O'Reilly Media) - libgen.li.pdf\",'rb')\n",
    "pdfReader = pdf.PdfFileReader(pdfFileObj)\n",
    "pageObj = pdfReader.getPage(4)\n",
    "pageObj.extractText()"
   ]
  },
  {
   "cell_type": "markdown",
   "id": "09cd62ac",
   "metadata": {},
   "source": [
    "## Question 3:"
   ]
  },
  {
   "cell_type": "code",
   "execution_count": 7,
   "id": "d94c9e11",
   "metadata": {},
   "outputs": [
    {
     "data": {
      "text/plain": [
       "1418"
      ]
     },
     "execution_count": 7,
     "metadata": {},
     "output_type": "execute_result"
    }
   ],
   "source": [
    "import PyPDF2 as pdf\n",
    "pdfFileObj = open(\"Mark Lutz, David Ascher - Learning Python, Second Edition (2003, O'Reilly Media) - libgen.li.pdf\",'rb')\n",
    "pdfReader = pdf.PdfFileReader(pdfFileObj)\n",
    "pdfReader.numPages"
   ]
  },
  {
   "cell_type": "markdown",
   "id": "6cc0f04b",
   "metadata": {},
   "source": [
    "## Qeustion 4:"
   ]
  },
  {
   "cell_type": "code",
   "execution_count": 8,
   "id": "f5f84704",
   "metadata": {},
   "outputs": [],
   "source": [
    "# Before we obtain the page object, the pdf has to be decrypted by calling .decrypt('swordfish')"
   ]
  },
  {
   "cell_type": "markdown",
   "id": "73aeed12",
   "metadata": {},
   "source": [
    "## Question 5:"
   ]
  },
  {
   "cell_type": "code",
   "execution_count": 9,
   "id": "87504435",
   "metadata": {},
   "outputs": [],
   "source": [
    "# pageObj.rotateClockwise(180)\n",
    "# The rotateClockwise() and rotateCounterClockwise() methods. The degrees to rotate is passed as an integer argument"
   ]
  },
  {
   "cell_type": "markdown",
   "id": "0a94ae13",
   "metadata": {},
   "source": [
    "## Question 6:"
   ]
  },
  {
   "cell_type": "code",
   "execution_count": 10,
   "id": "3b905cd9",
   "metadata": {},
   "outputs": [],
   "source": [
    "# Paragraph Object : A document contains multiple paragraphs. A paragraph begins on a new line and contains multiple\n",
    "# runs. Document object contains a list of paragraph objects for the paragraphs in the document.\n",
    "# New paragraph begins whenever the user presses ENTER or RETURN while typing in a Word document\n",
    "\n",
    "# Run Objects : Runs are contiguous groups of characters within a paragraph with the same style"
   ]
  },
  {
   "cell_type": "markdown",
   "id": "2d0e18eb",
   "metadata": {},
   "source": [
    "## Question 7:"
   ]
  },
  {
   "cell_type": "code",
   "execution_count": 12,
   "id": "18d19dd7",
   "metadata": {},
   "outputs": [
    {
     "name": "stdout",
     "output_type": "stream",
     "text": [
      "Requirement already satisfied: python-docx in ./opt/anaconda3/lib/python3.9/site-packages (0.8.11)\n",
      "Requirement already satisfied: lxml>=2.3.2 in ./opt/anaconda3/lib/python3.9/site-packages (from python-docx) (4.6.3)\n"
     ]
    },
    {
     "data": {
      "text/plain": [
       "[<docx.text.paragraph.Paragraph at 0x7fcfa228adf0>,\n",
       " <docx.text.paragraph.Paragraph at 0x7fcfa228ac40>,\n",
       " <docx.text.paragraph.Paragraph at 0x7fcfa228a790>,\n",
       " <docx.text.paragraph.Paragraph at 0x7fcfa228ae50>,\n",
       " <docx.text.paragraph.Paragraph at 0x7fcfa228ad00>,\n",
       " <docx.text.paragraph.Paragraph at 0x7fcfa228a8e0>,\n",
       " <docx.text.paragraph.Paragraph at 0x7fcfa228ac10>,\n",
       " <docx.text.paragraph.Paragraph at 0x7fcfa228a970>,\n",
       " <docx.text.paragraph.Paragraph at 0x7fcfa228abb0>,\n",
       " <docx.text.paragraph.Paragraph at 0x7fcfa228ad30>,\n",
       " <docx.text.paragraph.Paragraph at 0x7fcfa228ad90>,\n",
       " <docx.text.paragraph.Paragraph at 0x7fcfa228af40>,\n",
       " <docx.text.paragraph.Paragraph at 0x7fcfa228ae20>,\n",
       " <docx.text.paragraph.Paragraph at 0x7fcfa228afa0>,\n",
       " <docx.text.paragraph.Paragraph at 0x7fcfa228aee0>,\n",
       " <docx.text.paragraph.Paragraph at 0x7fcfa228af70>,\n",
       " <docx.text.paragraph.Paragraph at 0x7fcfa1f09850>,\n",
       " <docx.text.paragraph.Paragraph at 0x7fcfa1f095b0>,\n",
       " <docx.text.paragraph.Paragraph at 0x7fcfa1f09b20>,\n",
       " <docx.text.paragraph.Paragraph at 0x7fcfa2290130>,\n",
       " <docx.text.paragraph.Paragraph at 0x7fcfa2290040>,\n",
       " <docx.text.paragraph.Paragraph at 0x7fcfa22900a0>,\n",
       " <docx.text.paragraph.Paragraph at 0x7fcfa2290100>,\n",
       " <docx.text.paragraph.Paragraph at 0x7fcfa22902e0>,\n",
       " <docx.text.paragraph.Paragraph at 0x7fcfa22901c0>,\n",
       " <docx.text.paragraph.Paragraph at 0x7fcfa2290370>,\n",
       " <docx.text.paragraph.Paragraph at 0x7fcfa2290190>,\n",
       " <docx.text.paragraph.Paragraph at 0x7fcfa2290430>,\n",
       " <docx.text.paragraph.Paragraph at 0x7fcfa2290310>,\n",
       " <docx.text.paragraph.Paragraph at 0x7fcfa22904f0>,\n",
       " <docx.text.paragraph.Paragraph at 0x7fcfa22903d0>,\n",
       " <docx.text.paragraph.Paragraph at 0x7fcfa2290fa0>,\n",
       " <docx.text.paragraph.Paragraph at 0x7fcfa2293040>,\n",
       " <docx.text.paragraph.Paragraph at 0x7fcfa22930a0>,\n",
       " <docx.text.paragraph.Paragraph at 0x7fcfa2293100>,\n",
       " <docx.text.paragraph.Paragraph at 0x7fcfa2293160>,\n",
       " <docx.text.paragraph.Paragraph at 0x7fcfa22931c0>,\n",
       " <docx.text.paragraph.Paragraph at 0x7fcfa2293220>,\n",
       " <docx.text.paragraph.Paragraph at 0x7fcfa2293280>,\n",
       " <docx.text.paragraph.Paragraph at 0x7fcfa22932e0>,\n",
       " <docx.text.paragraph.Paragraph at 0x7fcfa2293340>,\n",
       " <docx.text.paragraph.Paragraph at 0x7fcfa22933a0>,\n",
       " <docx.text.paragraph.Paragraph at 0x7fcfa2293400>,\n",
       " <docx.text.paragraph.Paragraph at 0x7fcfa2293460>,\n",
       " <docx.text.paragraph.Paragraph at 0x7fcfa22934c0>,\n",
       " <docx.text.paragraph.Paragraph at 0x7fcfa2293520>,\n",
       " <docx.text.paragraph.Paragraph at 0x7fcfa2293580>,\n",
       " <docx.text.paragraph.Paragraph at 0x7fcfa22935e0>,\n",
       " <docx.text.paragraph.Paragraph at 0x7fcfa2293640>,\n",
       " <docx.text.paragraph.Paragraph at 0x7fcfa22936a0>,\n",
       " <docx.text.paragraph.Paragraph at 0x7fcfa2293700>,\n",
       " <docx.text.paragraph.Paragraph at 0x7fcfa2293760>,\n",
       " <docx.text.paragraph.Paragraph at 0x7fcfa22937c0>,\n",
       " <docx.text.paragraph.Paragraph at 0x7fcfa2293820>,\n",
       " <docx.text.paragraph.Paragraph at 0x7fcfa2293880>,\n",
       " <docx.text.paragraph.Paragraph at 0x7fcfa22938e0>,\n",
       " <docx.text.paragraph.Paragraph at 0x7fcfa2293940>]"
      ]
     },
     "execution_count": 12,
     "metadata": {},
     "output_type": "execute_result"
    }
   ],
   "source": [
    "!pip install python-docx\n",
    "import docx\n",
    "doc = docx.Document('resume.docx')\n",
    "doc.paragraphs\n",
    "#By using doc.paragraphs"
   ]
  },
  {
   "cell_type": "markdown",
   "id": "5f6ed71e",
   "metadata": {},
   "source": [
    "## Question 8:"
   ]
  },
  {
   "cell_type": "code",
   "execution_count": 13,
   "id": "bc72042c",
   "metadata": {},
   "outputs": [],
   "source": [
    "# A Run object has bold, underline,italic,strike and outline variables."
   ]
  },
  {
   "cell_type": "markdown",
   "id": "9ffd3c7e",
   "metadata": {},
   "source": [
    "## Question 9:"
   ]
  },
  {
   "cell_type": "code",
   "execution_count": 14,
   "id": "7e91bc30",
   "metadata": {},
   "outputs": [],
   "source": [
    "# Runs can be further styled using text attributes. Each attribute can be set to one of three values:\n",
    "# True (the attribute is always enabled, no matter what other styles are applied to the run),\n",
    "# False (the attribute is always disabled),\n",
    "# None (defaults to whatever the run’s style is set to)\n",
    "\n",
    "# True always makes the Run object bolded and False makes it always not bolded,\n",
    "# no matter what the style’s bold setting is. None will make the Run object just use the style’s bold setting"
   ]
  },
  {
   "cell_type": "markdown",
   "id": "3689c822",
   "metadata": {},
   "source": [
    "## Question 10:"
   ]
  },
  {
   "cell_type": "code",
   "execution_count": 15,
   "id": "b4c22199",
   "metadata": {},
   "outputs": [],
   "source": [
    "# By calling the docx.Document() method."
   ]
  },
  {
   "cell_type": "markdown",
   "id": "2e22d569",
   "metadata": {},
   "source": [
    "## Question 11"
   ]
  },
  {
   "cell_type": "code",
   "execution_count": 16,
   "id": "26bd5fe6",
   "metadata": {},
   "outputs": [],
   "source": [
    "import docx\n",
    "doc = docx.Document()\n",
    "\n",
    "doc.add_paragraph('Hello there!')\n",
    "doc.save('hellothere.docx')"
   ]
  },
  {
   "cell_type": "markdown",
   "id": "f862e3c8",
   "metadata": {},
   "source": [
    "## Question 12:"
   ]
  },
  {
   "cell_type": "code",
   "execution_count": 17,
   "id": "52066e44",
   "metadata": {},
   "outputs": [],
   "source": [
    "# integer from 0 to 4\n",
    "# The arguments to add_heading() are a string of the heading text and an integer from 0 to 4.\n",
    "# The integer 0 makes the heading the Title style, which is used for the top of the document.\n",
    "# Integers 1 to 4 are for various heading levels, with 1 being the main heading and 4 the lowest subheading"
   ]
  },
  {
   "cell_type": "code",
   "execution_count": null,
   "id": "5095313d",
   "metadata": {},
   "outputs": [],
   "source": []
  }
 ],
 "metadata": {
  "kernelspec": {
   "display_name": "Python 3 (ipykernel)",
   "language": "python",
   "name": "python3"
  },
  "language_info": {
   "codemirror_mode": {
    "name": "ipython",
    "version": 3
   },
   "file_extension": ".py",
   "mimetype": "text/x-python",
   "name": "python",
   "nbconvert_exporter": "python",
   "pygments_lexer": "ipython3",
   "version": "3.9.7"
  }
 },
 "nbformat": 4,
 "nbformat_minor": 5
}
